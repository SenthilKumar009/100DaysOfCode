{
 "metadata": {
  "language_info": {
   "codemirror_mode": {
    "name": "ipython",
    "version": 3
   },
   "file_extension": ".py",
   "mimetype": "text/x-python",
   "name": "python",
   "nbconvert_exporter": "python",
   "pygments_lexer": "ipython3",
   "version": "3.8.5-final"
  },
  "orig_nbformat": 2,
  "kernelspec": {
   "name": "python3",
   "display_name": "Python 3",
   "language": "python"
  }
 },
 "nbformat": 4,
 "nbformat_minor": 2,
 "cells": [
  {
   "cell_type": "code",
   "execution_count": 2,
   "metadata": {},
   "outputs": [],
   "source": [
    "import numpy as np\n",
    "import pandas as pd"
   ]
  },
  {
   "cell_type": "code",
   "execution_count": 3,
   "metadata": {},
   "outputs": [
    {
     "output_type": "execute_result",
     "data": {
      "text/plain": [
       "       name  height\n",
       "0     mohan     5.9\n",
       "1     maria     5.2\n",
       "2     sakib     5.1\n",
       "3       tao     5.5\n",
       "4     virat     4.9\n",
       "5    khusbu     5.4\n",
       "6    dmitry     6.2\n",
       "7    selena     6.5\n",
       "8      john     7.1\n",
       "9     imran    14.5\n",
       "10     jose     6.1\n",
       "11  deepika     5.6\n",
       "12   yoseph     1.2\n",
       "13    binod     5.5"
      ],
      "text/html": "<div>\n<style scoped>\n    .dataframe tbody tr th:only-of-type {\n        vertical-align: middle;\n    }\n\n    .dataframe tbody tr th {\n        vertical-align: top;\n    }\n\n    .dataframe thead th {\n        text-align: right;\n    }\n</style>\n<table border=\"1\" class=\"dataframe\">\n  <thead>\n    <tr style=\"text-align: right;\">\n      <th></th>\n      <th>name</th>\n      <th>height</th>\n    </tr>\n  </thead>\n  <tbody>\n    <tr>\n      <th>0</th>\n      <td>mohan</td>\n      <td>5.9</td>\n    </tr>\n    <tr>\n      <th>1</th>\n      <td>maria</td>\n      <td>5.2</td>\n    </tr>\n    <tr>\n      <th>2</th>\n      <td>sakib</td>\n      <td>5.1</td>\n    </tr>\n    <tr>\n      <th>3</th>\n      <td>tao</td>\n      <td>5.5</td>\n    </tr>\n    <tr>\n      <th>4</th>\n      <td>virat</td>\n      <td>4.9</td>\n    </tr>\n    <tr>\n      <th>5</th>\n      <td>khusbu</td>\n      <td>5.4</td>\n    </tr>\n    <tr>\n      <th>6</th>\n      <td>dmitry</td>\n      <td>6.2</td>\n    </tr>\n    <tr>\n      <th>7</th>\n      <td>selena</td>\n      <td>6.5</td>\n    </tr>\n    <tr>\n      <th>8</th>\n      <td>john</td>\n      <td>7.1</td>\n    </tr>\n    <tr>\n      <th>9</th>\n      <td>imran</td>\n      <td>14.5</td>\n    </tr>\n    <tr>\n      <th>10</th>\n      <td>jose</td>\n      <td>6.1</td>\n    </tr>\n    <tr>\n      <th>11</th>\n      <td>deepika</td>\n      <td>5.6</td>\n    </tr>\n    <tr>\n      <th>12</th>\n      <td>yoseph</td>\n      <td>1.2</td>\n    </tr>\n    <tr>\n      <th>13</th>\n      <td>binod</td>\n      <td>5.5</td>\n    </tr>\n  </tbody>\n</table>\n</div>"
     },
     "metadata": {},
     "execution_count": 3
    }
   ],
   "source": [
    "df = pd.read_csv('heights.csv')\n",
    "df"
   ]
  },
  {
   "cell_type": "code",
   "execution_count": 5,
   "metadata": {},
   "outputs": [
    {
     "output_type": "execute_result",
     "data": {
      "text/plain": [
       "9.689999999999998"
      ]
     },
     "metadata": {},
     "execution_count": 5
    }
   ],
   "source": [
    "max_threshold = df['height'].quantile(.95)\n",
    "max_threshold"
   ]
  },
  {
   "cell_type": "code",
   "execution_count": 6,
   "metadata": {},
   "outputs": [
    {
     "output_type": "execute_result",
     "data": {
      "text/plain": [
       "    name  height\n",
       "9  imran    14.5"
      ],
      "text/html": "<div>\n<style scoped>\n    .dataframe tbody tr th:only-of-type {\n        vertical-align: middle;\n    }\n\n    .dataframe tbody tr th {\n        vertical-align: top;\n    }\n\n    .dataframe thead th {\n        text-align: right;\n    }\n</style>\n<table border=\"1\" class=\"dataframe\">\n  <thead>\n    <tr style=\"text-align: right;\">\n      <th></th>\n      <th>name</th>\n      <th>height</th>\n    </tr>\n  </thead>\n  <tbody>\n    <tr>\n      <th>9</th>\n      <td>imran</td>\n      <td>14.5</td>\n    </tr>\n  </tbody>\n</table>\n</div>"
     },
     "metadata": {},
     "execution_count": 6
    }
   ],
   "source": [
    "df[df['height'] > max_threshold]"
   ]
  },
  {
   "cell_type": "code",
   "execution_count": 8,
   "metadata": {},
   "outputs": [
    {
     "output_type": "execute_result",
     "data": {
      "text/plain": [
       "3.6050000000000004"
      ]
     },
     "metadata": {},
     "execution_count": 8
    }
   ],
   "source": [
    "min_threshold = df['height'].quantile(.05)\n",
    "min_threshold"
   ]
  },
  {
   "cell_type": "code",
   "execution_count": 9,
   "metadata": {},
   "outputs": [
    {
     "output_type": "execute_result",
     "data": {
      "text/plain": [
       "      name  height\n",
       "12  yoseph     1.2"
      ],
      "text/html": "<div>\n<style scoped>\n    .dataframe tbody tr th:only-of-type {\n        vertical-align: middle;\n    }\n\n    .dataframe tbody tr th {\n        vertical-align: top;\n    }\n\n    .dataframe thead th {\n        text-align: right;\n    }\n</style>\n<table border=\"1\" class=\"dataframe\">\n  <thead>\n    <tr style=\"text-align: right;\">\n      <th></th>\n      <th>name</th>\n      <th>height</th>\n    </tr>\n  </thead>\n  <tbody>\n    <tr>\n      <th>12</th>\n      <td>yoseph</td>\n      <td>1.2</td>\n    </tr>\n  </tbody>\n</table>\n</div>"
     },
     "metadata": {},
     "execution_count": 9
    }
   ],
   "source": [
    "df[df['height'] < min_threshold]"
   ]
  },
  {
   "cell_type": "code",
   "execution_count": 11,
   "metadata": {},
   "outputs": [
    {
     "output_type": "execute_result",
     "data": {
      "text/plain": [
       "       name  height\n",
       "0     mohan     5.9\n",
       "1     maria     5.2\n",
       "2     sakib     5.1\n",
       "3       tao     5.5\n",
       "4     virat     4.9\n",
       "5    khusbu     5.4\n",
       "6    dmitry     6.2\n",
       "7    selena     6.5\n",
       "8      john     7.1\n",
       "10     jose     6.1\n",
       "11  deepika     5.6\n",
       "13    binod     5.5"
      ],
      "text/html": "<div>\n<style scoped>\n    .dataframe tbody tr th:only-of-type {\n        vertical-align: middle;\n    }\n\n    .dataframe tbody tr th {\n        vertical-align: top;\n    }\n\n    .dataframe thead th {\n        text-align: right;\n    }\n</style>\n<table border=\"1\" class=\"dataframe\">\n  <thead>\n    <tr style=\"text-align: right;\">\n      <th></th>\n      <th>name</th>\n      <th>height</th>\n    </tr>\n  </thead>\n  <tbody>\n    <tr>\n      <th>0</th>\n      <td>mohan</td>\n      <td>5.9</td>\n    </tr>\n    <tr>\n      <th>1</th>\n      <td>maria</td>\n      <td>5.2</td>\n    </tr>\n    <tr>\n      <th>2</th>\n      <td>sakib</td>\n      <td>5.1</td>\n    </tr>\n    <tr>\n      <th>3</th>\n      <td>tao</td>\n      <td>5.5</td>\n    </tr>\n    <tr>\n      <th>4</th>\n      <td>virat</td>\n      <td>4.9</td>\n    </tr>\n    <tr>\n      <th>5</th>\n      <td>khusbu</td>\n      <td>5.4</td>\n    </tr>\n    <tr>\n      <th>6</th>\n      <td>dmitry</td>\n      <td>6.2</td>\n    </tr>\n    <tr>\n      <th>7</th>\n      <td>selena</td>\n      <td>6.5</td>\n    </tr>\n    <tr>\n      <th>8</th>\n      <td>john</td>\n      <td>7.1</td>\n    </tr>\n    <tr>\n      <th>10</th>\n      <td>jose</td>\n      <td>6.1</td>\n    </tr>\n    <tr>\n      <th>11</th>\n      <td>deepika</td>\n      <td>5.6</td>\n    </tr>\n    <tr>\n      <th>13</th>\n      <td>binod</td>\n      <td>5.5</td>\n    </tr>\n  </tbody>\n</table>\n</div>"
     },
     "metadata": {},
     "execution_count": 11
    }
   ],
   "source": [
    "df[(df['height'] < max_threshold) & (df['height'] > min_threshold)]"
   ]
  },
  {
   "cell_type": "code",
   "execution_count": 13,
   "metadata": {},
   "outputs": [
    {
     "output_type": "execute_result",
     "data": {
      "text/plain": [
       "                   location       size  total_sqft  bath   price  bhk  \\\n",
       "0  Electronic City Phase II      2 BHK      1056.0   2.0   39.07    2   \n",
       "1          Chikka Tirupathi  4 Bedroom      2600.0   5.0  120.00    4   \n",
       "2               Uttarahalli      3 BHK      1440.0   2.0   62.00    3   \n",
       "3        Lingadheeranahalli      3 BHK      1521.0   3.0   95.00    3   \n",
       "4                  Kothanur      2 BHK      1200.0   2.0   51.00    2   \n",
       "\n",
       "   price_per_sqft  \n",
       "0            3699  \n",
       "1            4615  \n",
       "2            4305  \n",
       "3            6245  \n",
       "4            4250  "
      ],
      "text/html": "<div>\n<style scoped>\n    .dataframe tbody tr th:only-of-type {\n        vertical-align: middle;\n    }\n\n    .dataframe tbody tr th {\n        vertical-align: top;\n    }\n\n    .dataframe thead th {\n        text-align: right;\n    }\n</style>\n<table border=\"1\" class=\"dataframe\">\n  <thead>\n    <tr style=\"text-align: right;\">\n      <th></th>\n      <th>location</th>\n      <th>size</th>\n      <th>total_sqft</th>\n      <th>bath</th>\n      <th>price</th>\n      <th>bhk</th>\n      <th>price_per_sqft</th>\n    </tr>\n  </thead>\n  <tbody>\n    <tr>\n      <th>0</th>\n      <td>Electronic City Phase II</td>\n      <td>2 BHK</td>\n      <td>1056.0</td>\n      <td>2.0</td>\n      <td>39.07</td>\n      <td>2</td>\n      <td>3699</td>\n    </tr>\n    <tr>\n      <th>1</th>\n      <td>Chikka Tirupathi</td>\n      <td>4 Bedroom</td>\n      <td>2600.0</td>\n      <td>5.0</td>\n      <td>120.00</td>\n      <td>4</td>\n      <td>4615</td>\n    </tr>\n    <tr>\n      <th>2</th>\n      <td>Uttarahalli</td>\n      <td>3 BHK</td>\n      <td>1440.0</td>\n      <td>2.0</td>\n      <td>62.00</td>\n      <td>3</td>\n      <td>4305</td>\n    </tr>\n    <tr>\n      <th>3</th>\n      <td>Lingadheeranahalli</td>\n      <td>3 BHK</td>\n      <td>1521.0</td>\n      <td>3.0</td>\n      <td>95.00</td>\n      <td>3</td>\n      <td>6245</td>\n    </tr>\n    <tr>\n      <th>4</th>\n      <td>Kothanur</td>\n      <td>2 BHK</td>\n      <td>1200.0</td>\n      <td>2.0</td>\n      <td>51.00</td>\n      <td>2</td>\n      <td>4250</td>\n    </tr>\n  </tbody>\n</table>\n</div>"
     },
     "metadata": {},
     "execution_count": 13
    }
   ],
   "source": [
    "df= pd.read_csv('bhp.csv')\n",
    "df.head()"
   ]
  },
  {
   "cell_type": "code",
   "execution_count": 14,
   "metadata": {},
   "outputs": [
    {
     "output_type": "execute_result",
     "data": {
      "text/plain": [
       "(13200, 7)"
      ]
     },
     "metadata": {},
     "execution_count": 14
    }
   ],
   "source": [
    "df.shape"
   ]
  },
  {
   "cell_type": "code",
   "execution_count": 15,
   "metadata": {},
   "outputs": [
    {
     "output_type": "execute_result",
     "data": {
      "text/plain": [
       "         total_sqft          bath         price           bhk  price_per_sqft\n",
       "count  13200.000000  13200.000000  13200.000000  13200.000000    1.320000e+04\n",
       "mean    1555.302783      2.691136    112.276178      2.800833    7.920337e+03\n",
       "std     1237.323445      1.338915    149.175995      1.292843    1.067272e+05\n",
       "min        1.000000      1.000000      8.000000      1.000000    2.670000e+02\n",
       "25%     1100.000000      2.000000     50.000000      2.000000    4.267000e+03\n",
       "50%     1275.000000      2.000000     71.850000      3.000000    5.438000e+03\n",
       "75%     1672.000000      3.000000    120.000000      3.000000    7.317000e+03\n",
       "max    52272.000000     40.000000   3600.000000     43.000000    1.200000e+07"
      ],
      "text/html": "<div>\n<style scoped>\n    .dataframe tbody tr th:only-of-type {\n        vertical-align: middle;\n    }\n\n    .dataframe tbody tr th {\n        vertical-align: top;\n    }\n\n    .dataframe thead th {\n        text-align: right;\n    }\n</style>\n<table border=\"1\" class=\"dataframe\">\n  <thead>\n    <tr style=\"text-align: right;\">\n      <th></th>\n      <th>total_sqft</th>\n      <th>bath</th>\n      <th>price</th>\n      <th>bhk</th>\n      <th>price_per_sqft</th>\n    </tr>\n  </thead>\n  <tbody>\n    <tr>\n      <th>count</th>\n      <td>13200.000000</td>\n      <td>13200.000000</td>\n      <td>13200.000000</td>\n      <td>13200.000000</td>\n      <td>1.320000e+04</td>\n    </tr>\n    <tr>\n      <th>mean</th>\n      <td>1555.302783</td>\n      <td>2.691136</td>\n      <td>112.276178</td>\n      <td>2.800833</td>\n      <td>7.920337e+03</td>\n    </tr>\n    <tr>\n      <th>std</th>\n      <td>1237.323445</td>\n      <td>1.338915</td>\n      <td>149.175995</td>\n      <td>1.292843</td>\n      <td>1.067272e+05</td>\n    </tr>\n    <tr>\n      <th>min</th>\n      <td>1.000000</td>\n      <td>1.000000</td>\n      <td>8.000000</td>\n      <td>1.000000</td>\n      <td>2.670000e+02</td>\n    </tr>\n    <tr>\n      <th>25%</th>\n      <td>1100.000000</td>\n      <td>2.000000</td>\n      <td>50.000000</td>\n      <td>2.000000</td>\n      <td>4.267000e+03</td>\n    </tr>\n    <tr>\n      <th>50%</th>\n      <td>1275.000000</td>\n      <td>2.000000</td>\n      <td>71.850000</td>\n      <td>3.000000</td>\n      <td>5.438000e+03</td>\n    </tr>\n    <tr>\n      <th>75%</th>\n      <td>1672.000000</td>\n      <td>3.000000</td>\n      <td>120.000000</td>\n      <td>3.000000</td>\n      <td>7.317000e+03</td>\n    </tr>\n    <tr>\n      <th>max</th>\n      <td>52272.000000</td>\n      <td>40.000000</td>\n      <td>3600.000000</td>\n      <td>43.000000</td>\n      <td>1.200000e+07</td>\n    </tr>\n  </tbody>\n</table>\n</div>"
     },
     "metadata": {},
     "execution_count": 15
    }
   ],
   "source": [
    "df.describe()"
   ]
  },
  {
   "cell_type": "code",
   "execution_count": 17,
   "metadata": {},
   "outputs": [
    {
     "output_type": "execute_result",
     "data": {
      "text/plain": [
       "(1366.184, 50959.36200000099)"
      ]
     },
     "metadata": {},
     "execution_count": 17
    }
   ],
   "source": [
    "min_threshold, max_threshold = df.price_per_sqft.quantile([0.001, 0.999])\n",
    "min_threshold, max_threshold"
   ]
  },
  {
   "cell_type": "code",
   "execution_count": 18,
   "metadata": {},
   "outputs": [
    {
     "output_type": "execute_result",
     "data": {
      "text/plain": [
       "        location       size  total_sqft  bath  price  bhk  price_per_sqft\n",
       "665    Yelahanka      3 BHK     35000.0   3.0  130.0    3             371\n",
       "798        other  4 Bedroom     10961.0   4.0   80.0    4             729\n",
       "1867       other  3 Bedroom     52272.0   2.0  140.0    3             267\n",
       "2392       other  4 Bedroom      2000.0   3.0   25.0    4            1250\n",
       "3934       other      1 BHK      1500.0   1.0   19.5    1            1300\n",
       "5343       other      9 BHK     42000.0   8.0  175.0    9             416\n",
       "5417      Ulsoor      4 BHK     36000.0   4.0  450.0    4            1250\n",
       "5597    JP Nagar      2 BHK      1100.0   1.0   15.0    2            1363\n",
       "7166   Yelahanka  1 Bedroom     26136.0   1.0  150.0    1             573\n",
       "7862    JP Nagar      3 BHK     20000.0   3.0  175.0    3             875\n",
       "8300     Kengeri      1 BHK      1200.0   1.0   14.0    1            1166\n",
       "9144       other  4 Bedroom     10961.0   4.0   80.0    4             729\n",
       "11635      Begur      3 BHK      2400.0   3.0   12.0    3             500\n",
       "12355      other      4 BHK     16335.0   4.0  149.0    4             912"
      ],
      "text/html": "<div>\n<style scoped>\n    .dataframe tbody tr th:only-of-type {\n        vertical-align: middle;\n    }\n\n    .dataframe tbody tr th {\n        vertical-align: top;\n    }\n\n    .dataframe thead th {\n        text-align: right;\n    }\n</style>\n<table border=\"1\" class=\"dataframe\">\n  <thead>\n    <tr style=\"text-align: right;\">\n      <th></th>\n      <th>location</th>\n      <th>size</th>\n      <th>total_sqft</th>\n      <th>bath</th>\n      <th>price</th>\n      <th>bhk</th>\n      <th>price_per_sqft</th>\n    </tr>\n  </thead>\n  <tbody>\n    <tr>\n      <th>665</th>\n      <td>Yelahanka</td>\n      <td>3 BHK</td>\n      <td>35000.0</td>\n      <td>3.0</td>\n      <td>130.0</td>\n      <td>3</td>\n      <td>371</td>\n    </tr>\n    <tr>\n      <th>798</th>\n      <td>other</td>\n      <td>4 Bedroom</td>\n      <td>10961.0</td>\n      <td>4.0</td>\n      <td>80.0</td>\n      <td>4</td>\n      <td>729</td>\n    </tr>\n    <tr>\n      <th>1867</th>\n      <td>other</td>\n      <td>3 Bedroom</td>\n      <td>52272.0</td>\n      <td>2.0</td>\n      <td>140.0</td>\n      <td>3</td>\n      <td>267</td>\n    </tr>\n    <tr>\n      <th>2392</th>\n      <td>other</td>\n      <td>4 Bedroom</td>\n      <td>2000.0</td>\n      <td>3.0</td>\n      <td>25.0</td>\n      <td>4</td>\n      <td>1250</td>\n    </tr>\n    <tr>\n      <th>3934</th>\n      <td>other</td>\n      <td>1 BHK</td>\n      <td>1500.0</td>\n      <td>1.0</td>\n      <td>19.5</td>\n      <td>1</td>\n      <td>1300</td>\n    </tr>\n    <tr>\n      <th>5343</th>\n      <td>other</td>\n      <td>9 BHK</td>\n      <td>42000.0</td>\n      <td>8.0</td>\n      <td>175.0</td>\n      <td>9</td>\n      <td>416</td>\n    </tr>\n    <tr>\n      <th>5417</th>\n      <td>Ulsoor</td>\n      <td>4 BHK</td>\n      <td>36000.0</td>\n      <td>4.0</td>\n      <td>450.0</td>\n      <td>4</td>\n      <td>1250</td>\n    </tr>\n    <tr>\n      <th>5597</th>\n      <td>JP Nagar</td>\n      <td>2 BHK</td>\n      <td>1100.0</td>\n      <td>1.0</td>\n      <td>15.0</td>\n      <td>2</td>\n      <td>1363</td>\n    </tr>\n    <tr>\n      <th>7166</th>\n      <td>Yelahanka</td>\n      <td>1 Bedroom</td>\n      <td>26136.0</td>\n      <td>1.0</td>\n      <td>150.0</td>\n      <td>1</td>\n      <td>573</td>\n    </tr>\n    <tr>\n      <th>7862</th>\n      <td>JP Nagar</td>\n      <td>3 BHK</td>\n      <td>20000.0</td>\n      <td>3.0</td>\n      <td>175.0</td>\n      <td>3</td>\n      <td>875</td>\n    </tr>\n    <tr>\n      <th>8300</th>\n      <td>Kengeri</td>\n      <td>1 BHK</td>\n      <td>1200.0</td>\n      <td>1.0</td>\n      <td>14.0</td>\n      <td>1</td>\n      <td>1166</td>\n    </tr>\n    <tr>\n      <th>9144</th>\n      <td>other</td>\n      <td>4 Bedroom</td>\n      <td>10961.0</td>\n      <td>4.0</td>\n      <td>80.0</td>\n      <td>4</td>\n      <td>729</td>\n    </tr>\n    <tr>\n      <th>11635</th>\n      <td>Begur</td>\n      <td>3 BHK</td>\n      <td>2400.0</td>\n      <td>3.0</td>\n      <td>12.0</td>\n      <td>3</td>\n      <td>500</td>\n    </tr>\n    <tr>\n      <th>12355</th>\n      <td>other</td>\n      <td>4 BHK</td>\n      <td>16335.0</td>\n      <td>4.0</td>\n      <td>149.0</td>\n      <td>4</td>\n      <td>912</td>\n    </tr>\n  </tbody>\n</table>\n</div>"
     },
     "metadata": {},
     "execution_count": 18
    }
   ],
   "source": [
    "df[df.price_per_sqft < min_threshold]"
   ]
  },
  {
   "cell_type": "code",
   "execution_count": 19,
   "metadata": {},
   "outputs": [
    {
     "output_type": "execute_result",
     "data": {
      "text/plain": [
       "                       location       size  total_sqft  bath   price  bhk  \\\n",
       "0      Electronic City Phase II      2 BHK      1056.0   2.0   39.07    2   \n",
       "1              Chikka Tirupathi  4 Bedroom      2600.0   5.0  120.00    4   \n",
       "2                   Uttarahalli      3 BHK      1440.0   2.0   62.00    3   \n",
       "3            Lingadheeranahalli      3 BHK      1521.0   3.0   95.00    3   \n",
       "4                      Kothanur      2 BHK      1200.0   2.0   51.00    2   \n",
       "...                         ...        ...         ...   ...     ...  ...   \n",
       "13195                Whitefield  5 Bedroom      3453.0   4.0  231.00    5   \n",
       "13196                     other      4 BHK      3600.0   5.0  400.00    4   \n",
       "13197     Raja Rajeshwari Nagar      2 BHK      1141.0   2.0   60.00    2   \n",
       "13198           Padmanabhanagar      4 BHK      4689.0   4.0  488.00    4   \n",
       "13199              Doddathoguru      1 BHK       550.0   1.0   17.00    1   \n",
       "\n",
       "       price_per_sqft  \n",
       "0                3699  \n",
       "1                4615  \n",
       "2                4305  \n",
       "3                6245  \n",
       "4                4250  \n",
       "...               ...  \n",
       "13195            6689  \n",
       "13196           11111  \n",
       "13197            5258  \n",
       "13198           10407  \n",
       "13199            3090  \n",
       "\n",
       "[13186 rows x 7 columns]"
      ],
      "text/html": "<div>\n<style scoped>\n    .dataframe tbody tr th:only-of-type {\n        vertical-align: middle;\n    }\n\n    .dataframe tbody tr th {\n        vertical-align: top;\n    }\n\n    .dataframe thead th {\n        text-align: right;\n    }\n</style>\n<table border=\"1\" class=\"dataframe\">\n  <thead>\n    <tr style=\"text-align: right;\">\n      <th></th>\n      <th>location</th>\n      <th>size</th>\n      <th>total_sqft</th>\n      <th>bath</th>\n      <th>price</th>\n      <th>bhk</th>\n      <th>price_per_sqft</th>\n    </tr>\n  </thead>\n  <tbody>\n    <tr>\n      <th>0</th>\n      <td>Electronic City Phase II</td>\n      <td>2 BHK</td>\n      <td>1056.0</td>\n      <td>2.0</td>\n      <td>39.07</td>\n      <td>2</td>\n      <td>3699</td>\n    </tr>\n    <tr>\n      <th>1</th>\n      <td>Chikka Tirupathi</td>\n      <td>4 Bedroom</td>\n      <td>2600.0</td>\n      <td>5.0</td>\n      <td>120.00</td>\n      <td>4</td>\n      <td>4615</td>\n    </tr>\n    <tr>\n      <th>2</th>\n      <td>Uttarahalli</td>\n      <td>3 BHK</td>\n      <td>1440.0</td>\n      <td>2.0</td>\n      <td>62.00</td>\n      <td>3</td>\n      <td>4305</td>\n    </tr>\n    <tr>\n      <th>3</th>\n      <td>Lingadheeranahalli</td>\n      <td>3 BHK</td>\n      <td>1521.0</td>\n      <td>3.0</td>\n      <td>95.00</td>\n      <td>3</td>\n      <td>6245</td>\n    </tr>\n    <tr>\n      <th>4</th>\n      <td>Kothanur</td>\n      <td>2 BHK</td>\n      <td>1200.0</td>\n      <td>2.0</td>\n      <td>51.00</td>\n      <td>2</td>\n      <td>4250</td>\n    </tr>\n    <tr>\n      <th>...</th>\n      <td>...</td>\n      <td>...</td>\n      <td>...</td>\n      <td>...</td>\n      <td>...</td>\n      <td>...</td>\n      <td>...</td>\n    </tr>\n    <tr>\n      <th>13195</th>\n      <td>Whitefield</td>\n      <td>5 Bedroom</td>\n      <td>3453.0</td>\n      <td>4.0</td>\n      <td>231.00</td>\n      <td>5</td>\n      <td>6689</td>\n    </tr>\n    <tr>\n      <th>13196</th>\n      <td>other</td>\n      <td>4 BHK</td>\n      <td>3600.0</td>\n      <td>5.0</td>\n      <td>400.00</td>\n      <td>4</td>\n      <td>11111</td>\n    </tr>\n    <tr>\n      <th>13197</th>\n      <td>Raja Rajeshwari Nagar</td>\n      <td>2 BHK</td>\n      <td>1141.0</td>\n      <td>2.0</td>\n      <td>60.00</td>\n      <td>2</td>\n      <td>5258</td>\n    </tr>\n    <tr>\n      <th>13198</th>\n      <td>Padmanabhanagar</td>\n      <td>4 BHK</td>\n      <td>4689.0</td>\n      <td>4.0</td>\n      <td>488.00</td>\n      <td>4</td>\n      <td>10407</td>\n    </tr>\n    <tr>\n      <th>13199</th>\n      <td>Doddathoguru</td>\n      <td>1 BHK</td>\n      <td>550.0</td>\n      <td>1.0</td>\n      <td>17.00</td>\n      <td>1</td>\n      <td>3090</td>\n    </tr>\n  </tbody>\n</table>\n<p>13186 rows × 7 columns</p>\n</div>"
     },
     "metadata": {},
     "execution_count": 19
    }
   ],
   "source": [
    "df[df.price_per_sqft > min_threshold]"
   ]
  },
  {
   "cell_type": "code",
   "execution_count": 20,
   "metadata": {},
   "outputs": [
    {
     "output_type": "execute_result",
     "data": {
      "text/plain": [
       "(13172, 7)"
      ]
     },
     "metadata": {},
     "execution_count": 20
    }
   ],
   "source": [
    "df = df[(df.price_per_sqft < max_threshold) & (df.price_per_sqft > min_threshold)]\n",
    "df.shape"
   ]
  },
  {
   "cell_type": "code",
   "execution_count": 21,
   "metadata": {},
   "outputs": [
    {
     "output_type": "execute_result",
     "data": {
      "text/plain": [
       "                   location       size  total_sqft  bath   price  bhk  \\\n",
       "9907                  other  8 Bedroom       600.0   4.0  175.00    8   \n",
       "6947         Dodda Nekkundi      3 BHK      1829.0   3.0  125.00    3   \n",
       "4749           Indira Nagar      2 BHK      1145.0   2.0  100.00    2   \n",
       "12832                Hebbal      3 BHK      1662.0   3.0  155.00    3   \n",
       "9058              Gubbalala  4 Bedroom      2000.0   4.0   85.00    4   \n",
       "6473             Whitefield  4 Bedroom      3425.0   5.0  250.00    4   \n",
       "1267         Kanakpura Road      3 BHK      1542.0   2.0   85.00    3   \n",
       "8274   Poorna Pragna Layout      2 BHK      1160.0   2.0   46.39    2   \n",
       "7147             Pai Layout      2 BHK       810.0   2.0   34.50    2   \n",
       "5800               Shampura  6 Bedroom      1150.0   6.0   75.00    6   \n",
       "\n",
       "       price_per_sqft  \n",
       "9907            29166  \n",
       "6947             6834  \n",
       "4749             8733  \n",
       "12832            9326  \n",
       "9058             4250  \n",
       "6473             7299  \n",
       "1267             5512  \n",
       "8274             3999  \n",
       "7147             4259  \n",
       "5800             6521  "
      ],
      "text/html": "<div>\n<style scoped>\n    .dataframe tbody tr th:only-of-type {\n        vertical-align: middle;\n    }\n\n    .dataframe tbody tr th {\n        vertical-align: top;\n    }\n\n    .dataframe thead th {\n        text-align: right;\n    }\n</style>\n<table border=\"1\" class=\"dataframe\">\n  <thead>\n    <tr style=\"text-align: right;\">\n      <th></th>\n      <th>location</th>\n      <th>size</th>\n      <th>total_sqft</th>\n      <th>bath</th>\n      <th>price</th>\n      <th>bhk</th>\n      <th>price_per_sqft</th>\n    </tr>\n  </thead>\n  <tbody>\n    <tr>\n      <th>9907</th>\n      <td>other</td>\n      <td>8 Bedroom</td>\n      <td>600.0</td>\n      <td>4.0</td>\n      <td>175.00</td>\n      <td>8</td>\n      <td>29166</td>\n    </tr>\n    <tr>\n      <th>6947</th>\n      <td>Dodda Nekkundi</td>\n      <td>3 BHK</td>\n      <td>1829.0</td>\n      <td>3.0</td>\n      <td>125.00</td>\n      <td>3</td>\n      <td>6834</td>\n    </tr>\n    <tr>\n      <th>4749</th>\n      <td>Indira Nagar</td>\n      <td>2 BHK</td>\n      <td>1145.0</td>\n      <td>2.0</td>\n      <td>100.00</td>\n      <td>2</td>\n      <td>8733</td>\n    </tr>\n    <tr>\n      <th>12832</th>\n      <td>Hebbal</td>\n      <td>3 BHK</td>\n      <td>1662.0</td>\n      <td>3.0</td>\n      <td>155.00</td>\n      <td>3</td>\n      <td>9326</td>\n    </tr>\n    <tr>\n      <th>9058</th>\n      <td>Gubbalala</td>\n      <td>4 Bedroom</td>\n      <td>2000.0</td>\n      <td>4.0</td>\n      <td>85.00</td>\n      <td>4</td>\n      <td>4250</td>\n    </tr>\n    <tr>\n      <th>6473</th>\n      <td>Whitefield</td>\n      <td>4 Bedroom</td>\n      <td>3425.0</td>\n      <td>5.0</td>\n      <td>250.00</td>\n      <td>4</td>\n      <td>7299</td>\n    </tr>\n    <tr>\n      <th>1267</th>\n      <td>Kanakpura Road</td>\n      <td>3 BHK</td>\n      <td>1542.0</td>\n      <td>2.0</td>\n      <td>85.00</td>\n      <td>3</td>\n      <td>5512</td>\n    </tr>\n    <tr>\n      <th>8274</th>\n      <td>Poorna Pragna Layout</td>\n      <td>2 BHK</td>\n      <td>1160.0</td>\n      <td>2.0</td>\n      <td>46.39</td>\n      <td>2</td>\n      <td>3999</td>\n    </tr>\n    <tr>\n      <th>7147</th>\n      <td>Pai Layout</td>\n      <td>2 BHK</td>\n      <td>810.0</td>\n      <td>2.0</td>\n      <td>34.50</td>\n      <td>2</td>\n      <td>4259</td>\n    </tr>\n    <tr>\n      <th>5800</th>\n      <td>Shampura</td>\n      <td>6 Bedroom</td>\n      <td>1150.0</td>\n      <td>6.0</td>\n      <td>75.00</td>\n      <td>6</td>\n      <td>6521</td>\n    </tr>\n  </tbody>\n</table>\n</div>"
     },
     "metadata": {},
     "execution_count": 21
    }
   ],
   "source": [
    "df.sample(10)"
   ]
  },
  {
   "cell_type": "code",
   "execution_count": null,
   "metadata": {},
   "outputs": [],
   "source": []
  }
 ]
}