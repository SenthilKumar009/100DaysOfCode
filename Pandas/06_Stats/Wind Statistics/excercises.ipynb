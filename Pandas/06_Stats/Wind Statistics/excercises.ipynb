{
 "metadata": {
  "language_info": {
   "codemirror_mode": {
    "name": "ipython",
    "version": 3
   },
   "file_extension": ".py",
   "mimetype": "text/x-python",
   "name": "python",
   "nbconvert_exporter": "python",
   "pygments_lexer": "ipython3",
   "version": "3.8.3-final"
  },
  "orig_nbformat": 2,
  "kernelspec": {
   "name": "python38364bitcondae64fd4e37bd64244844cf698dee9177b",
   "display_name": "Python 3.8.3 64-bit (conda)"
  }
 },
 "nbformat": 4,
 "nbformat_minor": 2,
 "cells": [
  {
   "source": [
    "# Wind Statistics"
   ],
   "cell_type": "markdown",
   "metadata": {}
  },
  {
   "source": [
    "## Introduction:"
   ],
   "cell_type": "markdown",
   "metadata": {}
  },
  {
   "source": [
    "The data have been modified to contain some missing values, identified by NaN.\n",
    "Using pandas should make this exercise easier, in particular for the bonus question."
   ],
   "cell_type": "markdown",
   "metadata": {}
  },
  {
   "source": [
    "You should be able to perform all of these operations without using a for loop or other looping construct."
   ],
   "cell_type": "markdown",
   "metadata": {}
  },
  {
   "cell_type": "code",
   "execution_count": 1,
   "metadata": {},
   "outputs": [],
   "source": [
    "# Step 1: Import Libraries\n",
    "import pandas as pd\n",
    "import numpy as np"
   ]
  },
  {
   "cell_type": "code",
   "execution_count": 2,
   "metadata": {},
   "outputs": [
    {
     "output_type": "execute_result",
     "data": {
      "text/plain": "   Yr  Mo  Dy    RPT    VAL    ROS    KIL    SHA   BIR    DUB    CLA    MUL  \\\n0  61   1   1  15.04  14.96  13.17   9.29    NaN  9.87  13.67  10.25  10.83   \n1  61   1   2  14.71    NaN  10.83   6.50  12.62  7.67  11.50  10.04   9.79   \n2  61   1   3  18.50  16.88  12.33  10.13  11.17  6.17  11.25    NaN   8.50   \n3  61   1   4  10.58   6.63  11.75   4.58   4.54  2.88   8.63   1.79   5.83   \n4  61   1   5  13.33  13.25  11.42   6.17  10.71  8.21  11.92   6.54  10.92   \n\n     CLO    BEL    MAL  \n0  12.58  18.50  15.04  \n1   9.67  17.54  13.83  \n2   7.67  12.75  12.71  \n3   5.88   5.46  10.88  \n4  10.34  12.92  11.83  ",
      "text/html": "<div>\n<style scoped>\n    .dataframe tbody tr th:only-of-type {\n        vertical-align: middle;\n    }\n\n    .dataframe tbody tr th {\n        vertical-align: top;\n    }\n\n    .dataframe thead th {\n        text-align: right;\n    }\n</style>\n<table border=\"1\" class=\"dataframe\">\n  <thead>\n    <tr style=\"text-align: right;\">\n      <th></th>\n      <th>Yr</th>\n      <th>Mo</th>\n      <th>Dy</th>\n      <th>RPT</th>\n      <th>VAL</th>\n      <th>ROS</th>\n      <th>KIL</th>\n      <th>SHA</th>\n      <th>BIR</th>\n      <th>DUB</th>\n      <th>CLA</th>\n      <th>MUL</th>\n      <th>CLO</th>\n      <th>BEL</th>\n      <th>MAL</th>\n    </tr>\n  </thead>\n  <tbody>\n    <tr>\n      <th>0</th>\n      <td>61</td>\n      <td>1</td>\n      <td>1</td>\n      <td>15.04</td>\n      <td>14.96</td>\n      <td>13.17</td>\n      <td>9.29</td>\n      <td>NaN</td>\n      <td>9.87</td>\n      <td>13.67</td>\n      <td>10.25</td>\n      <td>10.83</td>\n      <td>12.58</td>\n      <td>18.50</td>\n      <td>15.04</td>\n    </tr>\n    <tr>\n      <th>1</th>\n      <td>61</td>\n      <td>1</td>\n      <td>2</td>\n      <td>14.71</td>\n      <td>NaN</td>\n      <td>10.83</td>\n      <td>6.50</td>\n      <td>12.62</td>\n      <td>7.67</td>\n      <td>11.50</td>\n      <td>10.04</td>\n      <td>9.79</td>\n      <td>9.67</td>\n      <td>17.54</td>\n      <td>13.83</td>\n    </tr>\n    <tr>\n      <th>2</th>\n      <td>61</td>\n      <td>1</td>\n      <td>3</td>\n      <td>18.50</td>\n      <td>16.88</td>\n      <td>12.33</td>\n      <td>10.13</td>\n      <td>11.17</td>\n      <td>6.17</td>\n      <td>11.25</td>\n      <td>NaN</td>\n      <td>8.50</td>\n      <td>7.67</td>\n      <td>12.75</td>\n      <td>12.71</td>\n    </tr>\n    <tr>\n      <th>3</th>\n      <td>61</td>\n      <td>1</td>\n      <td>4</td>\n      <td>10.58</td>\n      <td>6.63</td>\n      <td>11.75</td>\n      <td>4.58</td>\n      <td>4.54</td>\n      <td>2.88</td>\n      <td>8.63</td>\n      <td>1.79</td>\n      <td>5.83</td>\n      <td>5.88</td>\n      <td>5.46</td>\n      <td>10.88</td>\n    </tr>\n    <tr>\n      <th>4</th>\n      <td>61</td>\n      <td>1</td>\n      <td>5</td>\n      <td>13.33</td>\n      <td>13.25</td>\n      <td>11.42</td>\n      <td>6.17</td>\n      <td>10.71</td>\n      <td>8.21</td>\n      <td>11.92</td>\n      <td>6.54</td>\n      <td>10.92</td>\n      <td>10.34</td>\n      <td>12.92</td>\n      <td>11.83</td>\n    </tr>\n  </tbody>\n</table>\n</div>"
     },
     "metadata": {},
     "execution_count": 2
    }
   ],
   "source": [
    "# Step 2: Read Data from the URL\n",
    "url = 'https://raw.githubusercontent.com/guipsamora/pandas_exercises/master/06_Stats/Wind_Stats/wind.data'\n",
    "wind_data = pd.read_csv(url, sep='\\s+')\n",
    "#wind_data = pd.read_csv(url, sep='\\s+', parse_dates= = [[0,1,2]])\n",
    "wind_data.head()"
   ]
  },
  {
   "cell_type": "code",
   "execution_count": 3,
   "metadata": {
    "tags": []
   },
   "outputs": [
    {
     "output_type": "stream",
     "name": "stdout",
     "text": "<class 'pandas.core.frame.DataFrame'>\nRangeIndex: 6574 entries, 0 to 6573\nData columns (total 15 columns):\n #   Column  Non-Null Count  Dtype  \n---  ------  --------------  -----  \n 0   Yr      6574 non-null   int64  \n 1   Mo      6574 non-null   int64  \n 2   Dy      6574 non-null   int64  \n 3   RPT     6568 non-null   float64\n 4   VAL     6571 non-null   float64\n 5   ROS     6572 non-null   float64\n 6   KIL     6569 non-null   float64\n 7   SHA     6572 non-null   float64\n 8   BIR     6574 non-null   float64\n 9   DUB     6571 non-null   float64\n 10  CLA     6572 non-null   float64\n 11  MUL     6571 non-null   float64\n 12  CLO     6573 non-null   float64\n 13  BEL     6574 non-null   float64\n 14  MAL     6570 non-null   float64\ndtypes: float64(12), int64(3)\nmemory usage: 770.5 KB\n"
    }
   ],
   "source": [
    "wind_data.info()"
   ]
  },
  {
   "cell_type": "code",
   "execution_count": 4,
   "metadata": {},
   "outputs": [],
   "source": [
    "# Step 3: Assign it to a variable called data and replace the first 3 columns be a proper datetime index\n",
    "\n",
    "wind_data['date_string'] = wind_data.Yr.astype(str) + '-' + wind_data.Mo.astype(str) + '-' + wind_data.Dy.astype(str)"
   ]
  },
  {
   "cell_type": "code",
   "execution_count": 5,
   "metadata": {},
   "outputs": [],
   "source": [
    "wind_data['date'] = pd.to_datetime(wind_data['date_string'], format='%y-%m-%d')"
   ]
  },
  {
   "cell_type": "code",
   "execution_count": 6,
   "metadata": {},
   "outputs": [
    {
     "output_type": "execute_result",
     "data": {
      "text/plain": "   Yr  Mo  Dy    RPT    VAL    ROS    KIL    SHA   BIR    DUB    CLA    MUL  \\\n0  61   1   1  15.04  14.96  13.17   9.29    NaN  9.87  13.67  10.25  10.83   \n1  61   1   2  14.71    NaN  10.83   6.50  12.62  7.67  11.50  10.04   9.79   \n2  61   1   3  18.50  16.88  12.33  10.13  11.17  6.17  11.25    NaN   8.50   \n3  61   1   4  10.58   6.63  11.75   4.58   4.54  2.88   8.63   1.79   5.83   \n4  61   1   5  13.33  13.25  11.42   6.17  10.71  8.21  11.92   6.54  10.92   \n\n     CLO    BEL    MAL date_string       date  \n0  12.58  18.50  15.04      61-1-1 2061-01-01  \n1   9.67  17.54  13.83      61-1-2 2061-01-02  \n2   7.67  12.75  12.71      61-1-3 2061-01-03  \n3   5.88   5.46  10.88      61-1-4 2061-01-04  \n4  10.34  12.92  11.83      61-1-5 2061-01-05  ",
      "text/html": "<div>\n<style scoped>\n    .dataframe tbody tr th:only-of-type {\n        vertical-align: middle;\n    }\n\n    .dataframe tbody tr th {\n        vertical-align: top;\n    }\n\n    .dataframe thead th {\n        text-align: right;\n    }\n</style>\n<table border=\"1\" class=\"dataframe\">\n  <thead>\n    <tr style=\"text-align: right;\">\n      <th></th>\n      <th>Yr</th>\n      <th>Mo</th>\n      <th>Dy</th>\n      <th>RPT</th>\n      <th>VAL</th>\n      <th>ROS</th>\n      <th>KIL</th>\n      <th>SHA</th>\n      <th>BIR</th>\n      <th>DUB</th>\n      <th>CLA</th>\n      <th>MUL</th>\n      <th>CLO</th>\n      <th>BEL</th>\n      <th>MAL</th>\n      <th>date_string</th>\n      <th>date</th>\n    </tr>\n  </thead>\n  <tbody>\n    <tr>\n      <th>0</th>\n      <td>61</td>\n      <td>1</td>\n      <td>1</td>\n      <td>15.04</td>\n      <td>14.96</td>\n      <td>13.17</td>\n      <td>9.29</td>\n      <td>NaN</td>\n      <td>9.87</td>\n      <td>13.67</td>\n      <td>10.25</td>\n      <td>10.83</td>\n      <td>12.58</td>\n      <td>18.50</td>\n      <td>15.04</td>\n      <td>61-1-1</td>\n      <td>2061-01-01</td>\n    </tr>\n    <tr>\n      <th>1</th>\n      <td>61</td>\n      <td>1</td>\n      <td>2</td>\n      <td>14.71</td>\n      <td>NaN</td>\n      <td>10.83</td>\n      <td>6.50</td>\n      <td>12.62</td>\n      <td>7.67</td>\n      <td>11.50</td>\n      <td>10.04</td>\n      <td>9.79</td>\n      <td>9.67</td>\n      <td>17.54</td>\n      <td>13.83</td>\n      <td>61-1-2</td>\n      <td>2061-01-02</td>\n    </tr>\n    <tr>\n      <th>2</th>\n      <td>61</td>\n      <td>1</td>\n      <td>3</td>\n      <td>18.50</td>\n      <td>16.88</td>\n      <td>12.33</td>\n      <td>10.13</td>\n      <td>11.17</td>\n      <td>6.17</td>\n      <td>11.25</td>\n      <td>NaN</td>\n      <td>8.50</td>\n      <td>7.67</td>\n      <td>12.75</td>\n      <td>12.71</td>\n      <td>61-1-3</td>\n      <td>2061-01-03</td>\n    </tr>\n    <tr>\n      <th>3</th>\n      <td>61</td>\n      <td>1</td>\n      <td>4</td>\n      <td>10.58</td>\n      <td>6.63</td>\n      <td>11.75</td>\n      <td>4.58</td>\n      <td>4.54</td>\n      <td>2.88</td>\n      <td>8.63</td>\n      <td>1.79</td>\n      <td>5.83</td>\n      <td>5.88</td>\n      <td>5.46</td>\n      <td>10.88</td>\n      <td>61-1-4</td>\n      <td>2061-01-04</td>\n    </tr>\n    <tr>\n      <th>4</th>\n      <td>61</td>\n      <td>1</td>\n      <td>5</td>\n      <td>13.33</td>\n      <td>13.25</td>\n      <td>11.42</td>\n      <td>6.17</td>\n      <td>10.71</td>\n      <td>8.21</td>\n      <td>11.92</td>\n      <td>6.54</td>\n      <td>10.92</td>\n      <td>10.34</td>\n      <td>12.92</td>\n      <td>11.83</td>\n      <td>61-1-5</td>\n      <td>2061-01-05</td>\n    </tr>\n  </tbody>\n</table>\n</div>"
     },
     "metadata": {},
     "execution_count": 6
    }
   ],
   "source": [
    "wind_data.head()"
   ]
  },
  {
   "cell_type": "code",
   "execution_count": 7,
   "metadata": {},
   "outputs": [
    {
     "output_type": "execute_result",
     "data": {
      "text/plain": "   Yr  Mo  Dy    RPT    VAL    ROS    KIL    SHA   BIR    DUB    CLA    MUL  \\\n0  61   1   1  15.04  14.96  13.17   9.29    NaN  9.87  13.67  10.25  10.83   \n1  61   1   2  14.71    NaN  10.83   6.50  12.62  7.67  11.50  10.04   9.79   \n2  61   1   3  18.50  16.88  12.33  10.13  11.17  6.17  11.25    NaN   8.50   \n3  61   1   4  10.58   6.63  11.75   4.58   4.54  2.88   8.63   1.79   5.83   \n4  61   1   5  13.33  13.25  11.42   6.17  10.71  8.21  11.92   6.54  10.92   \n\n     CLO    BEL    MAL date_string       date  \n0  12.58  18.50  15.04    1961-1-1 1961-01-01  \n1   9.67  17.54  13.83    1961-1-2 1961-01-02  \n2   7.67  12.75  12.71    1961-1-3 1961-01-03  \n3   5.88   5.46  10.88    1961-1-4 1961-01-04  \n4  10.34  12.92  11.83    1961-1-5 1961-01-05  ",
      "text/html": "<div>\n<style scoped>\n    .dataframe tbody tr th:only-of-type {\n        vertical-align: middle;\n    }\n\n    .dataframe tbody tr th {\n        vertical-align: top;\n    }\n\n    .dataframe thead th {\n        text-align: right;\n    }\n</style>\n<table border=\"1\" class=\"dataframe\">\n  <thead>\n    <tr style=\"text-align: right;\">\n      <th></th>\n      <th>Yr</th>\n      <th>Mo</th>\n      <th>Dy</th>\n      <th>RPT</th>\n      <th>VAL</th>\n      <th>ROS</th>\n      <th>KIL</th>\n      <th>SHA</th>\n      <th>BIR</th>\n      <th>DUB</th>\n      <th>CLA</th>\n      <th>MUL</th>\n      <th>CLO</th>\n      <th>BEL</th>\n      <th>MAL</th>\n      <th>date_string</th>\n      <th>date</th>\n    </tr>\n  </thead>\n  <tbody>\n    <tr>\n      <th>0</th>\n      <td>61</td>\n      <td>1</td>\n      <td>1</td>\n      <td>15.04</td>\n      <td>14.96</td>\n      <td>13.17</td>\n      <td>9.29</td>\n      <td>NaN</td>\n      <td>9.87</td>\n      <td>13.67</td>\n      <td>10.25</td>\n      <td>10.83</td>\n      <td>12.58</td>\n      <td>18.50</td>\n      <td>15.04</td>\n      <td>1961-1-1</td>\n      <td>1961-01-01</td>\n    </tr>\n    <tr>\n      <th>1</th>\n      <td>61</td>\n      <td>1</td>\n      <td>2</td>\n      <td>14.71</td>\n      <td>NaN</td>\n      <td>10.83</td>\n      <td>6.50</td>\n      <td>12.62</td>\n      <td>7.67</td>\n      <td>11.50</td>\n      <td>10.04</td>\n      <td>9.79</td>\n      <td>9.67</td>\n      <td>17.54</td>\n      <td>13.83</td>\n      <td>1961-1-2</td>\n      <td>1961-01-02</td>\n    </tr>\n    <tr>\n      <th>2</th>\n      <td>61</td>\n      <td>1</td>\n      <td>3</td>\n      <td>18.50</td>\n      <td>16.88</td>\n      <td>12.33</td>\n      <td>10.13</td>\n      <td>11.17</td>\n      <td>6.17</td>\n      <td>11.25</td>\n      <td>NaN</td>\n      <td>8.50</td>\n      <td>7.67</td>\n      <td>12.75</td>\n      <td>12.71</td>\n      <td>1961-1-3</td>\n      <td>1961-01-03</td>\n    </tr>\n    <tr>\n      <th>3</th>\n      <td>61</td>\n      <td>1</td>\n      <td>4</td>\n      <td>10.58</td>\n      <td>6.63</td>\n      <td>11.75</td>\n      <td>4.58</td>\n      <td>4.54</td>\n      <td>2.88</td>\n      <td>8.63</td>\n      <td>1.79</td>\n      <td>5.83</td>\n      <td>5.88</td>\n      <td>5.46</td>\n      <td>10.88</td>\n      <td>1961-1-4</td>\n      <td>1961-01-04</td>\n    </tr>\n    <tr>\n      <th>4</th>\n      <td>61</td>\n      <td>1</td>\n      <td>5</td>\n      <td>13.33</td>\n      <td>13.25</td>\n      <td>11.42</td>\n      <td>6.17</td>\n      <td>10.71</td>\n      <td>8.21</td>\n      <td>11.92</td>\n      <td>6.54</td>\n      <td>10.92</td>\n      <td>10.34</td>\n      <td>12.92</td>\n      <td>11.83</td>\n      <td>1961-1-5</td>\n      <td>1961-01-05</td>\n    </tr>\n  </tbody>\n</table>\n</div>"
     },
     "metadata": {},
     "execution_count": 7
    }
   ],
   "source": [
    "# Step 4. Year 2061? Do we really have data from this year? Create a function to fix it and apply it.\n",
    "\n",
    "wind_data['date_string'] = '19' + wind_data.Yr.astype(str) + '-' + wind_data.Mo.astype(str) + '-' + wind_data.Dy.astype(str)\n",
    "wind_data['date'] = pd.to_datetime(wind_data['date_string'], format='%Y-%m-%d')\n",
    "wind_data.head()"
   ]
  },
  {
   "cell_type": "code",
   "execution_count": 8,
   "metadata": {},
   "outputs": [
    {
     "output_type": "execute_result",
     "data": {
      "text/plain": "dtype('<M8[ns]')"
     },
     "metadata": {},
     "execution_count": 8
    }
   ],
   "source": [
    "# Step 5. Set the right dates as the index. Pay attention at the data type, it should be datetime64[ns].\n",
    "wind_data.date.dtype"
   ]
  },
  {
   "cell_type": "code",
   "execution_count": 9,
   "metadata": {},
   "outputs": [
    {
     "output_type": "execute_result",
     "data": {
      "text/plain": "            Yr  Mo  Dy    RPT    VAL    ROS    KIL    SHA   BIR    DUB    CLA  \\\ndate                                                                            \n1961-01-01  61   1   1  15.04  14.96  13.17   9.29    NaN  9.87  13.67  10.25   \n1961-01-02  61   1   2  14.71    NaN  10.83   6.50  12.62  7.67  11.50  10.04   \n1961-01-03  61   1   3  18.50  16.88  12.33  10.13  11.17  6.17  11.25    NaN   \n1961-01-04  61   1   4  10.58   6.63  11.75   4.58   4.54  2.88   8.63   1.79   \n1961-01-05  61   1   5  13.33  13.25  11.42   6.17  10.71  8.21  11.92   6.54   \n\n              MUL    CLO    BEL    MAL date_string  \ndate                                                \n1961-01-01  10.83  12.58  18.50  15.04    1961-1-1  \n1961-01-02   9.79   9.67  17.54  13.83    1961-1-2  \n1961-01-03   8.50   7.67  12.75  12.71    1961-1-3  \n1961-01-04   5.83   5.88   5.46  10.88    1961-1-4  \n1961-01-05  10.92  10.34  12.92  11.83    1961-1-5  ",
      "text/html": "<div>\n<style scoped>\n    .dataframe tbody tr th:only-of-type {\n        vertical-align: middle;\n    }\n\n    .dataframe tbody tr th {\n        vertical-align: top;\n    }\n\n    .dataframe thead th {\n        text-align: right;\n    }\n</style>\n<table border=\"1\" class=\"dataframe\">\n  <thead>\n    <tr style=\"text-align: right;\">\n      <th></th>\n      <th>Yr</th>\n      <th>Mo</th>\n      <th>Dy</th>\n      <th>RPT</th>\n      <th>VAL</th>\n      <th>ROS</th>\n      <th>KIL</th>\n      <th>SHA</th>\n      <th>BIR</th>\n      <th>DUB</th>\n      <th>CLA</th>\n      <th>MUL</th>\n      <th>CLO</th>\n      <th>BEL</th>\n      <th>MAL</th>\n      <th>date_string</th>\n    </tr>\n    <tr>\n      <th>date</th>\n      <th></th>\n      <th></th>\n      <th></th>\n      <th></th>\n      <th></th>\n      <th></th>\n      <th></th>\n      <th></th>\n      <th></th>\n      <th></th>\n      <th></th>\n      <th></th>\n      <th></th>\n      <th></th>\n      <th></th>\n      <th></th>\n    </tr>\n  </thead>\n  <tbody>\n    <tr>\n      <th>1961-01-01</th>\n      <td>61</td>\n      <td>1</td>\n      <td>1</td>\n      <td>15.04</td>\n      <td>14.96</td>\n      <td>13.17</td>\n      <td>9.29</td>\n      <td>NaN</td>\n      <td>9.87</td>\n      <td>13.67</td>\n      <td>10.25</td>\n      <td>10.83</td>\n      <td>12.58</td>\n      <td>18.50</td>\n      <td>15.04</td>\n      <td>1961-1-1</td>\n    </tr>\n    <tr>\n      <th>1961-01-02</th>\n      <td>61</td>\n      <td>1</td>\n      <td>2</td>\n      <td>14.71</td>\n      <td>NaN</td>\n      <td>10.83</td>\n      <td>6.50</td>\n      <td>12.62</td>\n      <td>7.67</td>\n      <td>11.50</td>\n      <td>10.04</td>\n      <td>9.79</td>\n      <td>9.67</td>\n      <td>17.54</td>\n      <td>13.83</td>\n      <td>1961-1-2</td>\n    </tr>\n    <tr>\n      <th>1961-01-03</th>\n      <td>61</td>\n      <td>1</td>\n      <td>3</td>\n      <td>18.50</td>\n      <td>16.88</td>\n      <td>12.33</td>\n      <td>10.13</td>\n      <td>11.17</td>\n      <td>6.17</td>\n      <td>11.25</td>\n      <td>NaN</td>\n      <td>8.50</td>\n      <td>7.67</td>\n      <td>12.75</td>\n      <td>12.71</td>\n      <td>1961-1-3</td>\n    </tr>\n    <tr>\n      <th>1961-01-04</th>\n      <td>61</td>\n      <td>1</td>\n      <td>4</td>\n      <td>10.58</td>\n      <td>6.63</td>\n      <td>11.75</td>\n      <td>4.58</td>\n      <td>4.54</td>\n      <td>2.88</td>\n      <td>8.63</td>\n      <td>1.79</td>\n      <td>5.83</td>\n      <td>5.88</td>\n      <td>5.46</td>\n      <td>10.88</td>\n      <td>1961-1-4</td>\n    </tr>\n    <tr>\n      <th>1961-01-05</th>\n      <td>61</td>\n      <td>1</td>\n      <td>5</td>\n      <td>13.33</td>\n      <td>13.25</td>\n      <td>11.42</td>\n      <td>6.17</td>\n      <td>10.71</td>\n      <td>8.21</td>\n      <td>11.92</td>\n      <td>6.54</td>\n      <td>10.92</td>\n      <td>10.34</td>\n      <td>12.92</td>\n      <td>11.83</td>\n      <td>1961-1-5</td>\n    </tr>\n  </tbody>\n</table>\n</div>"
     },
     "metadata": {},
     "execution_count": 9
    }
   ],
   "source": [
    "wind_data.set_index('date', inplace=True)\n",
    "wind_data.head()"
   ]
  },
  {
   "cell_type": "code",
   "execution_count": 10,
   "metadata": {},
   "outputs": [
    {
     "output_type": "execute_result",
     "data": {
      "text/plain": "Yr             0\nMo             0\nDy             0\nRPT            6\nVAL            3\nROS            2\nKIL            5\nSHA            2\nBIR            0\nDUB            3\nCLA            2\nMUL            3\nCLO            1\nBEL            0\nMAL            4\ndate_string    0\ndtype: int64"
     },
     "metadata": {},
     "execution_count": 10
    }
   ],
   "source": [
    "# Step 6. Compute how many values are missing for each location over the entire record.\n",
    "wind_data.isna().sum()"
   ]
  },
  {
   "cell_type": "code",
   "execution_count": 13,
   "metadata": {},
   "outputs": [
    {
     "output_type": "execute_result",
     "data": {
      "text/plain": "RPT    6568\nVAL    6571\nROS    6572\nKIL    6569\nSHA    6572\nBIR    6574\nDUB    6571\nCLA    6572\nMUL    6571\nCLO    6573\nBEL    6574\nMAL    6570\ndtype: int64"
     },
     "metadata": {},
     "execution_count": 13
    }
   ],
   "source": [
    "# Step 7. Compute how many non-missing values there are in total.\n",
    "(wind_data.loc[:, 'RPT':'MAL'].isna() == False).sum()\n",
    "#wind_data.shape[0] - wind_data.isnull().sum()\n",
    "#wind_data.notnull().sum()"
   ]
  },
  {
   "cell_type": "code",
   "execution_count": 14,
   "metadata": {},
   "outputs": [
    {
     "output_type": "execute_result",
     "data": {
      "text/plain": "78857"
     },
     "metadata": {},
     "execution_count": 14
    }
   ],
   "source": [
    "(wind_data.loc[:, 'RPT':'MAL'].isna() == False).sum().sum()"
   ]
  },
  {
   "cell_type": "code",
   "execution_count": 25,
   "metadata": {},
   "outputs": [
    {
     "output_type": "execute_result",
     "data": {
      "text/plain": "10.227982360836924"
     },
     "metadata": {},
     "execution_count": 25
    }
   ],
   "source": [
    "# Step 8. Calculate the mean windspeeds of the windspeeds over all the locations and all the times.\n",
    "((wind_data.loc[:, 'RPT':'MAL'].sum()) / (wind_data.loc[:, 'RPT':'MAL'].count())).sum()/ 12\n",
    "#wind_data.fillna(0).values.flatten().mean()\n"
   ]
  },
  {
   "cell_type": "code",
   "execution_count": 26,
   "metadata": {},
   "outputs": [
    {
     "output_type": "execute_result",
     "data": {
      "text/plain": "(6574, 16)"
     },
     "metadata": {},
     "execution_count": 26
    }
   ],
   "source": [
    "wind_data.shape"
   ]
  },
  {
   "cell_type": "code",
   "execution_count": 27,
   "metadata": {},
   "outputs": [
    {
     "output_type": "execute_result",
     "data": {
      "text/plain": "RPT    12.362987\nVAL    10.644314\nROS    11.660526\nKIL     6.306468\nSHA    10.455834\nBIR     7.092254\nDUB     9.797343\nCLA     8.495053\nMUL     8.493590\nCLO     8.707332\nBEL    13.121007\nMAL    15.599079\ndtype: float64"
     },
     "metadata": {},
     "execution_count": 27
    }
   ],
   "source": [
    "# To get the mean value for location wise\n",
    "wind_data.loc[:, 'RPT':'MAL'].mean()"
   ]
  },
  {
   "cell_type": "code",
   "execution_count": 28,
   "metadata": {},
   "outputs": [
    {
     "output_type": "execute_result",
     "data": {
      "text/plain": "10.227982360836924"
     },
     "metadata": {},
     "execution_count": 28
    }
   ],
   "source": [
    "# To get the mean value for all the locations\n",
    "wind_data.loc[:, 'RPT':'MAL'].mean().mean()"
   ]
  },
  {
   "cell_type": "code",
   "execution_count": 29,
   "metadata": {},
   "outputs": [],
   "source": [
    "rd = wind_data.loc[:, 'RPT':'MAL']"
   ]
  },
  {
   "cell_type": "code",
   "execution_count": 30,
   "metadata": {},
   "outputs": [
    {
     "output_type": "execute_result",
     "data": {
      "text/plain": "RPT    12.362987\nVAL    10.644314\nROS    11.660526\nKIL     6.306468\nSHA    10.455834\nBIR     7.092254\nDUB     9.797343\nCLA     8.495053\nMUL     8.493590\nCLO     8.707332\nBEL    13.121007\nMAL    15.599079\ndtype: float64"
     },
     "metadata": {},
     "execution_count": 30
    }
   ],
   "source": [
    "rd.mean()"
   ]
  },
  {
   "cell_type": "code",
   "execution_count": 31,
   "metadata": {},
   "outputs": [
    {
     "output_type": "execute_result",
     "data": {
      "text/plain": "              RPT    VAL    ROS    KIL    SHA    BIR    DUB    CLA    MUL  \\\ndate                                                                        \n1961-01-01  15.04  14.96  13.17   9.29    NaN   9.87  13.67  10.25  10.83   \n1961-01-02  14.71    NaN  10.83   6.50  12.62   7.67  11.50  10.04   9.79   \n1961-01-03  18.50  16.88  12.33  10.13  11.17   6.17  11.25    NaN   8.50   \n1961-01-04  10.58   6.63  11.75   4.58   4.54   2.88   8.63   1.79   5.83   \n1961-01-05  13.33  13.25  11.42   6.17  10.71   8.21  11.92   6.54  10.92   \n...           ...    ...    ...    ...    ...    ...    ...    ...    ...   \n1978-12-27  17.58  16.96  17.62   8.08  13.21  11.67  14.46  15.59  14.04   \n1978-12-28  13.21   5.46  13.46   5.00   8.12   9.42  14.33  16.25  15.25   \n1978-12-29  14.00  10.29  14.42   8.71   9.71  10.54  19.17  12.46  14.50   \n1978-12-30  18.50  14.04  21.29   9.13  12.75   9.71  18.08  12.87  12.46   \n1978-12-31  20.33  17.41  27.29   9.59  12.08  10.13  19.25  11.63  11.58   \n\n              CLO    BEL    MAL  \ndate                             \n1961-01-01  12.58  18.50  15.04  \n1961-01-02   9.67  17.54  13.83  \n1961-01-03   7.67  12.75  12.71  \n1961-01-04   5.88   5.46  10.88  \n1961-01-05  10.34  12.92  11.83  \n...           ...    ...    ...  \n1978-12-27  14.00  17.21  40.08  \n1978-12-28  18.05  21.79  41.46  \n1978-12-29  16.42  18.88  29.58  \n1978-12-30  12.12  14.67  28.79  \n1978-12-31  11.38  12.08  22.08  \n\n[6574 rows x 12 columns]",
      "text/html": "<div>\n<style scoped>\n    .dataframe tbody tr th:only-of-type {\n        vertical-align: middle;\n    }\n\n    .dataframe tbody tr th {\n        vertical-align: top;\n    }\n\n    .dataframe thead th {\n        text-align: right;\n    }\n</style>\n<table border=\"1\" class=\"dataframe\">\n  <thead>\n    <tr style=\"text-align: right;\">\n      <th></th>\n      <th>RPT</th>\n      <th>VAL</th>\n      <th>ROS</th>\n      <th>KIL</th>\n      <th>SHA</th>\n      <th>BIR</th>\n      <th>DUB</th>\n      <th>CLA</th>\n      <th>MUL</th>\n      <th>CLO</th>\n      <th>BEL</th>\n      <th>MAL</th>\n    </tr>\n    <tr>\n      <th>date</th>\n      <th></th>\n      <th></th>\n      <th></th>\n      <th></th>\n      <th></th>\n      <th></th>\n      <th></th>\n      <th></th>\n      <th></th>\n      <th></th>\n      <th></th>\n      <th></th>\n    </tr>\n  </thead>\n  <tbody>\n    <tr>\n      <th>1961-01-01</th>\n      <td>15.04</td>\n      <td>14.96</td>\n      <td>13.17</td>\n      <td>9.29</td>\n      <td>NaN</td>\n      <td>9.87</td>\n      <td>13.67</td>\n      <td>10.25</td>\n      <td>10.83</td>\n      <td>12.58</td>\n      <td>18.50</td>\n      <td>15.04</td>\n    </tr>\n    <tr>\n      <th>1961-01-02</th>\n      <td>14.71</td>\n      <td>NaN</td>\n      <td>10.83</td>\n      <td>6.50</td>\n      <td>12.62</td>\n      <td>7.67</td>\n      <td>11.50</td>\n      <td>10.04</td>\n      <td>9.79</td>\n      <td>9.67</td>\n      <td>17.54</td>\n      <td>13.83</td>\n    </tr>\n    <tr>\n      <th>1961-01-03</th>\n      <td>18.50</td>\n      <td>16.88</td>\n      <td>12.33</td>\n      <td>10.13</td>\n      <td>11.17</td>\n      <td>6.17</td>\n      <td>11.25</td>\n      <td>NaN</td>\n      <td>8.50</td>\n      <td>7.67</td>\n      <td>12.75</td>\n      <td>12.71</td>\n    </tr>\n    <tr>\n      <th>1961-01-04</th>\n      <td>10.58</td>\n      <td>6.63</td>\n      <td>11.75</td>\n      <td>4.58</td>\n      <td>4.54</td>\n      <td>2.88</td>\n      <td>8.63</td>\n      <td>1.79</td>\n      <td>5.83</td>\n      <td>5.88</td>\n      <td>5.46</td>\n      <td>10.88</td>\n    </tr>\n    <tr>\n      <th>1961-01-05</th>\n      <td>13.33</td>\n      <td>13.25</td>\n      <td>11.42</td>\n      <td>6.17</td>\n      <td>10.71</td>\n      <td>8.21</td>\n      <td>11.92</td>\n      <td>6.54</td>\n      <td>10.92</td>\n      <td>10.34</td>\n      <td>12.92</td>\n      <td>11.83</td>\n    </tr>\n    <tr>\n      <th>...</th>\n      <td>...</td>\n      <td>...</td>\n      <td>...</td>\n      <td>...</td>\n      <td>...</td>\n      <td>...</td>\n      <td>...</td>\n      <td>...</td>\n      <td>...</td>\n      <td>...</td>\n      <td>...</td>\n      <td>...</td>\n    </tr>\n    <tr>\n      <th>1978-12-27</th>\n      <td>17.58</td>\n      <td>16.96</td>\n      <td>17.62</td>\n      <td>8.08</td>\n      <td>13.21</td>\n      <td>11.67</td>\n      <td>14.46</td>\n      <td>15.59</td>\n      <td>14.04</td>\n      <td>14.00</td>\n      <td>17.21</td>\n      <td>40.08</td>\n    </tr>\n    <tr>\n      <th>1978-12-28</th>\n      <td>13.21</td>\n      <td>5.46</td>\n      <td>13.46</td>\n      <td>5.00</td>\n      <td>8.12</td>\n      <td>9.42</td>\n      <td>14.33</td>\n      <td>16.25</td>\n      <td>15.25</td>\n      <td>18.05</td>\n      <td>21.79</td>\n      <td>41.46</td>\n    </tr>\n    <tr>\n      <th>1978-12-29</th>\n      <td>14.00</td>\n      <td>10.29</td>\n      <td>14.42</td>\n      <td>8.71</td>\n      <td>9.71</td>\n      <td>10.54</td>\n      <td>19.17</td>\n      <td>12.46</td>\n      <td>14.50</td>\n      <td>16.42</td>\n      <td>18.88</td>\n      <td>29.58</td>\n    </tr>\n    <tr>\n      <th>1978-12-30</th>\n      <td>18.50</td>\n      <td>14.04</td>\n      <td>21.29</td>\n      <td>9.13</td>\n      <td>12.75</td>\n      <td>9.71</td>\n      <td>18.08</td>\n      <td>12.87</td>\n      <td>12.46</td>\n      <td>12.12</td>\n      <td>14.67</td>\n      <td>28.79</td>\n    </tr>\n    <tr>\n      <th>1978-12-31</th>\n      <td>20.33</td>\n      <td>17.41</td>\n      <td>27.29</td>\n      <td>9.59</td>\n      <td>12.08</td>\n      <td>10.13</td>\n      <td>19.25</td>\n      <td>11.63</td>\n      <td>11.58</td>\n      <td>11.38</td>\n      <td>12.08</td>\n      <td>22.08</td>\n    </tr>\n  </tbody>\n</table>\n<p>6574 rows × 12 columns</p>\n</div>"
     },
     "metadata": {},
     "execution_count": 31
    }
   ],
   "source": [
    "# Step 9. Create a DataFrame called loc_stats and calculate the min, max and mean windspeeds and standard deviations of the windspeeds at each location over all the days\n",
    "loc_status = wind_data.loc[:, 'RPT':'MAL']\n",
    "loc_status"
   ]
  },
  {
   "cell_type": "code",
   "execution_count": 32,
   "metadata": {},
   "outputs": [
    {
     "output_type": "execute_result",
     "data": {
      "text/plain": "               RPT          VAL          ROS          KIL          SHA  \\\ncount  6568.000000  6571.000000  6572.000000  6569.000000  6572.000000   \nmean     12.362987    10.644314    11.660526     6.306468    10.455834   \nstd       5.618413     5.267356     5.008450     3.605811     4.936125   \nmin       0.670000     0.210000     1.500000     0.000000     0.130000   \n25%       8.120000     6.670000     8.000000     3.580000     6.750000   \n50%      11.710000    10.170000    10.920000     5.750000     9.960000   \n75%      15.920000    14.040000    14.670000     8.420000    13.540000   \nmax      35.800000    33.370000    33.840000    28.460000    37.540000   \n\n               BIR          DUB          CLA          MUL          CLO  \\\ncount  6574.000000  6571.000000  6572.000000  6571.000000  6573.000000   \nmean      7.092254     9.797343     8.495053     8.493590     8.707332   \nstd       3.968683     4.977555     4.499449     4.166872     4.503954   \nmin       0.000000     0.000000     0.000000     0.000000     0.040000   \n25%       4.000000     6.000000     5.090000     5.370000     5.330000   \n50%       6.830000     9.210000     8.080000     8.170000     8.290000   \n75%       9.670000    12.960000    11.420000    11.190000    11.630000   \nmax      26.160000    30.370000    31.080000    25.880000    28.210000   \n\n               BEL          MAL  \ncount  6574.000000  6570.000000  \nmean     13.121007    15.599079  \nstd       5.835037     6.699794  \nmin       0.130000     0.670000  \n25%       8.710000    10.710000  \n50%      12.500000    15.000000  \n75%      16.880000    19.830000  \nmax      42.380000    42.540000  ",
      "text/html": "<div>\n<style scoped>\n    .dataframe tbody tr th:only-of-type {\n        vertical-align: middle;\n    }\n\n    .dataframe tbody tr th {\n        vertical-align: top;\n    }\n\n    .dataframe thead th {\n        text-align: right;\n    }\n</style>\n<table border=\"1\" class=\"dataframe\">\n  <thead>\n    <tr style=\"text-align: right;\">\n      <th></th>\n      <th>RPT</th>\n      <th>VAL</th>\n      <th>ROS</th>\n      <th>KIL</th>\n      <th>SHA</th>\n      <th>BIR</th>\n      <th>DUB</th>\n      <th>CLA</th>\n      <th>MUL</th>\n      <th>CLO</th>\n      <th>BEL</th>\n      <th>MAL</th>\n    </tr>\n  </thead>\n  <tbody>\n    <tr>\n      <th>count</th>\n      <td>6568.000000</td>\n      <td>6571.000000</td>\n      <td>6572.000000</td>\n      <td>6569.000000</td>\n      <td>6572.000000</td>\n      <td>6574.000000</td>\n      <td>6571.000000</td>\n      <td>6572.000000</td>\n      <td>6571.000000</td>\n      <td>6573.000000</td>\n      <td>6574.000000</td>\n      <td>6570.000000</td>\n    </tr>\n    <tr>\n      <th>mean</th>\n      <td>12.362987</td>\n      <td>10.644314</td>\n      <td>11.660526</td>\n      <td>6.306468</td>\n      <td>10.455834</td>\n      <td>7.092254</td>\n      <td>9.797343</td>\n      <td>8.495053</td>\n      <td>8.493590</td>\n      <td>8.707332</td>\n      <td>13.121007</td>\n      <td>15.599079</td>\n    </tr>\n    <tr>\n      <th>std</th>\n      <td>5.618413</td>\n      <td>5.267356</td>\n      <td>5.008450</td>\n      <td>3.605811</td>\n      <td>4.936125</td>\n      <td>3.968683</td>\n      <td>4.977555</td>\n      <td>4.499449</td>\n      <td>4.166872</td>\n      <td>4.503954</td>\n      <td>5.835037</td>\n      <td>6.699794</td>\n    </tr>\n    <tr>\n      <th>min</th>\n      <td>0.670000</td>\n      <td>0.210000</td>\n      <td>1.500000</td>\n      <td>0.000000</td>\n      <td>0.130000</td>\n      <td>0.000000</td>\n      <td>0.000000</td>\n      <td>0.000000</td>\n      <td>0.000000</td>\n      <td>0.040000</td>\n      <td>0.130000</td>\n      <td>0.670000</td>\n    </tr>\n    <tr>\n      <th>25%</th>\n      <td>8.120000</td>\n      <td>6.670000</td>\n      <td>8.000000</td>\n      <td>3.580000</td>\n      <td>6.750000</td>\n      <td>4.000000</td>\n      <td>6.000000</td>\n      <td>5.090000</td>\n      <td>5.370000</td>\n      <td>5.330000</td>\n      <td>8.710000</td>\n      <td>10.710000</td>\n    </tr>\n    <tr>\n      <th>50%</th>\n      <td>11.710000</td>\n      <td>10.170000</td>\n      <td>10.920000</td>\n      <td>5.750000</td>\n      <td>9.960000</td>\n      <td>6.830000</td>\n      <td>9.210000</td>\n      <td>8.080000</td>\n      <td>8.170000</td>\n      <td>8.290000</td>\n      <td>12.500000</td>\n      <td>15.000000</td>\n    </tr>\n    <tr>\n      <th>75%</th>\n      <td>15.920000</td>\n      <td>14.040000</td>\n      <td>14.670000</td>\n      <td>8.420000</td>\n      <td>13.540000</td>\n      <td>9.670000</td>\n      <td>12.960000</td>\n      <td>11.420000</td>\n      <td>11.190000</td>\n      <td>11.630000</td>\n      <td>16.880000</td>\n      <td>19.830000</td>\n    </tr>\n    <tr>\n      <th>max</th>\n      <td>35.800000</td>\n      <td>33.370000</td>\n      <td>33.840000</td>\n      <td>28.460000</td>\n      <td>37.540000</td>\n      <td>26.160000</td>\n      <td>30.370000</td>\n      <td>31.080000</td>\n      <td>25.880000</td>\n      <td>28.210000</td>\n      <td>42.380000</td>\n      <td>42.540000</td>\n    </tr>\n  </tbody>\n</table>\n</div>"
     },
     "metadata": {},
     "execution_count": 32
    }
   ],
   "source": [
    "loc_status.describe()"
   ]
  },
  {
   "cell_type": "code",
   "execution_count": 34,
   "metadata": {},
   "outputs": [
    {
     "output_type": "execute_result",
     "data": {
      "text/plain": "date   1961-01-01  1961-01-02  1961-01-03  1961-01-04  1961-01-05  1961-01-06  \\\ncount   11.000000   11.000000   11.000000   12.000000   12.000000   12.000000   \nmean    13.018182   11.336364   11.641818    6.619167   10.630000    8.240000   \nstd      2.808875    3.188994    3.681912    3.198126    2.445356    2.998063   \nmin      9.290000    6.500000    6.170000    1.790000    6.170000    4.420000   \n25%     10.540000    9.730000    9.315000    4.570000    9.807500    6.345000   \n50%     13.170000   10.830000   11.250000    5.855000   11.170000    7.810000   \n75%     15.000000   13.225000   12.730000    9.117500   12.170000   10.137500   \nmax     18.500000   17.540000   18.500000   11.750000   13.330000   13.210000   \n\ndate   1961-01-07  1961-01-08  1961-01-09  1961-01-10  \ncount   12.000000   12.000000   12.000000    12.00000  \nmean    10.385000   10.487500    9.897500    10.47750  \nstd      3.072114    3.547237    2.905954     3.44261  \nmin      4.960000    5.910000    4.750000     6.54000  \n25%      8.237500    7.620000    7.977500     8.48750  \n50%      9.395000    9.685000   10.065000     9.35500  \n75%     13.572500   11.792500   11.267500    11.52250  \nmax     14.290000   16.620000   15.370000    19.50000  ",
      "text/html": "<div>\n<style scoped>\n    .dataframe tbody tr th:only-of-type {\n        vertical-align: middle;\n    }\n\n    .dataframe tbody tr th {\n        vertical-align: top;\n    }\n\n    .dataframe thead th {\n        text-align: right;\n    }\n</style>\n<table border=\"1\" class=\"dataframe\">\n  <thead>\n    <tr style=\"text-align: right;\">\n      <th>date</th>\n      <th>1961-01-01</th>\n      <th>1961-01-02</th>\n      <th>1961-01-03</th>\n      <th>1961-01-04</th>\n      <th>1961-01-05</th>\n      <th>1961-01-06</th>\n      <th>1961-01-07</th>\n      <th>1961-01-08</th>\n      <th>1961-01-09</th>\n      <th>1961-01-10</th>\n    </tr>\n  </thead>\n  <tbody>\n    <tr>\n      <th>count</th>\n      <td>11.000000</td>\n      <td>11.000000</td>\n      <td>11.000000</td>\n      <td>12.000000</td>\n      <td>12.000000</td>\n      <td>12.000000</td>\n      <td>12.000000</td>\n      <td>12.000000</td>\n      <td>12.000000</td>\n      <td>12.00000</td>\n    </tr>\n    <tr>\n      <th>mean</th>\n      <td>13.018182</td>\n      <td>11.336364</td>\n      <td>11.641818</td>\n      <td>6.619167</td>\n      <td>10.630000</td>\n      <td>8.240000</td>\n      <td>10.385000</td>\n      <td>10.487500</td>\n      <td>9.897500</td>\n      <td>10.47750</td>\n    </tr>\n    <tr>\n      <th>std</th>\n      <td>2.808875</td>\n      <td>3.188994</td>\n      <td>3.681912</td>\n      <td>3.198126</td>\n      <td>2.445356</td>\n      <td>2.998063</td>\n      <td>3.072114</td>\n      <td>3.547237</td>\n      <td>2.905954</td>\n      <td>3.44261</td>\n    </tr>\n    <tr>\n      <th>min</th>\n      <td>9.290000</td>\n      <td>6.500000</td>\n      <td>6.170000</td>\n      <td>1.790000</td>\n      <td>6.170000</td>\n      <td>4.420000</td>\n      <td>4.960000</td>\n      <td>5.910000</td>\n      <td>4.750000</td>\n      <td>6.54000</td>\n    </tr>\n    <tr>\n      <th>25%</th>\n      <td>10.540000</td>\n      <td>9.730000</td>\n      <td>9.315000</td>\n      <td>4.570000</td>\n      <td>9.807500</td>\n      <td>6.345000</td>\n      <td>8.237500</td>\n      <td>7.620000</td>\n      <td>7.977500</td>\n      <td>8.48750</td>\n    </tr>\n    <tr>\n      <th>50%</th>\n      <td>13.170000</td>\n      <td>10.830000</td>\n      <td>11.250000</td>\n      <td>5.855000</td>\n      <td>11.170000</td>\n      <td>7.810000</td>\n      <td>9.395000</td>\n      <td>9.685000</td>\n      <td>10.065000</td>\n      <td>9.35500</td>\n    </tr>\n    <tr>\n      <th>75%</th>\n      <td>15.000000</td>\n      <td>13.225000</td>\n      <td>12.730000</td>\n      <td>9.117500</td>\n      <td>12.170000</td>\n      <td>10.137500</td>\n      <td>13.572500</td>\n      <td>11.792500</td>\n      <td>11.267500</td>\n      <td>11.52250</td>\n    </tr>\n    <tr>\n      <th>max</th>\n      <td>18.500000</td>\n      <td>17.540000</td>\n      <td>18.500000</td>\n      <td>11.750000</td>\n      <td>13.330000</td>\n      <td>13.210000</td>\n      <td>14.290000</td>\n      <td>16.620000</td>\n      <td>15.370000</td>\n      <td>19.50000</td>\n    </tr>\n  </tbody>\n</table>\n</div>"
     },
     "metadata": {},
     "execution_count": 34
    }
   ],
   "source": [
    "#Step 10. Create a DataFrame called day_stats and calculate the min, max and mean windspeed and standard deviations of the windspeeds across all the locations at each day.\n",
    "day_stats =  loc_status.head(10).T.describe()\n",
    "day_stats"
   ]
  },
  {
   "cell_type": "code",
   "execution_count": 38,
   "metadata": {},
   "outputs": [
    {
     "output_type": "execute_result",
     "data": {
      "text/plain": "             min    max       mean       std\ndate                                        \n1961-01-01  9.29  18.50  13.018182  2.808875\n1961-01-02  6.50  17.54  11.336364  3.188994\n1961-01-03  6.17  18.50  11.641818  3.681912\n1961-01-04  1.79  11.75   6.619167  3.198126\n1961-01-05  6.17  13.33  10.630000  2.445356",
      "text/html": "<div>\n<style scoped>\n    .dataframe tbody tr th:only-of-type {\n        vertical-align: middle;\n    }\n\n    .dataframe tbody tr th {\n        vertical-align: top;\n    }\n\n    .dataframe thead th {\n        text-align: right;\n    }\n</style>\n<table border=\"1\" class=\"dataframe\">\n  <thead>\n    <tr style=\"text-align: right;\">\n      <th></th>\n      <th>min</th>\n      <th>max</th>\n      <th>mean</th>\n      <th>std</th>\n    </tr>\n    <tr>\n      <th>date</th>\n      <th></th>\n      <th></th>\n      <th></th>\n      <th></th>\n    </tr>\n  </thead>\n  <tbody>\n    <tr>\n      <th>1961-01-01</th>\n      <td>9.29</td>\n      <td>18.50</td>\n      <td>13.018182</td>\n      <td>2.808875</td>\n    </tr>\n    <tr>\n      <th>1961-01-02</th>\n      <td>6.50</td>\n      <td>17.54</td>\n      <td>11.336364</td>\n      <td>3.188994</td>\n    </tr>\n    <tr>\n      <th>1961-01-03</th>\n      <td>6.17</td>\n      <td>18.50</td>\n      <td>11.641818</td>\n      <td>3.681912</td>\n    </tr>\n    <tr>\n      <th>1961-01-04</th>\n      <td>1.79</td>\n      <td>11.75</td>\n      <td>6.619167</td>\n      <td>3.198126</td>\n    </tr>\n    <tr>\n      <th>1961-01-05</th>\n      <td>6.17</td>\n      <td>13.33</td>\n      <td>10.630000</td>\n      <td>2.445356</td>\n    </tr>\n  </tbody>\n</table>\n</div>"
     },
     "metadata": {},
     "execution_count": 38
    }
   ],
   "source": [
    "day_stats = pd.DataFrame()\n",
    "\n",
    "day_stats['min'] = wind_data.loc[:, 'RPT':'MAL'].min(axis=1)\n",
    "day_stats['max'] = wind_data.loc[:, 'RPT':'MAL'].max(axis=1)\n",
    "day_stats['mean'] = wind_data.loc[:, 'RPT':'MAL'].mean(axis=1)\n",
    "day_stats['std'] = wind_data.loc[:, 'RPT':'MAL'].std(axis=1)\n",
    "\n",
    "day_stats.head()"
   ]
  },
  {
   "cell_type": "code",
   "execution_count": 41,
   "metadata": {},
   "outputs": [
    {
     "output_type": "execute_result",
     "data": {
      "text/plain": "RPT    14.847325\nVAL    12.914560\nROS    13.299624\nKIL     7.199498\nSHA    11.667734\nBIR     8.054839\nDUB    11.819355\nCLA     9.512047\nMUL     9.543208\nCLO    10.053566\nBEL    14.550520\nMAL    18.028763\ndtype: float64"
     },
     "metadata": {},
     "execution_count": 41
    }
   ],
   "source": [
    "# Step 11. Find the average windspeed in January for each location.\n",
    "\n",
    "wind_data[wind_data.Mo == 1].loc[:, 'RPT':'MAL'].mean()"
   ]
  },
  {
   "cell_type": "code",
   "execution_count": 42,
   "metadata": {},
   "outputs": [
    {
     "output_type": "execute_result",
     "data": {
      "text/plain": "Yr     69.500000\nMo      1.000000\nDy     16.000000\nRPT    14.847325\nVAL    12.914560\nROS    13.299624\nKIL     7.199498\nSHA    11.667734\nBIR     8.054839\nDUB    11.819355\nCLA     9.512047\nMUL     9.543208\nCLO    10.053566\nBEL    14.550520\nMAL    18.028763\ndtype: float64"
     },
     "metadata": {},
     "execution_count": 42
    }
   ],
   "source": [
    "wind_data.loc[wind_data.index.month == 1].mean()"
   ]
  },
  {
   "cell_type": "code",
   "execution_count": 71,
   "metadata": {},
   "outputs": [
    {
     "output_type": "execute_result",
     "data": {
      "text/plain": "              Yr        Mo         Dy        RPT        VAL        ROS  \\\ndate                                                                     \n1961-12-31  61.0  6.526027  15.720548  12.299583  10.351796  11.362369   \n1962-12-31  62.0  6.526027  15.720548  12.246923  10.110438  11.732712   \n1963-12-31  63.0  6.526027  15.720548  12.813452  10.836986  12.541151   \n1964-12-31  64.0  6.513661  15.756831  12.363661  10.920164  12.104372   \n1965-12-31  65.0  6.526027  15.720548  12.451370  11.075534  11.848767   \n1966-12-31  66.0  6.526027  15.720548  13.461973  11.557205  12.020630   \n1967-12-31  67.0  6.526027  15.720548  12.737151  10.990986  11.739397   \n1968-12-31  68.0  6.513661  15.756831  11.835628  10.468197  11.409754   \n1969-12-31  69.0  6.526027  15.720548  11.166356   9.723699  10.902000   \n1970-12-31  70.0  6.526027  15.720548  12.600329  10.726932  11.730247   \n1971-12-31  71.0  6.526027  15.720548  11.273123   9.095178  11.088329   \n1972-12-31  72.0  6.513661  15.756831  12.463962  10.561311  12.058333   \n1973-12-31  73.0  6.526027  15.720548  11.828466  10.680493  10.680493   \n1974-12-31  74.0  6.526027  15.720548  13.643096  11.811781  12.336356   \n1975-12-31  75.0  6.526027  15.720548  12.008575  10.293836  11.564712   \n1976-12-31  76.0  6.513661  15.756831  11.737842  10.203115  10.761230   \n1977-12-31  77.0  6.526027  15.720548  13.099616  11.144493  12.627836   \n1978-12-31  78.0  6.526027  15.720548  12.504356  11.044274  11.380000   \n\n                 KIL        SHA       BIR        DUB        CLA       MUL  \\\ndate                                                                        \n1961-12-31  6.958227  10.881763  7.729726   9.733923   8.858788  8.647652   \n1962-12-31  6.960440  10.657918  7.393068  11.020712   8.793753  8.316822   \n1963-12-31  7.330055  11.724110  8.434712  11.075699  10.336548  8.903589   \n1964-12-31  6.787787  11.454481  7.570874  10.259153   9.467350  7.789016   \n1965-12-31  6.858466  11.024795  7.478110  10.618712   8.879918  7.907425   \n1966-12-31  7.345726  11.805041  7.793671  10.579808   8.835096  8.514438   \n1967-12-31  7.143425  11.630740  7.368164  10.652027   9.325616  8.645014   \n1968-12-31  6.477678  10.760765  6.067322   8.859180   8.255519  7.224945   \n1969-12-31  5.767973   9.873918  6.189973   8.564493   7.711397  7.924521   \n1970-12-31  6.217178  10.567370  7.609452   9.609890   8.334630  9.297616   \n1971-12-31  5.241507   9.440329  6.097151   8.385890   6.757315  7.915370   \n1972-12-31  5.929699   9.430410  6.358825   9.704508   7.680792  8.357295   \n1973-12-31  5.547863   9.640877  6.548740   8.482110   7.614274  8.245534   \n1974-12-31  6.427041  11.110986  6.809781  10.084603   9.896986  9.331753   \n1975-12-31  5.269096   9.190082  5.668521   8.562603   7.843836  8.797945   \n1976-12-31  5.109426   8.846339  6.311038   9.149126   7.146202  8.883716   \n1977-12-31  6.073945  10.003836  8.586438  11.523205   8.378384  9.098192   \n1978-12-31  6.082356  10.167233  7.650658   9.489342   8.800466  9.089753   \n\n                  CLO        BEL        MAL  \ndate                                         \n1961-12-31   9.835577  13.502795  13.680773  \n1962-12-31   9.676247  12.930685  14.323956  \n1963-12-31  10.224438  13.638877  14.999014  \n1964-12-31  10.207951  13.740546  14.910301  \n1965-12-31   9.918082  12.964247  15.591644  \n1966-12-31   9.768959  14.265836  16.307260  \n1967-12-31   9.547425  14.774548  17.135945  \n1968-12-31   7.832978  12.808634  15.017486  \n1969-12-31   7.754384  12.621233  15.762904  \n1970-12-31   8.289808  13.183644  16.456027  \n1971-12-31   7.229753  12.208932  15.025233  \n1972-12-31   7.515273  12.727377  15.028716  \n1973-12-31   7.812411  12.169699  15.441096  \n1974-12-31   8.736356  13.252959  16.947671  \n1975-12-31   7.382822  12.631671  15.307863  \n1976-12-31   7.883087  12.332377  15.471448  \n1977-12-31   8.821616  13.459068  16.590849  \n1978-12-31   8.301699  12.967397  16.771370  ",
      "text/html": "<div>\n<style scoped>\n    .dataframe tbody tr th:only-of-type {\n        vertical-align: middle;\n    }\n\n    .dataframe tbody tr th {\n        vertical-align: top;\n    }\n\n    .dataframe thead th {\n        text-align: right;\n    }\n</style>\n<table border=\"1\" class=\"dataframe\">\n  <thead>\n    <tr style=\"text-align: right;\">\n      <th></th>\n      <th>Yr</th>\n      <th>Mo</th>\n      <th>Dy</th>\n      <th>RPT</th>\n      <th>VAL</th>\n      <th>ROS</th>\n      <th>KIL</th>\n      <th>SHA</th>\n      <th>BIR</th>\n      <th>DUB</th>\n      <th>CLA</th>\n      <th>MUL</th>\n      <th>CLO</th>\n      <th>BEL</th>\n      <th>MAL</th>\n    </tr>\n    <tr>\n      <th>date</th>\n      <th></th>\n      <th></th>\n      <th></th>\n      <th></th>\n      <th></th>\n      <th></th>\n      <th></th>\n      <th></th>\n      <th></th>\n      <th></th>\n      <th></th>\n      <th></th>\n      <th></th>\n      <th></th>\n      <th></th>\n    </tr>\n  </thead>\n  <tbody>\n    <tr>\n      <th>1961-12-31</th>\n      <td>61.0</td>\n      <td>6.526027</td>\n      <td>15.720548</td>\n      <td>12.299583</td>\n      <td>10.351796</td>\n      <td>11.362369</td>\n      <td>6.958227</td>\n      <td>10.881763</td>\n      <td>7.729726</td>\n      <td>9.733923</td>\n      <td>8.858788</td>\n      <td>8.647652</td>\n      <td>9.835577</td>\n      <td>13.502795</td>\n      <td>13.680773</td>\n    </tr>\n    <tr>\n      <th>1962-12-31</th>\n      <td>62.0</td>\n      <td>6.526027</td>\n      <td>15.720548</td>\n      <td>12.246923</td>\n      <td>10.110438</td>\n      <td>11.732712</td>\n      <td>6.960440</td>\n      <td>10.657918</td>\n      <td>7.393068</td>\n      <td>11.020712</td>\n      <td>8.793753</td>\n      <td>8.316822</td>\n      <td>9.676247</td>\n      <td>12.930685</td>\n      <td>14.323956</td>\n    </tr>\n    <tr>\n      <th>1963-12-31</th>\n      <td>63.0</td>\n      <td>6.526027</td>\n      <td>15.720548</td>\n      <td>12.813452</td>\n      <td>10.836986</td>\n      <td>12.541151</td>\n      <td>7.330055</td>\n      <td>11.724110</td>\n      <td>8.434712</td>\n      <td>11.075699</td>\n      <td>10.336548</td>\n      <td>8.903589</td>\n      <td>10.224438</td>\n      <td>13.638877</td>\n      <td>14.999014</td>\n    </tr>\n    <tr>\n      <th>1964-12-31</th>\n      <td>64.0</td>\n      <td>6.513661</td>\n      <td>15.756831</td>\n      <td>12.363661</td>\n      <td>10.920164</td>\n      <td>12.104372</td>\n      <td>6.787787</td>\n      <td>11.454481</td>\n      <td>7.570874</td>\n      <td>10.259153</td>\n      <td>9.467350</td>\n      <td>7.789016</td>\n      <td>10.207951</td>\n      <td>13.740546</td>\n      <td>14.910301</td>\n    </tr>\n    <tr>\n      <th>1965-12-31</th>\n      <td>65.0</td>\n      <td>6.526027</td>\n      <td>15.720548</td>\n      <td>12.451370</td>\n      <td>11.075534</td>\n      <td>11.848767</td>\n      <td>6.858466</td>\n      <td>11.024795</td>\n      <td>7.478110</td>\n      <td>10.618712</td>\n      <td>8.879918</td>\n      <td>7.907425</td>\n      <td>9.918082</td>\n      <td>12.964247</td>\n      <td>15.591644</td>\n    </tr>\n    <tr>\n      <th>1966-12-31</th>\n      <td>66.0</td>\n      <td>6.526027</td>\n      <td>15.720548</td>\n      <td>13.461973</td>\n      <td>11.557205</td>\n      <td>12.020630</td>\n      <td>7.345726</td>\n      <td>11.805041</td>\n      <td>7.793671</td>\n      <td>10.579808</td>\n      <td>8.835096</td>\n      <td>8.514438</td>\n      <td>9.768959</td>\n      <td>14.265836</td>\n      <td>16.307260</td>\n    </tr>\n    <tr>\n      <th>1967-12-31</th>\n      <td>67.0</td>\n      <td>6.526027</td>\n      <td>15.720548</td>\n      <td>12.737151</td>\n      <td>10.990986</td>\n      <td>11.739397</td>\n      <td>7.143425</td>\n      <td>11.630740</td>\n      <td>7.368164</td>\n      <td>10.652027</td>\n      <td>9.325616</td>\n      <td>8.645014</td>\n      <td>9.547425</td>\n      <td>14.774548</td>\n      <td>17.135945</td>\n    </tr>\n    <tr>\n      <th>1968-12-31</th>\n      <td>68.0</td>\n      <td>6.513661</td>\n      <td>15.756831</td>\n      <td>11.835628</td>\n      <td>10.468197</td>\n      <td>11.409754</td>\n      <td>6.477678</td>\n      <td>10.760765</td>\n      <td>6.067322</td>\n      <td>8.859180</td>\n      <td>8.255519</td>\n      <td>7.224945</td>\n      <td>7.832978</td>\n      <td>12.808634</td>\n      <td>15.017486</td>\n    </tr>\n    <tr>\n      <th>1969-12-31</th>\n      <td>69.0</td>\n      <td>6.526027</td>\n      <td>15.720548</td>\n      <td>11.166356</td>\n      <td>9.723699</td>\n      <td>10.902000</td>\n      <td>5.767973</td>\n      <td>9.873918</td>\n      <td>6.189973</td>\n      <td>8.564493</td>\n      <td>7.711397</td>\n      <td>7.924521</td>\n      <td>7.754384</td>\n      <td>12.621233</td>\n      <td>15.762904</td>\n    </tr>\n    <tr>\n      <th>1970-12-31</th>\n      <td>70.0</td>\n      <td>6.526027</td>\n      <td>15.720548</td>\n      <td>12.600329</td>\n      <td>10.726932</td>\n      <td>11.730247</td>\n      <td>6.217178</td>\n      <td>10.567370</td>\n      <td>7.609452</td>\n      <td>9.609890</td>\n      <td>8.334630</td>\n      <td>9.297616</td>\n      <td>8.289808</td>\n      <td>13.183644</td>\n      <td>16.456027</td>\n    </tr>\n    <tr>\n      <th>1971-12-31</th>\n      <td>71.0</td>\n      <td>6.526027</td>\n      <td>15.720548</td>\n      <td>11.273123</td>\n      <td>9.095178</td>\n      <td>11.088329</td>\n      <td>5.241507</td>\n      <td>9.440329</td>\n      <td>6.097151</td>\n      <td>8.385890</td>\n      <td>6.757315</td>\n      <td>7.915370</td>\n      <td>7.229753</td>\n      <td>12.208932</td>\n      <td>15.025233</td>\n    </tr>\n    <tr>\n      <th>1972-12-31</th>\n      <td>72.0</td>\n      <td>6.513661</td>\n      <td>15.756831</td>\n      <td>12.463962</td>\n      <td>10.561311</td>\n      <td>12.058333</td>\n      <td>5.929699</td>\n      <td>9.430410</td>\n      <td>6.358825</td>\n      <td>9.704508</td>\n      <td>7.680792</td>\n      <td>8.357295</td>\n      <td>7.515273</td>\n      <td>12.727377</td>\n      <td>15.028716</td>\n    </tr>\n    <tr>\n      <th>1973-12-31</th>\n      <td>73.0</td>\n      <td>6.526027</td>\n      <td>15.720548</td>\n      <td>11.828466</td>\n      <td>10.680493</td>\n      <td>10.680493</td>\n      <td>5.547863</td>\n      <td>9.640877</td>\n      <td>6.548740</td>\n      <td>8.482110</td>\n      <td>7.614274</td>\n      <td>8.245534</td>\n      <td>7.812411</td>\n      <td>12.169699</td>\n      <td>15.441096</td>\n    </tr>\n    <tr>\n      <th>1974-12-31</th>\n      <td>74.0</td>\n      <td>6.526027</td>\n      <td>15.720548</td>\n      <td>13.643096</td>\n      <td>11.811781</td>\n      <td>12.336356</td>\n      <td>6.427041</td>\n      <td>11.110986</td>\n      <td>6.809781</td>\n      <td>10.084603</td>\n      <td>9.896986</td>\n      <td>9.331753</td>\n      <td>8.736356</td>\n      <td>13.252959</td>\n      <td>16.947671</td>\n    </tr>\n    <tr>\n      <th>1975-12-31</th>\n      <td>75.0</td>\n      <td>6.526027</td>\n      <td>15.720548</td>\n      <td>12.008575</td>\n      <td>10.293836</td>\n      <td>11.564712</td>\n      <td>5.269096</td>\n      <td>9.190082</td>\n      <td>5.668521</td>\n      <td>8.562603</td>\n      <td>7.843836</td>\n      <td>8.797945</td>\n      <td>7.382822</td>\n      <td>12.631671</td>\n      <td>15.307863</td>\n    </tr>\n    <tr>\n      <th>1976-12-31</th>\n      <td>76.0</td>\n      <td>6.513661</td>\n      <td>15.756831</td>\n      <td>11.737842</td>\n      <td>10.203115</td>\n      <td>10.761230</td>\n      <td>5.109426</td>\n      <td>8.846339</td>\n      <td>6.311038</td>\n      <td>9.149126</td>\n      <td>7.146202</td>\n      <td>8.883716</td>\n      <td>7.883087</td>\n      <td>12.332377</td>\n      <td>15.471448</td>\n    </tr>\n    <tr>\n      <th>1977-12-31</th>\n      <td>77.0</td>\n      <td>6.526027</td>\n      <td>15.720548</td>\n      <td>13.099616</td>\n      <td>11.144493</td>\n      <td>12.627836</td>\n      <td>6.073945</td>\n      <td>10.003836</td>\n      <td>8.586438</td>\n      <td>11.523205</td>\n      <td>8.378384</td>\n      <td>9.098192</td>\n      <td>8.821616</td>\n      <td>13.459068</td>\n      <td>16.590849</td>\n    </tr>\n    <tr>\n      <th>1978-12-31</th>\n      <td>78.0</td>\n      <td>6.526027</td>\n      <td>15.720548</td>\n      <td>12.504356</td>\n      <td>11.044274</td>\n      <td>11.380000</td>\n      <td>6.082356</td>\n      <td>10.167233</td>\n      <td>7.650658</td>\n      <td>9.489342</td>\n      <td>8.800466</td>\n      <td>9.089753</td>\n      <td>8.301699</td>\n      <td>12.967397</td>\n      <td>16.771370</td>\n    </tr>\n  </tbody>\n</table>\n</div>"
     },
     "metadata": {},
     "execution_count": 71
    }
   ],
   "source": [
    "# Step 12. Downsample the record to a yearly frequency for each location.\n",
    "ds = wind_data.resample(rule='A')\n",
    "ds.mean()"
   ]
  },
  {
   "cell_type": "code",
   "execution_count": 72,
   "metadata": {},
   "outputs": [
    {
     "output_type": "execute_result",
     "data": {
      "text/plain": "              Yr    Mo    Dy        RPT        VAL        ROS       KIL  \\\ndate                                                                      \n1961-01-31  61.0   1.0  16.0  14.841333  11.988333  13.431613  7.736774   \n1961-02-28  61.0   2.0  14.5  16.269286  14.975357  14.441481  9.230741   \n1961-03-31  61.0   3.0  16.0  10.890000  11.296452  10.752903  7.284000   \n1961-04-30  61.0   4.0  15.5  10.722667   9.427667   9.998000  5.830667   \n1961-05-31  61.0   5.0  16.0   9.860968   8.850000  10.818065  5.905333   \n...          ...   ...   ...        ...        ...        ...       ...   \n1978-08-31  78.0   8.0  16.0   9.645161   8.259355   9.032258  4.502903   \n1978-09-30  78.0   9.0  15.5  10.913667  10.895000  10.635000  5.725000   \n1978-10-31  78.0  10.0  16.0   9.897742   8.670968   9.295806  4.721290   \n1978-11-30  78.0  11.0  15.5  16.151667  14.802667  13.508000  7.317333   \n1978-12-31  78.0  12.0  16.0  16.175484  13.748065  15.635161  7.094839   \n\n                  SHA        BIR        DUB        CLA        MUL        CLO  \\\ndate                                                                           \n1961-01-31  11.072759   8.588065  11.184839   9.245333   9.085806  10.107419   \n1961-02-28  13.852143  10.937500  11.890714  11.846071  11.821429  12.714286   \n1961-03-31  10.509355   8.866774   9.644194   9.829677  10.294138  11.251935   \n1961-04-30   8.435000   6.495000   6.925333   7.094667   7.342333   7.237000   \n1961-05-31   9.490323   6.574839   7.604000   8.177097   8.039355   8.499355   \n...               ...        ...        ...        ...        ...        ...   \n1978-08-31   7.368065   5.935161   5.650323   5.417742   7.241290   5.536774   \n1978-09-30  10.372000   9.278333  10.790333   9.583000  10.069333   8.939000   \n1978-10-31   8.525161   6.774194   8.115484   7.337742   8.297742   8.243871   \n1978-11-30  11.475000   8.743000  11.492333   9.657333  10.701333  10.676000   \n1978-12-31  11.398710   9.241613  12.077419  10.194839  10.616774  11.028710   \n\n                  BEL        MAL  \ndate                              \n1961-01-31  13.880968  14.703226  \n1961-02-28  18.583214  15.411786  \n1961-03-31  16.410968  15.720000  \n1961-04-30  11.147333  10.278333  \n1961-05-31  11.900323  12.011613  \n...               ...        ...  \n1978-08-31  10.466774  12.054194  \n1978-09-30  15.680333  19.391333  \n1978-10-31  13.776774  17.150000  \n1978-11-30  17.404667  20.723000  \n1978-12-31  13.859677  21.371613  \n\n[216 rows x 15 columns]",
      "text/html": "<div>\n<style scoped>\n    .dataframe tbody tr th:only-of-type {\n        vertical-align: middle;\n    }\n\n    .dataframe tbody tr th {\n        vertical-align: top;\n    }\n\n    .dataframe thead th {\n        text-align: right;\n    }\n</style>\n<table border=\"1\" class=\"dataframe\">\n  <thead>\n    <tr style=\"text-align: right;\">\n      <th></th>\n      <th>Yr</th>\n      <th>Mo</th>\n      <th>Dy</th>\n      <th>RPT</th>\n      <th>VAL</th>\n      <th>ROS</th>\n      <th>KIL</th>\n      <th>SHA</th>\n      <th>BIR</th>\n      <th>DUB</th>\n      <th>CLA</th>\n      <th>MUL</th>\n      <th>CLO</th>\n      <th>BEL</th>\n      <th>MAL</th>\n    </tr>\n    <tr>\n      <th>date</th>\n      <th></th>\n      <th></th>\n      <th></th>\n      <th></th>\n      <th></th>\n      <th></th>\n      <th></th>\n      <th></th>\n      <th></th>\n      <th></th>\n      <th></th>\n      <th></th>\n      <th></th>\n      <th></th>\n      <th></th>\n    </tr>\n  </thead>\n  <tbody>\n    <tr>\n      <th>1961-01-31</th>\n      <td>61.0</td>\n      <td>1.0</td>\n      <td>16.0</td>\n      <td>14.841333</td>\n      <td>11.988333</td>\n      <td>13.431613</td>\n      <td>7.736774</td>\n      <td>11.072759</td>\n      <td>8.588065</td>\n      <td>11.184839</td>\n      <td>9.245333</td>\n      <td>9.085806</td>\n      <td>10.107419</td>\n      <td>13.880968</td>\n      <td>14.703226</td>\n    </tr>\n    <tr>\n      <th>1961-02-28</th>\n      <td>61.0</td>\n      <td>2.0</td>\n      <td>14.5</td>\n      <td>16.269286</td>\n      <td>14.975357</td>\n      <td>14.441481</td>\n      <td>9.230741</td>\n      <td>13.852143</td>\n      <td>10.937500</td>\n      <td>11.890714</td>\n      <td>11.846071</td>\n      <td>11.821429</td>\n      <td>12.714286</td>\n      <td>18.583214</td>\n      <td>15.411786</td>\n    </tr>\n    <tr>\n      <th>1961-03-31</th>\n      <td>61.0</td>\n      <td>3.0</td>\n      <td>16.0</td>\n      <td>10.890000</td>\n      <td>11.296452</td>\n      <td>10.752903</td>\n      <td>7.284000</td>\n      <td>10.509355</td>\n      <td>8.866774</td>\n      <td>9.644194</td>\n      <td>9.829677</td>\n      <td>10.294138</td>\n      <td>11.251935</td>\n      <td>16.410968</td>\n      <td>15.720000</td>\n    </tr>\n    <tr>\n      <th>1961-04-30</th>\n      <td>61.0</td>\n      <td>4.0</td>\n      <td>15.5</td>\n      <td>10.722667</td>\n      <td>9.427667</td>\n      <td>9.998000</td>\n      <td>5.830667</td>\n      <td>8.435000</td>\n      <td>6.495000</td>\n      <td>6.925333</td>\n      <td>7.094667</td>\n      <td>7.342333</td>\n      <td>7.237000</td>\n      <td>11.147333</td>\n      <td>10.278333</td>\n    </tr>\n    <tr>\n      <th>1961-05-31</th>\n      <td>61.0</td>\n      <td>5.0</td>\n      <td>16.0</td>\n      <td>9.860968</td>\n      <td>8.850000</td>\n      <td>10.818065</td>\n      <td>5.905333</td>\n      <td>9.490323</td>\n      <td>6.574839</td>\n      <td>7.604000</td>\n      <td>8.177097</td>\n      <td>8.039355</td>\n      <td>8.499355</td>\n      <td>11.900323</td>\n      <td>12.011613</td>\n    </tr>\n    <tr>\n      <th>...</th>\n      <td>...</td>\n      <td>...</td>\n      <td>...</td>\n      <td>...</td>\n      <td>...</td>\n      <td>...</td>\n      <td>...</td>\n      <td>...</td>\n      <td>...</td>\n      <td>...</td>\n      <td>...</td>\n      <td>...</td>\n      <td>...</td>\n      <td>...</td>\n      <td>...</td>\n    </tr>\n    <tr>\n      <th>1978-08-31</th>\n      <td>78.0</td>\n      <td>8.0</td>\n      <td>16.0</td>\n      <td>9.645161</td>\n      <td>8.259355</td>\n      <td>9.032258</td>\n      <td>4.502903</td>\n      <td>7.368065</td>\n      <td>5.935161</td>\n      <td>5.650323</td>\n      <td>5.417742</td>\n      <td>7.241290</td>\n      <td>5.536774</td>\n      <td>10.466774</td>\n      <td>12.054194</td>\n    </tr>\n    <tr>\n      <th>1978-09-30</th>\n      <td>78.0</td>\n      <td>9.0</td>\n      <td>15.5</td>\n      <td>10.913667</td>\n      <td>10.895000</td>\n      <td>10.635000</td>\n      <td>5.725000</td>\n      <td>10.372000</td>\n      <td>9.278333</td>\n      <td>10.790333</td>\n      <td>9.583000</td>\n      <td>10.069333</td>\n      <td>8.939000</td>\n      <td>15.680333</td>\n      <td>19.391333</td>\n    </tr>\n    <tr>\n      <th>1978-10-31</th>\n      <td>78.0</td>\n      <td>10.0</td>\n      <td>16.0</td>\n      <td>9.897742</td>\n      <td>8.670968</td>\n      <td>9.295806</td>\n      <td>4.721290</td>\n      <td>8.525161</td>\n      <td>6.774194</td>\n      <td>8.115484</td>\n      <td>7.337742</td>\n      <td>8.297742</td>\n      <td>8.243871</td>\n      <td>13.776774</td>\n      <td>17.150000</td>\n    </tr>\n    <tr>\n      <th>1978-11-30</th>\n      <td>78.0</td>\n      <td>11.0</td>\n      <td>15.5</td>\n      <td>16.151667</td>\n      <td>14.802667</td>\n      <td>13.508000</td>\n      <td>7.317333</td>\n      <td>11.475000</td>\n      <td>8.743000</td>\n      <td>11.492333</td>\n      <td>9.657333</td>\n      <td>10.701333</td>\n      <td>10.676000</td>\n      <td>17.404667</td>\n      <td>20.723000</td>\n    </tr>\n    <tr>\n      <th>1978-12-31</th>\n      <td>78.0</td>\n      <td>12.0</td>\n      <td>16.0</td>\n      <td>16.175484</td>\n      <td>13.748065</td>\n      <td>15.635161</td>\n      <td>7.094839</td>\n      <td>11.398710</td>\n      <td>9.241613</td>\n      <td>12.077419</td>\n      <td>10.194839</td>\n      <td>10.616774</td>\n      <td>11.028710</td>\n      <td>13.859677</td>\n      <td>21.371613</td>\n    </tr>\n  </tbody>\n</table>\n<p>216 rows × 15 columns</p>\n</div>"
     },
     "metadata": {},
     "execution_count": 72
    }
   ],
   "source": [
    "#Step 13. Downsample the record to a monthly frequency for each location.\n",
    "ds = wind_data.resample(rule='M')\n",
    "ds.mean()"
   ]
  },
  {
   "cell_type": "code",
   "execution_count": 73,
   "metadata": {},
   "outputs": [
    {
     "output_type": "execute_result",
     "data": {
      "text/plain": "              Yr         Mo         Dy        RPT        VAL        ROS  \\\ndate                                                                      \n1961-01-01  61.0   1.000000   1.000000  15.040000  14.960000  13.170000   \n1961-01-08  61.0   1.000000   5.000000  13.541429  11.486667  10.487143   \n1961-01-15  61.0   1.000000  12.000000  12.468571   8.967143  11.958571   \n1961-01-22  61.0   1.000000  19.000000  13.204286   9.862857  12.982857   \n1961-01-29  61.0   1.000000  26.000000  19.880000  16.141429  18.225714   \n...          ...        ...        ...        ...        ...        ...   \n1978-12-03  78.0  11.428571  17.142857  14.934286  11.232857  13.941429   \n1978-12-10  78.0  12.000000   7.000000  20.740000  19.190000  17.034286   \n1978-12-17  78.0  12.000000  14.000000  16.758571  14.692857  14.987143   \n1978-12-24  78.0  12.000000  21.000000  11.155714   8.008571  13.172857   \n1978-12-31  78.0  12.000000  28.000000  14.951429  11.801429  16.035714   \n\n                  KIL        SHA        BIR        DUB        CLA        MUL  \\\ndate                                                                           \n1961-01-01   9.290000        NaN   9.870000  13.670000  10.250000  10.830000   \n1961-01-08   6.417143   9.474286   6.435714  11.061429   6.616667   8.434286   \n1961-01-15   4.630000   7.351429   5.072857   7.535714   6.820000   5.712857   \n1961-01-22   6.328571   8.966667   7.417143   9.257143   7.875714   7.145714   \n1961-01-29  12.720000  17.432857  14.828571  15.528571  15.160000  14.480000   \n...               ...        ...        ...        ...        ...        ...   \n1978-12-03   5.565714  10.215714   8.618571   9.642857   7.685714   9.011429   \n1978-12-10   9.777143  15.287143  12.774286  14.437143  12.488571  13.870000   \n1978-12-17   6.917143  11.397143   7.272857  10.208571   7.967143   9.168571   \n1978-12-24   4.004286   7.825714   6.290000   7.798571   8.667143   7.151429   \n1978-12-31   6.507143   9.660000   8.620000  13.708571  10.477143  10.868571   \n\n                  CLO        BEL        MAL  \ndate                                         \n1961-01-01  12.580000  18.500000  15.040000  \n1961-01-08   8.497143  12.481429  13.238571  \n1961-01-15   7.571429  11.125714  11.024286  \n1961-01-22   8.124286   9.821429  11.434286  \n1961-01-29  15.640000  20.930000  22.530000  \n...               ...        ...        ...  \n1978-12-03   9.547143  11.835714  18.728571  \n1978-12-10  14.082857  18.517143  23.061429  \n1978-12-17   8.565714  11.102857  15.562857  \n1978-12-24   8.072857  11.845714  18.977143  \n1978-12-31  11.471429  12.947143  26.844286  \n\n[940 rows x 15 columns]",
      "text/html": "<div>\n<style scoped>\n    .dataframe tbody tr th:only-of-type {\n        vertical-align: middle;\n    }\n\n    .dataframe tbody tr th {\n        vertical-align: top;\n    }\n\n    .dataframe thead th {\n        text-align: right;\n    }\n</style>\n<table border=\"1\" class=\"dataframe\">\n  <thead>\n    <tr style=\"text-align: right;\">\n      <th></th>\n      <th>Yr</th>\n      <th>Mo</th>\n      <th>Dy</th>\n      <th>RPT</th>\n      <th>VAL</th>\n      <th>ROS</th>\n      <th>KIL</th>\n      <th>SHA</th>\n      <th>BIR</th>\n      <th>DUB</th>\n      <th>CLA</th>\n      <th>MUL</th>\n      <th>CLO</th>\n      <th>BEL</th>\n      <th>MAL</th>\n    </tr>\n    <tr>\n      <th>date</th>\n      <th></th>\n      <th></th>\n      <th></th>\n      <th></th>\n      <th></th>\n      <th></th>\n      <th></th>\n      <th></th>\n      <th></th>\n      <th></th>\n      <th></th>\n      <th></th>\n      <th></th>\n      <th></th>\n      <th></th>\n    </tr>\n  </thead>\n  <tbody>\n    <tr>\n      <th>1961-01-01</th>\n      <td>61.0</td>\n      <td>1.000000</td>\n      <td>1.000000</td>\n      <td>15.040000</td>\n      <td>14.960000</td>\n      <td>13.170000</td>\n      <td>9.290000</td>\n      <td>NaN</td>\n      <td>9.870000</td>\n      <td>13.670000</td>\n      <td>10.250000</td>\n      <td>10.830000</td>\n      <td>12.580000</td>\n      <td>18.500000</td>\n      <td>15.040000</td>\n    </tr>\n    <tr>\n      <th>1961-01-08</th>\n      <td>61.0</td>\n      <td>1.000000</td>\n      <td>5.000000</td>\n      <td>13.541429</td>\n      <td>11.486667</td>\n      <td>10.487143</td>\n      <td>6.417143</td>\n      <td>9.474286</td>\n      <td>6.435714</td>\n      <td>11.061429</td>\n      <td>6.616667</td>\n      <td>8.434286</td>\n      <td>8.497143</td>\n      <td>12.481429</td>\n      <td>13.238571</td>\n    </tr>\n    <tr>\n      <th>1961-01-15</th>\n      <td>61.0</td>\n      <td>1.000000</td>\n      <td>12.000000</td>\n      <td>12.468571</td>\n      <td>8.967143</td>\n      <td>11.958571</td>\n      <td>4.630000</td>\n      <td>7.351429</td>\n      <td>5.072857</td>\n      <td>7.535714</td>\n      <td>6.820000</td>\n      <td>5.712857</td>\n      <td>7.571429</td>\n      <td>11.125714</td>\n      <td>11.024286</td>\n    </tr>\n    <tr>\n      <th>1961-01-22</th>\n      <td>61.0</td>\n      <td>1.000000</td>\n      <td>19.000000</td>\n      <td>13.204286</td>\n      <td>9.862857</td>\n      <td>12.982857</td>\n      <td>6.328571</td>\n      <td>8.966667</td>\n      <td>7.417143</td>\n      <td>9.257143</td>\n      <td>7.875714</td>\n      <td>7.145714</td>\n      <td>8.124286</td>\n      <td>9.821429</td>\n      <td>11.434286</td>\n    </tr>\n    <tr>\n      <th>1961-01-29</th>\n      <td>61.0</td>\n      <td>1.000000</td>\n      <td>26.000000</td>\n      <td>19.880000</td>\n      <td>16.141429</td>\n      <td>18.225714</td>\n      <td>12.720000</td>\n      <td>17.432857</td>\n      <td>14.828571</td>\n      <td>15.528571</td>\n      <td>15.160000</td>\n      <td>14.480000</td>\n      <td>15.640000</td>\n      <td>20.930000</td>\n      <td>22.530000</td>\n    </tr>\n    <tr>\n      <th>...</th>\n      <td>...</td>\n      <td>...</td>\n      <td>...</td>\n      <td>...</td>\n      <td>...</td>\n      <td>...</td>\n      <td>...</td>\n      <td>...</td>\n      <td>...</td>\n      <td>...</td>\n      <td>...</td>\n      <td>...</td>\n      <td>...</td>\n      <td>...</td>\n      <td>...</td>\n    </tr>\n    <tr>\n      <th>1978-12-03</th>\n      <td>78.0</td>\n      <td>11.428571</td>\n      <td>17.142857</td>\n      <td>14.934286</td>\n      <td>11.232857</td>\n      <td>13.941429</td>\n      <td>5.565714</td>\n      <td>10.215714</td>\n      <td>8.618571</td>\n      <td>9.642857</td>\n      <td>7.685714</td>\n      <td>9.011429</td>\n      <td>9.547143</td>\n      <td>11.835714</td>\n      <td>18.728571</td>\n    </tr>\n    <tr>\n      <th>1978-12-10</th>\n      <td>78.0</td>\n      <td>12.000000</td>\n      <td>7.000000</td>\n      <td>20.740000</td>\n      <td>19.190000</td>\n      <td>17.034286</td>\n      <td>9.777143</td>\n      <td>15.287143</td>\n      <td>12.774286</td>\n      <td>14.437143</td>\n      <td>12.488571</td>\n      <td>13.870000</td>\n      <td>14.082857</td>\n      <td>18.517143</td>\n      <td>23.061429</td>\n    </tr>\n    <tr>\n      <th>1978-12-17</th>\n      <td>78.0</td>\n      <td>12.000000</td>\n      <td>14.000000</td>\n      <td>16.758571</td>\n      <td>14.692857</td>\n      <td>14.987143</td>\n      <td>6.917143</td>\n      <td>11.397143</td>\n      <td>7.272857</td>\n      <td>10.208571</td>\n      <td>7.967143</td>\n      <td>9.168571</td>\n      <td>8.565714</td>\n      <td>11.102857</td>\n      <td>15.562857</td>\n    </tr>\n    <tr>\n      <th>1978-12-24</th>\n      <td>78.0</td>\n      <td>12.000000</td>\n      <td>21.000000</td>\n      <td>11.155714</td>\n      <td>8.008571</td>\n      <td>13.172857</td>\n      <td>4.004286</td>\n      <td>7.825714</td>\n      <td>6.290000</td>\n      <td>7.798571</td>\n      <td>8.667143</td>\n      <td>7.151429</td>\n      <td>8.072857</td>\n      <td>11.845714</td>\n      <td>18.977143</td>\n    </tr>\n    <tr>\n      <th>1978-12-31</th>\n      <td>78.0</td>\n      <td>12.000000</td>\n      <td>28.000000</td>\n      <td>14.951429</td>\n      <td>11.801429</td>\n      <td>16.035714</td>\n      <td>6.507143</td>\n      <td>9.660000</td>\n      <td>8.620000</td>\n      <td>13.708571</td>\n      <td>10.477143</td>\n      <td>10.868571</td>\n      <td>11.471429</td>\n      <td>12.947143</td>\n      <td>26.844286</td>\n    </tr>\n  </tbody>\n</table>\n<p>940 rows × 15 columns</p>\n</div>"
     },
     "metadata": {},
     "execution_count": 73
    }
   ],
   "source": [
    "# Step 14. Downsample the record to a weekly frequency for each location.\n",
    "ds = wind_data.resample(rule='W')\n",
    "ds.mean()"
   ]
  },
  {
   "cell_type": "code",
   "execution_count": 77,
   "metadata": {},
   "outputs": [
    {
     "output_type": "execute_result",
     "data": {
      "text/plain": "Timedelta('1 days 00:00:00')"
     },
     "metadata": {},
     "execution_count": 77
    }
   ],
   "source": [
    "# Step 15. Calculate the min, max and mean windspeeds and standard deviations of the windspeeds across all locations for each week (assume that the first week starts on January 2 1961) for the first 52 weeks.\n",
    "pd.Timedelta(1, 'D')\n"
   ]
  },
  {
   "cell_type": "code",
   "execution_count": 78,
   "metadata": {},
   "outputs": [
    {
     "output_type": "execute_result",
     "data": {
      "text/plain": "              Yr         Mo         Dy        RPT        VAL        ROS  \\\ndate                                                                      \n1961-01-02  61.0   1.000000   1.000000  15.040000  14.960000  13.170000   \n1961-01-09  61.0   1.000000   5.000000  13.541429  11.486667  10.487143   \n1961-01-16  61.0   1.000000  12.000000  12.468571   8.967143  11.958571   \n1961-01-23  61.0   1.000000  19.000000  13.204286   9.862857  12.982857   \n1961-01-30  61.0   1.000000  26.000000  19.880000  16.141429  18.225714   \n...          ...        ...        ...        ...        ...        ...   \n1978-12-04  78.0  11.428571  17.142857  14.934286  11.232857  13.941429   \n1978-12-11  78.0  12.000000   7.000000  20.740000  19.190000  17.034286   \n1978-12-18  78.0  12.000000  14.000000  16.758571  14.692857  14.987143   \n1978-12-25  78.0  12.000000  21.000000  11.155714   8.008571  13.172857   \n1979-01-01  78.0  12.000000  28.000000  14.951429  11.801429  16.035714   \n\n                  KIL        SHA        BIR        DUB        CLA        MUL  \\\ndate                                                                           \n1961-01-02   9.290000        NaN   9.870000  13.670000  10.250000  10.830000   \n1961-01-09   6.417143   9.474286   6.435714  11.061429   6.616667   8.434286   \n1961-01-16   4.630000   7.351429   5.072857   7.535714   6.820000   5.712857   \n1961-01-23   6.328571   8.966667   7.417143   9.257143   7.875714   7.145714   \n1961-01-30  12.720000  17.432857  14.828571  15.528571  15.160000  14.480000   \n...               ...        ...        ...        ...        ...        ...   \n1978-12-04   5.565714  10.215714   8.618571   9.642857   7.685714   9.011429   \n1978-12-11   9.777143  15.287143  12.774286  14.437143  12.488571  13.870000   \n1978-12-18   6.917143  11.397143   7.272857  10.208571   7.967143   9.168571   \n1978-12-25   4.004286   7.825714   6.290000   7.798571   8.667143   7.151429   \n1979-01-01   6.507143   9.660000   8.620000  13.708571  10.477143  10.868571   \n\n                  CLO        BEL        MAL  \ndate                                         \n1961-01-02  12.580000  18.500000  15.040000  \n1961-01-09   8.497143  12.481429  13.238571  \n1961-01-16   7.571429  11.125714  11.024286  \n1961-01-23   8.124286   9.821429  11.434286  \n1961-01-30  15.640000  20.930000  22.530000  \n...               ...        ...        ...  \n1978-12-04   9.547143  11.835714  18.728571  \n1978-12-11  14.082857  18.517143  23.061429  \n1978-12-18   8.565714  11.102857  15.562857  \n1978-12-25   8.072857  11.845714  18.977143  \n1979-01-01  11.471429  12.947143  26.844286  \n\n[940 rows x 15 columns]",
      "text/html": "<div>\n<style scoped>\n    .dataframe tbody tr th:only-of-type {\n        vertical-align: middle;\n    }\n\n    .dataframe tbody tr th {\n        vertical-align: top;\n    }\n\n    .dataframe thead th {\n        text-align: right;\n    }\n</style>\n<table border=\"1\" class=\"dataframe\">\n  <thead>\n    <tr style=\"text-align: right;\">\n      <th></th>\n      <th>Yr</th>\n      <th>Mo</th>\n      <th>Dy</th>\n      <th>RPT</th>\n      <th>VAL</th>\n      <th>ROS</th>\n      <th>KIL</th>\n      <th>SHA</th>\n      <th>BIR</th>\n      <th>DUB</th>\n      <th>CLA</th>\n      <th>MUL</th>\n      <th>CLO</th>\n      <th>BEL</th>\n      <th>MAL</th>\n    </tr>\n    <tr>\n      <th>date</th>\n      <th></th>\n      <th></th>\n      <th></th>\n      <th></th>\n      <th></th>\n      <th></th>\n      <th></th>\n      <th></th>\n      <th></th>\n      <th></th>\n      <th></th>\n      <th></th>\n      <th></th>\n      <th></th>\n      <th></th>\n    </tr>\n  </thead>\n  <tbody>\n    <tr>\n      <th>1961-01-02</th>\n      <td>61.0</td>\n      <td>1.000000</td>\n      <td>1.000000</td>\n      <td>15.040000</td>\n      <td>14.960000</td>\n      <td>13.170000</td>\n      <td>9.290000</td>\n      <td>NaN</td>\n      <td>9.870000</td>\n      <td>13.670000</td>\n      <td>10.250000</td>\n      <td>10.830000</td>\n      <td>12.580000</td>\n      <td>18.500000</td>\n      <td>15.040000</td>\n    </tr>\n    <tr>\n      <th>1961-01-09</th>\n      <td>61.0</td>\n      <td>1.000000</td>\n      <td>5.000000</td>\n      <td>13.541429</td>\n      <td>11.486667</td>\n      <td>10.487143</td>\n      <td>6.417143</td>\n      <td>9.474286</td>\n      <td>6.435714</td>\n      <td>11.061429</td>\n      <td>6.616667</td>\n      <td>8.434286</td>\n      <td>8.497143</td>\n      <td>12.481429</td>\n      <td>13.238571</td>\n    </tr>\n    <tr>\n      <th>1961-01-16</th>\n      <td>61.0</td>\n      <td>1.000000</td>\n      <td>12.000000</td>\n      <td>12.468571</td>\n      <td>8.967143</td>\n      <td>11.958571</td>\n      <td>4.630000</td>\n      <td>7.351429</td>\n      <td>5.072857</td>\n      <td>7.535714</td>\n      <td>6.820000</td>\n      <td>5.712857</td>\n      <td>7.571429</td>\n      <td>11.125714</td>\n      <td>11.024286</td>\n    </tr>\n    <tr>\n      <th>1961-01-23</th>\n      <td>61.0</td>\n      <td>1.000000</td>\n      <td>19.000000</td>\n      <td>13.204286</td>\n      <td>9.862857</td>\n      <td>12.982857</td>\n      <td>6.328571</td>\n      <td>8.966667</td>\n      <td>7.417143</td>\n      <td>9.257143</td>\n      <td>7.875714</td>\n      <td>7.145714</td>\n      <td>8.124286</td>\n      <td>9.821429</td>\n      <td>11.434286</td>\n    </tr>\n    <tr>\n      <th>1961-01-30</th>\n      <td>61.0</td>\n      <td>1.000000</td>\n      <td>26.000000</td>\n      <td>19.880000</td>\n      <td>16.141429</td>\n      <td>18.225714</td>\n      <td>12.720000</td>\n      <td>17.432857</td>\n      <td>14.828571</td>\n      <td>15.528571</td>\n      <td>15.160000</td>\n      <td>14.480000</td>\n      <td>15.640000</td>\n      <td>20.930000</td>\n      <td>22.530000</td>\n    </tr>\n    <tr>\n      <th>...</th>\n      <td>...</td>\n      <td>...</td>\n      <td>...</td>\n      <td>...</td>\n      <td>...</td>\n      <td>...</td>\n      <td>...</td>\n      <td>...</td>\n      <td>...</td>\n      <td>...</td>\n      <td>...</td>\n      <td>...</td>\n      <td>...</td>\n      <td>...</td>\n      <td>...</td>\n    </tr>\n    <tr>\n      <th>1978-12-04</th>\n      <td>78.0</td>\n      <td>11.428571</td>\n      <td>17.142857</td>\n      <td>14.934286</td>\n      <td>11.232857</td>\n      <td>13.941429</td>\n      <td>5.565714</td>\n      <td>10.215714</td>\n      <td>8.618571</td>\n      <td>9.642857</td>\n      <td>7.685714</td>\n      <td>9.011429</td>\n      <td>9.547143</td>\n      <td>11.835714</td>\n      <td>18.728571</td>\n    </tr>\n    <tr>\n      <th>1978-12-11</th>\n      <td>78.0</td>\n      <td>12.000000</td>\n      <td>7.000000</td>\n      <td>20.740000</td>\n      <td>19.190000</td>\n      <td>17.034286</td>\n      <td>9.777143</td>\n      <td>15.287143</td>\n      <td>12.774286</td>\n      <td>14.437143</td>\n      <td>12.488571</td>\n      <td>13.870000</td>\n      <td>14.082857</td>\n      <td>18.517143</td>\n      <td>23.061429</td>\n    </tr>\n    <tr>\n      <th>1978-12-18</th>\n      <td>78.0</td>\n      <td>12.000000</td>\n      <td>14.000000</td>\n      <td>16.758571</td>\n      <td>14.692857</td>\n      <td>14.987143</td>\n      <td>6.917143</td>\n      <td>11.397143</td>\n      <td>7.272857</td>\n      <td>10.208571</td>\n      <td>7.967143</td>\n      <td>9.168571</td>\n      <td>8.565714</td>\n      <td>11.102857</td>\n      <td>15.562857</td>\n    </tr>\n    <tr>\n      <th>1978-12-25</th>\n      <td>78.0</td>\n      <td>12.000000</td>\n      <td>21.000000</td>\n      <td>11.155714</td>\n      <td>8.008571</td>\n      <td>13.172857</td>\n      <td>4.004286</td>\n      <td>7.825714</td>\n      <td>6.290000</td>\n      <td>7.798571</td>\n      <td>8.667143</td>\n      <td>7.151429</td>\n      <td>8.072857</td>\n      <td>11.845714</td>\n      <td>18.977143</td>\n    </tr>\n    <tr>\n      <th>1979-01-01</th>\n      <td>78.0</td>\n      <td>12.000000</td>\n      <td>28.000000</td>\n      <td>14.951429</td>\n      <td>11.801429</td>\n      <td>16.035714</td>\n      <td>6.507143</td>\n      <td>9.660000</td>\n      <td>8.620000</td>\n      <td>13.708571</td>\n      <td>10.477143</td>\n      <td>10.868571</td>\n      <td>11.471429</td>\n      <td>12.947143</td>\n      <td>26.844286</td>\n    </tr>\n  </tbody>\n</table>\n<p>940 rows × 15 columns</p>\n</div>"
     },
     "metadata": {},
     "execution_count": 78
    }
   ],
   "source": [
    "ds = wind_data.resample('W', loffset=pd.Timedelta(1, 'D'))\n",
    "ds.mean()"
   ]
  },
  {
   "cell_type": "code",
   "execution_count": null,
   "metadata": {},
   "outputs": [],
   "source": []
  }
 ]
}