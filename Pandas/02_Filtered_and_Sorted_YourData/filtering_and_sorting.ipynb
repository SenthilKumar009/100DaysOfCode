{
 "metadata": {
  "language_info": {
   "codemirror_mode": {
    "name": "ipython",
    "version": 3
   },
   "file_extension": ".py",
   "mimetype": "text/x-python",
   "name": "python",
   "nbconvert_exporter": "python",
   "pygments_lexer": "ipython3",
   "version": "3.8.2-final"
  },
  "orig_nbformat": 2,
  "kernelspec": {
   "name": "python38264bitdd53279c5c2847ca92a5d30965b4a333",
   "display_name": "Python 3.8.2 64-bit"
  }
 },
 "nbformat": 4,
 "nbformat_minor": 2,
 "cells": [
  {
   "cell_type": "code",
   "execution_count": 1,
   "metadata": {},
   "outputs": [],
   "source": [
    "# import libraries\n",
    "import pandas as pd \n",
    "import numpy as np"
   ]
  },
  {
   "cell_type": "code",
   "execution_count": 9,
   "metadata": {},
   "outputs": [],
   "source": [
    "#Read data from the data sheet\n",
    "url = 'https://raw.githubusercontent.com/justmarkham/DAT8/master/data/chipotle.tsv'\n",
    "chipo = pd.read_csv(url, sep = '\\t')"
   ]
  },
  {
   "cell_type": "code",
   "execution_count": 10,
   "metadata": {},
   "outputs": [
    {
     "output_type": "execute_result",
     "data": {
      "text/plain": "   order_id  quantity                              item_name  \\\n0         1         1           Chips and Fresh Tomato Salsa   \n1         1         1                                   Izze   \n2         1         1                       Nantucket Nectar   \n3         1         1  Chips and Tomatillo-Green Chili Salsa   \n4         2         2                           Chicken Bowl   \n\n                                  choice_description item_price  \n0                                                NaN     $2.39   \n1                                       [Clementine]     $3.39   \n2                                            [Apple]     $3.39   \n3                                                NaN     $2.39   \n4  [Tomatillo-Red Chili Salsa (Hot), [Black Beans...    $16.98   ",
      "text/html": "<div>\n<style scoped>\n    .dataframe tbody tr th:only-of-type {\n        vertical-align: middle;\n    }\n\n    .dataframe tbody tr th {\n        vertical-align: top;\n    }\n\n    .dataframe thead th {\n        text-align: right;\n    }\n</style>\n<table border=\"1\" class=\"dataframe\">\n  <thead>\n    <tr style=\"text-align: right;\">\n      <th></th>\n      <th>order_id</th>\n      <th>quantity</th>\n      <th>item_name</th>\n      <th>choice_description</th>\n      <th>item_price</th>\n    </tr>\n  </thead>\n  <tbody>\n    <tr>\n      <th>0</th>\n      <td>1</td>\n      <td>1</td>\n      <td>Chips and Fresh Tomato Salsa</td>\n      <td>NaN</td>\n      <td>$2.39</td>\n    </tr>\n    <tr>\n      <th>1</th>\n      <td>1</td>\n      <td>1</td>\n      <td>Izze</td>\n      <td>[Clementine]</td>\n      <td>$3.39</td>\n    </tr>\n    <tr>\n      <th>2</th>\n      <td>1</td>\n      <td>1</td>\n      <td>Nantucket Nectar</td>\n      <td>[Apple]</td>\n      <td>$3.39</td>\n    </tr>\n    <tr>\n      <th>3</th>\n      <td>1</td>\n      <td>1</td>\n      <td>Chips and Tomatillo-Green Chili Salsa</td>\n      <td>NaN</td>\n      <td>$2.39</td>\n    </tr>\n    <tr>\n      <th>4</th>\n      <td>2</td>\n      <td>2</td>\n      <td>Chicken Bowl</td>\n      <td>[Tomatillo-Red Chili Salsa (Hot), [Black Beans...</td>\n      <td>$16.98</td>\n    </tr>\n  </tbody>\n</table>\n</div>"
     },
     "metadata": {},
     "execution_count": 10
    }
   ],
   "source": [
    "chipo.head()"
   ]
  },
  {
   "cell_type": "code",
   "execution_count": 11,
   "metadata": {},
   "outputs": [
    {
     "output_type": "execute_result",
     "data": {
      "text/plain": "   order_id  quantity                              item_name  \\\n0         1         1           Chips and Fresh Tomato Salsa   \n1         1         1                                   Izze   \n2         1         1                       Nantucket Nectar   \n3         1         1  Chips and Tomatillo-Green Chili Salsa   \n4         2         2                           Chicken Bowl   \n\n                                  choice_description  item_price  \n0                                                NaN        2.39  \n1                                       [Clementine]        3.39  \n2                                            [Apple]        3.39  \n3                                                NaN        2.39  \n4  [Tomatillo-Red Chili Salsa (Hot), [Black Beans...       16.98  ",
      "text/html": "<div>\n<style scoped>\n    .dataframe tbody tr th:only-of-type {\n        vertical-align: middle;\n    }\n\n    .dataframe tbody tr th {\n        vertical-align: top;\n    }\n\n    .dataframe thead th {\n        text-align: right;\n    }\n</style>\n<table border=\"1\" class=\"dataframe\">\n  <thead>\n    <tr style=\"text-align: right;\">\n      <th></th>\n      <th>order_id</th>\n      <th>quantity</th>\n      <th>item_name</th>\n      <th>choice_description</th>\n      <th>item_price</th>\n    </tr>\n  </thead>\n  <tbody>\n    <tr>\n      <th>0</th>\n      <td>1</td>\n      <td>1</td>\n      <td>Chips and Fresh Tomato Salsa</td>\n      <td>NaN</td>\n      <td>2.39</td>\n    </tr>\n    <tr>\n      <th>1</th>\n      <td>1</td>\n      <td>1</td>\n      <td>Izze</td>\n      <td>[Clementine]</td>\n      <td>3.39</td>\n    </tr>\n    <tr>\n      <th>2</th>\n      <td>1</td>\n      <td>1</td>\n      <td>Nantucket Nectar</td>\n      <td>[Apple]</td>\n      <td>3.39</td>\n    </tr>\n    <tr>\n      <th>3</th>\n      <td>1</td>\n      <td>1</td>\n      <td>Chips and Tomatillo-Green Chili Salsa</td>\n      <td>NaN</td>\n      <td>2.39</td>\n    </tr>\n    <tr>\n      <th>4</th>\n      <td>2</td>\n      <td>2</td>\n      <td>Chicken Bowl</td>\n      <td>[Tomatillo-Red Chili Salsa (Hot), [Black Beans...</td>\n      <td>16.98</td>\n    </tr>\n  </tbody>\n</table>\n</div>"
     },
     "metadata": {},
     "execution_count": 11
    }
   ],
   "source": [
    "# clean the column item_price\n",
    "chipo['item_price'] = chipo['item_price'].str.slice(1).astype(float)\n",
    "chipo.head()"
   ]
  },
  {
   "cell_type": "code",
   "execution_count": 15,
   "metadata": {},
   "outputs": [
    {
     "output_type": "execute_result",
     "data": {
      "text/plain": "      order_id  quantity           item_name  \\\n4            2         2        Chicken Bowl   \n5            3         1        Chicken Bowl   \n7            4         1       Steak Burrito   \n13           7         1        Chicken Bowl   \n23          12         1     Chicken Burrito   \n...        ...       ...                 ...   \n4610      1830         1       Steak Burrito   \n4611      1830         1      Veggie Burrito   \n4617      1833         1       Steak Burrito   \n4618      1833         1       Steak Burrito   \n4619      1834         1  Chicken Salad Bowl   \n\n                                     choice_description  item_price  \n4     [Tomatillo-Red Chili Salsa (Hot), [Black Beans...       16.98  \n5     [Fresh Tomato Salsa (Mild), [Rice, Cheese, Sou...       10.98  \n7     [Tomatillo Red Chili Salsa, [Fajita Vegetables...       11.75  \n13    [Fresh Tomato Salsa, [Fajita Vegetables, Rice,...       11.25  \n23    [[Tomatillo-Green Chili Salsa (Medium), Tomati...       10.98  \n...                                                 ...         ...  \n4610  [Fresh Tomato Salsa, [Rice, Sour Cream, Cheese...       11.75  \n4611  [Tomatillo Green Chili Salsa, [Rice, Fajita Ve...       11.25  \n4617  [Fresh Tomato Salsa, [Rice, Black Beans, Sour ...       11.75  \n4618  [Fresh Tomato Salsa, [Rice, Sour Cream, Cheese...       11.75  \n4619  [Fresh Tomato Salsa, [Fajita Vegetables, Pinto...       11.25  \n\n[1130 rows x 5 columns]",
      "text/html": "<div>\n<style scoped>\n    .dataframe tbody tr th:only-of-type {\n        vertical-align: middle;\n    }\n\n    .dataframe tbody tr th {\n        vertical-align: top;\n    }\n\n    .dataframe thead th {\n        text-align: right;\n    }\n</style>\n<table border=\"1\" class=\"dataframe\">\n  <thead>\n    <tr style=\"text-align: right;\">\n      <th></th>\n      <th>order_id</th>\n      <th>quantity</th>\n      <th>item_name</th>\n      <th>choice_description</th>\n      <th>item_price</th>\n    </tr>\n  </thead>\n  <tbody>\n    <tr>\n      <th>4</th>\n      <td>2</td>\n      <td>2</td>\n      <td>Chicken Bowl</td>\n      <td>[Tomatillo-Red Chili Salsa (Hot), [Black Beans...</td>\n      <td>16.98</td>\n    </tr>\n    <tr>\n      <th>5</th>\n      <td>3</td>\n      <td>1</td>\n      <td>Chicken Bowl</td>\n      <td>[Fresh Tomato Salsa (Mild), [Rice, Cheese, Sou...</td>\n      <td>10.98</td>\n    </tr>\n    <tr>\n      <th>7</th>\n      <td>4</td>\n      <td>1</td>\n      <td>Steak Burrito</td>\n      <td>[Tomatillo Red Chili Salsa, [Fajita Vegetables...</td>\n      <td>11.75</td>\n    </tr>\n    <tr>\n      <th>13</th>\n      <td>7</td>\n      <td>1</td>\n      <td>Chicken Bowl</td>\n      <td>[Fresh Tomato Salsa, [Fajita Vegetables, Rice,...</td>\n      <td>11.25</td>\n    </tr>\n    <tr>\n      <th>23</th>\n      <td>12</td>\n      <td>1</td>\n      <td>Chicken Burrito</td>\n      <td>[[Tomatillo-Green Chili Salsa (Medium), Tomati...</td>\n      <td>10.98</td>\n    </tr>\n    <tr>\n      <th>...</th>\n      <td>...</td>\n      <td>...</td>\n      <td>...</td>\n      <td>...</td>\n      <td>...</td>\n    </tr>\n    <tr>\n      <th>4610</th>\n      <td>1830</td>\n      <td>1</td>\n      <td>Steak Burrito</td>\n      <td>[Fresh Tomato Salsa, [Rice, Sour Cream, Cheese...</td>\n      <td>11.75</td>\n    </tr>\n    <tr>\n      <th>4611</th>\n      <td>1830</td>\n      <td>1</td>\n      <td>Veggie Burrito</td>\n      <td>[Tomatillo Green Chili Salsa, [Rice, Fajita Ve...</td>\n      <td>11.25</td>\n    </tr>\n    <tr>\n      <th>4617</th>\n      <td>1833</td>\n      <td>1</td>\n      <td>Steak Burrito</td>\n      <td>[Fresh Tomato Salsa, [Rice, Black Beans, Sour ...</td>\n      <td>11.75</td>\n    </tr>\n    <tr>\n      <th>4618</th>\n      <td>1833</td>\n      <td>1</td>\n      <td>Steak Burrito</td>\n      <td>[Fresh Tomato Salsa, [Rice, Sour Cream, Cheese...</td>\n      <td>11.75</td>\n    </tr>\n    <tr>\n      <th>4619</th>\n      <td>1834</td>\n      <td>1</td>\n      <td>Chicken Salad Bowl</td>\n      <td>[Fresh Tomato Salsa, [Fajita Vegetables, Pinto...</td>\n      <td>11.25</td>\n    </tr>\n  </tbody>\n</table>\n<p>1130 rows × 5 columns</p>\n</div>"
     },
     "metadata": {},
     "execution_count": 15
    }
   ],
   "source": [
    "# Display the order details whose value is more than 10$?\n",
    "chipo[chipo['item_price']>10.00]"
   ]
  },
  {
   "cell_type": "code",
   "execution_count": 24,
   "metadata": {},
   "outputs": [
    {
     "output_type": "execute_result",
     "data": {
      "text/plain": "1130"
     },
     "metadata": {},
     "execution_count": 24
    }
   ],
   "source": [
    "# Display total number of orders where the order value is more than 10$.\n",
    "(chipo.item_price > 10.00).sum()"
   ]
  },
  {
   "cell_type": "code",
   "execution_count": 28,
   "metadata": {},
   "outputs": [],
   "source": [
    "chipo['price_per_item'] = chipo['item_price'] / chipo.quantity"
   ]
  },
  {
   "cell_type": "code",
   "execution_count": 29,
   "metadata": {},
   "outputs": [
    {
     "output_type": "execute_result",
     "data": {
      "text/plain": "                                       price_per_item\nitem_name                                            \n6 Pack Soft Drink                                6.49\nBarbacoa Bowl                                   11.75\nBarbacoa Burrito                                11.75\nBarbacoa Crispy Tacos                           11.75\nBarbacoa Salad Bowl                             11.89\nBarbacoa Soft Tacos                             11.75\nBottled Water                                    1.50\nBowl                                             7.40\nBurrito                                          7.40\nCanned Soda                                      1.09\nCanned Soft Drink                                1.25\nCarnitas Bowl                                   11.75\nCarnitas Burrito                                11.75\nCarnitas Crispy Tacos                           11.75\nCarnitas Salad                                   8.99\nCarnitas Salad Bowl                             11.89\nCarnitas Soft Tacos                             11.75\nChicken Bowl                                    11.25\nChicken Burrito                                 11.25\nChicken Crispy Tacos                            11.25\nChicken Salad                                   10.98\nChicken Salad Bowl                              11.25\nChicken Soft Tacos                              11.25\nChips                                            2.15\nChips and Fresh Tomato Salsa                     2.95\nChips and Guacamole                              4.45\nChips and Mild Fresh Tomato Salsa                3.00\nChips and Roasted Chili Corn Salsa               2.95\nChips and Roasted Chili-Corn Salsa               2.39\nChips and Tomatillo Green Chili Salsa            2.95\nChips and Tomatillo Red Chili Salsa              2.95\nChips and Tomatillo-Green Chili Salsa            2.39\nChips and Tomatillo-Red Chili Salsa              2.39\nCrispy Tacos                                     7.40\nIzze                                             3.39\nNantucket Nectar                                 3.39\nSalad                                            7.40\nSide of Chips                                    1.69\nSteak Bowl                                      11.75\nSteak Burrito                                   11.75\nSteak Crispy Tacos                              11.75\nSteak Salad                                      8.99\nSteak Salad Bowl                                11.89\nSteak Soft Tacos                                11.75\nVeggie Bowl                                     11.25\nVeggie Burrito                                  11.25\nVeggie Crispy Tacos                              8.49\nVeggie Salad                                     8.49\nVeggie Salad Bowl                               11.25\nVeggie Soft Tacos                               11.25",
      "text/html": "<div>\n<style scoped>\n    .dataframe tbody tr th:only-of-type {\n        vertical-align: middle;\n    }\n\n    .dataframe tbody tr th {\n        vertical-align: top;\n    }\n\n    .dataframe thead th {\n        text-align: right;\n    }\n</style>\n<table border=\"1\" class=\"dataframe\">\n  <thead>\n    <tr style=\"text-align: right;\">\n      <th></th>\n      <th>price_per_item</th>\n    </tr>\n    <tr>\n      <th>item_name</th>\n      <th></th>\n    </tr>\n  </thead>\n  <tbody>\n    <tr>\n      <th>6 Pack Soft Drink</th>\n      <td>6.49</td>\n    </tr>\n    <tr>\n      <th>Barbacoa Bowl</th>\n      <td>11.75</td>\n    </tr>\n    <tr>\n      <th>Barbacoa Burrito</th>\n      <td>11.75</td>\n    </tr>\n    <tr>\n      <th>Barbacoa Crispy Tacos</th>\n      <td>11.75</td>\n    </tr>\n    <tr>\n      <th>Barbacoa Salad Bowl</th>\n      <td>11.89</td>\n    </tr>\n    <tr>\n      <th>Barbacoa Soft Tacos</th>\n      <td>11.75</td>\n    </tr>\n    <tr>\n      <th>Bottled Water</th>\n      <td>1.50</td>\n    </tr>\n    <tr>\n      <th>Bowl</th>\n      <td>7.40</td>\n    </tr>\n    <tr>\n      <th>Burrito</th>\n      <td>7.40</td>\n    </tr>\n    <tr>\n      <th>Canned Soda</th>\n      <td>1.09</td>\n    </tr>\n    <tr>\n      <th>Canned Soft Drink</th>\n      <td>1.25</td>\n    </tr>\n    <tr>\n      <th>Carnitas Bowl</th>\n      <td>11.75</td>\n    </tr>\n    <tr>\n      <th>Carnitas Burrito</th>\n      <td>11.75</td>\n    </tr>\n    <tr>\n      <th>Carnitas Crispy Tacos</th>\n      <td>11.75</td>\n    </tr>\n    <tr>\n      <th>Carnitas Salad</th>\n      <td>8.99</td>\n    </tr>\n    <tr>\n      <th>Carnitas Salad Bowl</th>\n      <td>11.89</td>\n    </tr>\n    <tr>\n      <th>Carnitas Soft Tacos</th>\n      <td>11.75</td>\n    </tr>\n    <tr>\n      <th>Chicken Bowl</th>\n      <td>11.25</td>\n    </tr>\n    <tr>\n      <th>Chicken Burrito</th>\n      <td>11.25</td>\n    </tr>\n    <tr>\n      <th>Chicken Crispy Tacos</th>\n      <td>11.25</td>\n    </tr>\n    <tr>\n      <th>Chicken Salad</th>\n      <td>10.98</td>\n    </tr>\n    <tr>\n      <th>Chicken Salad Bowl</th>\n      <td>11.25</td>\n    </tr>\n    <tr>\n      <th>Chicken Soft Tacos</th>\n      <td>11.25</td>\n    </tr>\n    <tr>\n      <th>Chips</th>\n      <td>2.15</td>\n    </tr>\n    <tr>\n      <th>Chips and Fresh Tomato Salsa</th>\n      <td>2.95</td>\n    </tr>\n    <tr>\n      <th>Chips and Guacamole</th>\n      <td>4.45</td>\n    </tr>\n    <tr>\n      <th>Chips and Mild Fresh Tomato Salsa</th>\n      <td>3.00</td>\n    </tr>\n    <tr>\n      <th>Chips and Roasted Chili Corn Salsa</th>\n      <td>2.95</td>\n    </tr>\n    <tr>\n      <th>Chips and Roasted Chili-Corn Salsa</th>\n      <td>2.39</td>\n    </tr>\n    <tr>\n      <th>Chips and Tomatillo Green Chili Salsa</th>\n      <td>2.95</td>\n    </tr>\n    <tr>\n      <th>Chips and Tomatillo Red Chili Salsa</th>\n      <td>2.95</td>\n    </tr>\n    <tr>\n      <th>Chips and Tomatillo-Green Chili Salsa</th>\n      <td>2.39</td>\n    </tr>\n    <tr>\n      <th>Chips and Tomatillo-Red Chili Salsa</th>\n      <td>2.39</td>\n    </tr>\n    <tr>\n      <th>Crispy Tacos</th>\n      <td>7.40</td>\n    </tr>\n    <tr>\n      <th>Izze</th>\n      <td>3.39</td>\n    </tr>\n    <tr>\n      <th>Nantucket Nectar</th>\n      <td>3.39</td>\n    </tr>\n    <tr>\n      <th>Salad</th>\n      <td>7.40</td>\n    </tr>\n    <tr>\n      <th>Side of Chips</th>\n      <td>1.69</td>\n    </tr>\n    <tr>\n      <th>Steak Bowl</th>\n      <td>11.75</td>\n    </tr>\n    <tr>\n      <th>Steak Burrito</th>\n      <td>11.75</td>\n    </tr>\n    <tr>\n      <th>Steak Crispy Tacos</th>\n      <td>11.75</td>\n    </tr>\n    <tr>\n      <th>Steak Salad</th>\n      <td>8.99</td>\n    </tr>\n    <tr>\n      <th>Steak Salad Bowl</th>\n      <td>11.89</td>\n    </tr>\n    <tr>\n      <th>Steak Soft Tacos</th>\n      <td>11.75</td>\n    </tr>\n    <tr>\n      <th>Veggie Bowl</th>\n      <td>11.25</td>\n    </tr>\n    <tr>\n      <th>Veggie Burrito</th>\n      <td>11.25</td>\n    </tr>\n    <tr>\n      <th>Veggie Crispy Tacos</th>\n      <td>8.49</td>\n    </tr>\n    <tr>\n      <th>Veggie Salad</th>\n      <td>8.49</td>\n    </tr>\n    <tr>\n      <th>Veggie Salad Bowl</th>\n      <td>11.25</td>\n    </tr>\n    <tr>\n      <th>Veggie Soft Tacos</th>\n      <td>11.25</td>\n    </tr>\n  </tbody>\n</table>\n</div>"
     },
     "metadata": {},
     "execution_count": 29
    }
   ],
   "source": [
    "# Find hte prodcut price of each item\n",
    "product_prices = chipo.groupby('item_name').agg({'price_per_item': 'max'})\n",
    "product_prices"
   ]
  },
  {
   "cell_type": "code",
   "execution_count": 30,
   "metadata": {},
   "outputs": [
    {
     "output_type": "execute_result",
     "data": {
      "text/plain": "25"
     },
     "metadata": {},
     "execution_count": 30
    }
   ],
   "source": [
    "#Display the products whose price is greater than 10$\n",
    "(product_prices.price_per_item > 10.00).sum()"
   ]
  },
  {
   "cell_type": "code",
   "execution_count": 31,
   "metadata": {},
   "outputs": [
    {
     "output_type": "execute_result",
     "data": {
      "text/plain": "                       price_per_item\nitem_name                            \nBarbacoa Bowl                   11.75\nBarbacoa Burrito                11.75\nBarbacoa Crispy Tacos           11.75\nBarbacoa Salad Bowl             11.89\nBarbacoa Soft Tacos             11.75\nCarnitas Bowl                   11.75\nCarnitas Burrito                11.75\nCarnitas Crispy Tacos           11.75\nCarnitas Salad Bowl             11.89\nCarnitas Soft Tacos             11.75\nChicken Bowl                    11.25\nChicken Burrito                 11.25\nChicken Crispy Tacos            11.25\nChicken Salad                   10.98\nChicken Salad Bowl              11.25\nChicken Soft Tacos              11.25\nSteak Bowl                      11.75\nSteak Burrito                   11.75\nSteak Crispy Tacos              11.75\nSteak Salad Bowl                11.89\nSteak Soft Tacos                11.75\nVeggie Bowl                     11.25\nVeggie Burrito                  11.25\nVeggie Salad Bowl               11.25\nVeggie Soft Tacos               11.25",
      "text/html": "<div>\n<style scoped>\n    .dataframe tbody tr th:only-of-type {\n        vertical-align: middle;\n    }\n\n    .dataframe tbody tr th {\n        vertical-align: top;\n    }\n\n    .dataframe thead th {\n        text-align: right;\n    }\n</style>\n<table border=\"1\" class=\"dataframe\">\n  <thead>\n    <tr style=\"text-align: right;\">\n      <th></th>\n      <th>price_per_item</th>\n    </tr>\n    <tr>\n      <th>item_name</th>\n      <th></th>\n    </tr>\n  </thead>\n  <tbody>\n    <tr>\n      <th>Barbacoa Bowl</th>\n      <td>11.75</td>\n    </tr>\n    <tr>\n      <th>Barbacoa Burrito</th>\n      <td>11.75</td>\n    </tr>\n    <tr>\n      <th>Barbacoa Crispy Tacos</th>\n      <td>11.75</td>\n    </tr>\n    <tr>\n      <th>Barbacoa Salad Bowl</th>\n      <td>11.89</td>\n    </tr>\n    <tr>\n      <th>Barbacoa Soft Tacos</th>\n      <td>11.75</td>\n    </tr>\n    <tr>\n      <th>Carnitas Bowl</th>\n      <td>11.75</td>\n    </tr>\n    <tr>\n      <th>Carnitas Burrito</th>\n      <td>11.75</td>\n    </tr>\n    <tr>\n      <th>Carnitas Crispy Tacos</th>\n      <td>11.75</td>\n    </tr>\n    <tr>\n      <th>Carnitas Salad Bowl</th>\n      <td>11.89</td>\n    </tr>\n    <tr>\n      <th>Carnitas Soft Tacos</th>\n      <td>11.75</td>\n    </tr>\n    <tr>\n      <th>Chicken Bowl</th>\n      <td>11.25</td>\n    </tr>\n    <tr>\n      <th>Chicken Burrito</th>\n      <td>11.25</td>\n    </tr>\n    <tr>\n      <th>Chicken Crispy Tacos</th>\n      <td>11.25</td>\n    </tr>\n    <tr>\n      <th>Chicken Salad</th>\n      <td>10.98</td>\n    </tr>\n    <tr>\n      <th>Chicken Salad Bowl</th>\n      <td>11.25</td>\n    </tr>\n    <tr>\n      <th>Chicken Soft Tacos</th>\n      <td>11.25</td>\n    </tr>\n    <tr>\n      <th>Steak Bowl</th>\n      <td>11.75</td>\n    </tr>\n    <tr>\n      <th>Steak Burrito</th>\n      <td>11.75</td>\n    </tr>\n    <tr>\n      <th>Steak Crispy Tacos</th>\n      <td>11.75</td>\n    </tr>\n    <tr>\n      <th>Steak Salad Bowl</th>\n      <td>11.89</td>\n    </tr>\n    <tr>\n      <th>Steak Soft Tacos</th>\n      <td>11.75</td>\n    </tr>\n    <tr>\n      <th>Veggie Bowl</th>\n      <td>11.25</td>\n    </tr>\n    <tr>\n      <th>Veggie Burrito</th>\n      <td>11.25</td>\n    </tr>\n    <tr>\n      <th>Veggie Salad Bowl</th>\n      <td>11.25</td>\n    </tr>\n    <tr>\n      <th>Veggie Soft Tacos</th>\n      <td>11.25</td>\n    </tr>\n  </tbody>\n</table>\n</div>"
     },
     "metadata": {},
     "execution_count": 31
    }
   ],
   "source": [
    "#Display the product details whose price is greater than 10$\n",
    "product_prices[product_prices['price_per_item'] > 10.00]"
   ]
  },
  {
   "cell_type": "code",
   "execution_count": 34,
   "metadata": {},
   "outputs": [
    {
     "output_type": "execute_result",
     "data": {
      "text/plain": "      order_id  quantity          item_name  \\\n3389      1360         2  6 Pack Soft Drink   \n341        148         1  6 Pack Soft Drink   \n1849       749         1  6 Pack Soft Drink   \n1860       754         1  6 Pack Soft Drink   \n2713      1076         1  6 Pack Soft Drink   \n...        ...       ...                ...   \n2384       948         1  Veggie Soft Tacos   \n781        322         1  Veggie Soft Tacos   \n2851      1132         1  Veggie Soft Tacos   \n1699       688         1  Veggie Soft Tacos   \n1395       567         1  Veggie Soft Tacos   \n\n                                     choice_description  item_price  \\\n3389                                        [Diet Coke]       12.98   \n341                                         [Diet Coke]        6.49   \n1849                                             [Coke]        6.49   \n1860                                        [Diet Coke]        6.49   \n2713                                             [Coke]        6.49   \n...                                                 ...         ...   \n2384  [Roasted Chili Corn Salsa, [Fajita Vegetables,...        8.75   \n781   [Fresh Tomato Salsa, [Black Beans, Cheese, Sou...        8.75   \n2851  [Roasted Chili Corn Salsa (Medium), [Black Bea...        8.49   \n1699  [Fresh Tomato Salsa, [Fajita Vegetables, Rice,...       11.25   \n1395  [Fresh Tomato Salsa (Mild), [Pinto Beans, Rice...        8.49   \n\n      price_per_item  \n3389            6.49  \n341             6.49  \n1849            6.49  \n1860            6.49  \n2713            6.49  \n...              ...  \n2384            8.75  \n781             8.75  \n2851            8.49  \n1699           11.25  \n1395            8.49  \n\n[4622 rows x 6 columns]",
      "text/html": "<div>\n<style scoped>\n    .dataframe tbody tr th:only-of-type {\n        vertical-align: middle;\n    }\n\n    .dataframe tbody tr th {\n        vertical-align: top;\n    }\n\n    .dataframe thead th {\n        text-align: right;\n    }\n</style>\n<table border=\"1\" class=\"dataframe\">\n  <thead>\n    <tr style=\"text-align: right;\">\n      <th></th>\n      <th>order_id</th>\n      <th>quantity</th>\n      <th>item_name</th>\n      <th>choice_description</th>\n      <th>item_price</th>\n      <th>price_per_item</th>\n    </tr>\n  </thead>\n  <tbody>\n    <tr>\n      <th>3389</th>\n      <td>1360</td>\n      <td>2</td>\n      <td>6 Pack Soft Drink</td>\n      <td>[Diet Coke]</td>\n      <td>12.98</td>\n      <td>6.49</td>\n    </tr>\n    <tr>\n      <th>341</th>\n      <td>148</td>\n      <td>1</td>\n      <td>6 Pack Soft Drink</td>\n      <td>[Diet Coke]</td>\n      <td>6.49</td>\n      <td>6.49</td>\n    </tr>\n    <tr>\n      <th>1849</th>\n      <td>749</td>\n      <td>1</td>\n      <td>6 Pack Soft Drink</td>\n      <td>[Coke]</td>\n      <td>6.49</td>\n      <td>6.49</td>\n    </tr>\n    <tr>\n      <th>1860</th>\n      <td>754</td>\n      <td>1</td>\n      <td>6 Pack Soft Drink</td>\n      <td>[Diet Coke]</td>\n      <td>6.49</td>\n      <td>6.49</td>\n    </tr>\n    <tr>\n      <th>2713</th>\n      <td>1076</td>\n      <td>1</td>\n      <td>6 Pack Soft Drink</td>\n      <td>[Coke]</td>\n      <td>6.49</td>\n      <td>6.49</td>\n    </tr>\n    <tr>\n      <th>...</th>\n      <td>...</td>\n      <td>...</td>\n      <td>...</td>\n      <td>...</td>\n      <td>...</td>\n      <td>...</td>\n    </tr>\n    <tr>\n      <th>2384</th>\n      <td>948</td>\n      <td>1</td>\n      <td>Veggie Soft Tacos</td>\n      <td>[Roasted Chili Corn Salsa, [Fajita Vegetables,...</td>\n      <td>8.75</td>\n      <td>8.75</td>\n    </tr>\n    <tr>\n      <th>781</th>\n      <td>322</td>\n      <td>1</td>\n      <td>Veggie Soft Tacos</td>\n      <td>[Fresh Tomato Salsa, [Black Beans, Cheese, Sou...</td>\n      <td>8.75</td>\n      <td>8.75</td>\n    </tr>\n    <tr>\n      <th>2851</th>\n      <td>1132</td>\n      <td>1</td>\n      <td>Veggie Soft Tacos</td>\n      <td>[Roasted Chili Corn Salsa (Medium), [Black Bea...</td>\n      <td>8.49</td>\n      <td>8.49</td>\n    </tr>\n    <tr>\n      <th>1699</th>\n      <td>688</td>\n      <td>1</td>\n      <td>Veggie Soft Tacos</td>\n      <td>[Fresh Tomato Salsa, [Fajita Vegetables, Rice,...</td>\n      <td>11.25</td>\n      <td>11.25</td>\n    </tr>\n    <tr>\n      <th>1395</th>\n      <td>567</td>\n      <td>1</td>\n      <td>Veggie Soft Tacos</td>\n      <td>[Fresh Tomato Salsa (Mild), [Pinto Beans, Rice...</td>\n      <td>8.49</td>\n      <td>8.49</td>\n    </tr>\n  </tbody>\n</table>\n<p>4622 rows × 6 columns</p>\n</div>"
     },
     "metadata": {},
     "execution_count": 34
    }
   ],
   "source": [
    "#Sort the dataset based on the column/ name\n",
    "#chipo.head()\n",
    "chipo.sort_values(['item_name'])"
   ]
  },
  {
   "cell_type": "code",
   "execution_count": 35,
   "metadata": {},
   "outputs": [
    {
     "output_type": "execute_result",
     "data": {
      "text/plain": "      order_id  quantity                              item_name  \\\n0            1         1           Chips and Fresh Tomato Salsa   \n1            1         1                                   Izze   \n2            1         1                       Nantucket Nectar   \n3            1         1  Chips and Tomatillo-Green Chili Salsa   \n4            2         2                           Chicken Bowl   \n...        ...       ...                                    ...   \n4617      1833         1                          Steak Burrito   \n4618      1833         1                          Steak Burrito   \n4619      1834         1                     Chicken Salad Bowl   \n4620      1834         1                     Chicken Salad Bowl   \n4621      1834         1                     Chicken Salad Bowl   \n\n                                     choice_description  item_price  \\\n0                                                   NaN        2.39   \n1                                          [Clementine]        3.39   \n2                                               [Apple]        3.39   \n3                                                   NaN        2.39   \n4     [Tomatillo-Red Chili Salsa (Hot), [Black Beans...       16.98   \n...                                                 ...         ...   \n4617  [Fresh Tomato Salsa, [Rice, Black Beans, Sour ...       11.75   \n4618  [Fresh Tomato Salsa, [Rice, Sour Cream, Cheese...       11.75   \n4619  [Fresh Tomato Salsa, [Fajita Vegetables, Pinto...       11.25   \n4620  [Fresh Tomato Salsa, [Fajita Vegetables, Lettu...        8.75   \n4621  [Fresh Tomato Salsa, [Fajita Vegetables, Pinto...        8.75   \n\n      price_per_item  \n0               2.39  \n1               3.39  \n2               3.39  \n3               2.39  \n4               8.49  \n...              ...  \n4617           11.75  \n4618           11.75  \n4619           11.25  \n4620            8.75  \n4621            8.75  \n\n[4622 rows x 6 columns]",
      "text/html": "<div>\n<style scoped>\n    .dataframe tbody tr th:only-of-type {\n        vertical-align: middle;\n    }\n\n    .dataframe tbody tr th {\n        vertical-align: top;\n    }\n\n    .dataframe thead th {\n        text-align: right;\n    }\n</style>\n<table border=\"1\" class=\"dataframe\">\n  <thead>\n    <tr style=\"text-align: right;\">\n      <th></th>\n      <th>order_id</th>\n      <th>quantity</th>\n      <th>item_name</th>\n      <th>choice_description</th>\n      <th>item_price</th>\n      <th>price_per_item</th>\n    </tr>\n  </thead>\n  <tbody>\n    <tr>\n      <th>0</th>\n      <td>1</td>\n      <td>1</td>\n      <td>Chips and Fresh Tomato Salsa</td>\n      <td>NaN</td>\n      <td>2.39</td>\n      <td>2.39</td>\n    </tr>\n    <tr>\n      <th>1</th>\n      <td>1</td>\n      <td>1</td>\n      <td>Izze</td>\n      <td>[Clementine]</td>\n      <td>3.39</td>\n      <td>3.39</td>\n    </tr>\n    <tr>\n      <th>2</th>\n      <td>1</td>\n      <td>1</td>\n      <td>Nantucket Nectar</td>\n      <td>[Apple]</td>\n      <td>3.39</td>\n      <td>3.39</td>\n    </tr>\n    <tr>\n      <th>3</th>\n      <td>1</td>\n      <td>1</td>\n      <td>Chips and Tomatillo-Green Chili Salsa</td>\n      <td>NaN</td>\n      <td>2.39</td>\n      <td>2.39</td>\n    </tr>\n    <tr>\n      <th>4</th>\n      <td>2</td>\n      <td>2</td>\n      <td>Chicken Bowl</td>\n      <td>[Tomatillo-Red Chili Salsa (Hot), [Black Beans...</td>\n      <td>16.98</td>\n      <td>8.49</td>\n    </tr>\n    <tr>\n      <th>...</th>\n      <td>...</td>\n      <td>...</td>\n      <td>...</td>\n      <td>...</td>\n      <td>...</td>\n      <td>...</td>\n    </tr>\n    <tr>\n      <th>4617</th>\n      <td>1833</td>\n      <td>1</td>\n      <td>Steak Burrito</td>\n      <td>[Fresh Tomato Salsa, [Rice, Black Beans, Sour ...</td>\n      <td>11.75</td>\n      <td>11.75</td>\n    </tr>\n    <tr>\n      <th>4618</th>\n      <td>1833</td>\n      <td>1</td>\n      <td>Steak Burrito</td>\n      <td>[Fresh Tomato Salsa, [Rice, Sour Cream, Cheese...</td>\n      <td>11.75</td>\n      <td>11.75</td>\n    </tr>\n    <tr>\n      <th>4619</th>\n      <td>1834</td>\n      <td>1</td>\n      <td>Chicken Salad Bowl</td>\n      <td>[Fresh Tomato Salsa, [Fajita Vegetables, Pinto...</td>\n      <td>11.25</td>\n      <td>11.25</td>\n    </tr>\n    <tr>\n      <th>4620</th>\n      <td>1834</td>\n      <td>1</td>\n      <td>Chicken Salad Bowl</td>\n      <td>[Fresh Tomato Salsa, [Fajita Vegetables, Lettu...</td>\n      <td>8.75</td>\n      <td>8.75</td>\n    </tr>\n    <tr>\n      <th>4621</th>\n      <td>1834</td>\n      <td>1</td>\n      <td>Chicken Salad Bowl</td>\n      <td>[Fresh Tomato Salsa, [Fajita Vegetables, Pinto...</td>\n      <td>8.75</td>\n      <td>8.75</td>\n    </tr>\n  </tbody>\n</table>\n<p>4622 rows × 6 columns</p>\n</div>"
     },
     "metadata": {},
     "execution_count": 35
    }
   ],
   "source": [
    "chipo.sort_index()"
   ]
  },
  {
   "cell_type": "code",
   "execution_count": 47,
   "metadata": {},
   "outputs": [
    {
     "output_type": "execute_result",
     "data": {
      "text/plain": "order_id                                      1443\nquantity                                        15\nitem_name             Chips and Fresh Tomato Salsa\nchoice_description                             NaN\nitem_price                                   44.25\nprice_per_item                                2.95\nName: 3598, dtype: object"
     },
     "metadata": {},
     "execution_count": 47
    }
   ],
   "source": [
    "# What was the quantity of the most expensive item ordered?\n",
    "chipo.loc[chipo.item_price.idxmax()]\n",
    "\n"
   ]
  },
  {
   "cell_type": "code",
   "execution_count": 51,
   "metadata": {},
   "outputs": [
    {
     "output_type": "execute_result",
     "data": {
      "text/plain": "726"
     },
     "metadata": {},
     "execution_count": 51
    }
   ],
   "source": [
    "#How many times were a chicken Bowl ordered?\n",
    "chipo[chipo.item_name == 'Chicken Bowl'].order_id.count()"
   ]
  },
  {
   "cell_type": "code",
   "execution_count": 53,
   "metadata": {},
   "outputs": [
    {
     "output_type": "execute_result",
     "data": {
      "text/plain": "761"
     },
     "metadata": {},
     "execution_count": 53
    }
   ],
   "source": [
    "chipo.item_name == 'Chicken Bowl'].quantity.sum()"
   ]
  },
  {
   "cell_type": "code",
   "execution_count": 58,
   "metadata": {},
   "outputs": [
    {
     "output_type": "execute_result",
     "data": {
      "text/plain": "20"
     },
     "metadata": {},
     "execution_count": 58
    }
   ],
   "source": [
    "#How many times people order more than one canned soda\n",
    "(chipo[chipo.item_name == 'Canned Soda'].quantity > 1).sum()"
   ]
  },
  {
   "cell_type": "code",
   "execution_count": null,
   "metadata": {},
   "outputs": [],
   "source": []
  }
 ]
}