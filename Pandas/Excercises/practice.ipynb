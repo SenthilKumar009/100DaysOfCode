{
 "metadata": {
  "language_info": {
   "codemirror_mode": {
    "name": "ipython",
    "version": 3
   },
   "file_extension": ".py",
   "mimetype": "text/x-python",
   "name": "python",
   "nbconvert_exporter": "python",
   "pygments_lexer": "ipython3",
   "version": "3.8.3-final"
  },
  "orig_nbformat": 2,
  "kernelspec": {
   "name": "python38364bitcondae64fd4e37bd64244844cf698dee9177b",
   "display_name": "Python 3.8.3 64-bit (conda)"
  }
 },
 "nbformat": 4,
 "nbformat_minor": 2,
 "cells": [
  {
   "cell_type": "code",
   "execution_count": 1,
   "metadata": {},
   "outputs": [
    {
     "output_type": "stream",
     "name": "stdout",
     "text": [
      "The Indexed Series values are:\nCountry\nChina       11.9\nIndia       36.0\nUSA         16.6\nBrazil      21.8\nPakistan    34.2\nName: Growth Rate, dtype: float64\n"
     ]
    }
   ],
   "source": [
    "# 1. Example 1\n",
    "#importing pandas in our program\n",
    "import pandas as pd\n",
    "\n",
    "# Defining a series object\n",
    "srs = pd.Series([11.9, 36.0, 16.6, 21.8, 34.2], index = ['China', 'India', 'USA', 'Brazil', 'Pakistan'])\n",
    "\n",
    "# Set Series name\n",
    "srs.name = \"Growth Rate\"\n",
    "\n",
    "# Set index name\n",
    "srs.index.name = \"Country\"\n",
    "\n",
    "# printing series values\n",
    "print(\"The Indexed Series values are:\")\n",
    "print(srs)"
   ]
  },
  {
   "cell_type": "code",
   "execution_count": 2,
   "metadata": {},
   "outputs": [
    {
     "output_type": "stream",
     "name": "stdout",
     "text": [
      "The original Series:\n Index\nind0    0\nind1    1\nind2    2\nind3    3\nind4    4\nind5    5\ndtype: int64\n\nSeries element at index ind3:\n3\n\nSeries element at index 3:\n3\n\nSeries elements at multiple indexes:\n\nIndex\nind1    1\nind4    4\ndtype: int64\n"
     ]
    }
   ],
   "source": [
    "# 2. Select entries from a Series\n",
    "import numpy as np\n",
    "import pandas as pd\n",
    "\n",
    "srs = pd.Series(np.arange(0, 6, 1), index = ['ind0', 'ind1', 'ind2', 'ind3', 'ind4', 'ind5'])\n",
    "srs.index.name = \"Index\"\n",
    "print(\"The original Series:\\n\", srs)\n",
    "\n",
    "print(\"\\nSeries element at index ind3:\")\n",
    "print(srs['ind3']) # Fetch element at index named ind3\n",
    "\n",
    "print(\"\\nSeries element at index 3:\")\n",
    "print(srs[3]) # Fetch element at index 3\n",
    "\n",
    "print(\"\\nSeries elements at multiple indexes:\\n\")\n",
    "print(srs[['ind1', 'ind4']]) # Fetch elements at multiple indexes"
   ]
  },
  {
   "cell_type": "code",
   "execution_count": 3,
   "metadata": {},
   "outputs": [
    {
     "output_type": "stream",
     "name": "stdout",
     "text": [
      "The original Series:\n Index\nind0    0\nind1    1\nind2    2\nind3    3\nind4    4\nind5    5\ndtype: int64\nThe New Series:\n Index\nind0    0\nind1    1\nind3    3\nind4    4\nind5    5\ndtype: int64\n"
     ]
    }
   ],
   "source": [
    "# 3. Drop entries from a Series\n",
    "srs = pd.Series(np.arange(0, 6, 1), index = ['ind0', 'ind1', 'ind2', 'ind3', 'ind4', 'ind5'])\n",
    "srs.index.name = \"Index\"\n",
    "print(\"The original Series:\\n\", srs)\n",
    "\n",
    "srs = srs.drop('ind2') # drop index named ind2\n",
    "\n",
    "print(\"The New Series:\\n\", srs)"
   ]
  },
  {
   "cell_type": "code",
   "execution_count": 7,
   "metadata": {},
   "outputs": [
    {
     "output_type": "execute_result",
     "data": {
      "text/plain": [
       "   peppers  carrots  brinjal  tomato\n",
       "0        3        0        0       0\n",
       "1        2        3        3       3\n",
       "2        0        7        7       7\n",
       "3        1        2        2       2"
      ],
      "text/html": "<div>\n<style scoped>\n    .dataframe tbody tr th:only-of-type {\n        vertical-align: middle;\n    }\n\n    .dataframe tbody tr th {\n        vertical-align: top;\n    }\n\n    .dataframe thead th {\n        text-align: right;\n    }\n</style>\n<table border=\"1\" class=\"dataframe\">\n  <thead>\n    <tr style=\"text-align: right;\">\n      <th></th>\n      <th>peppers</th>\n      <th>carrots</th>\n      <th>brinjal</th>\n      <th>tomato</th>\n    </tr>\n  </thead>\n  <tbody>\n    <tr>\n      <th>0</th>\n      <td>3</td>\n      <td>0</td>\n      <td>0</td>\n      <td>0</td>\n    </tr>\n    <tr>\n      <th>1</th>\n      <td>2</td>\n      <td>3</td>\n      <td>3</td>\n      <td>3</td>\n    </tr>\n    <tr>\n      <th>2</th>\n      <td>0</td>\n      <td>7</td>\n      <td>7</td>\n      <td>7</td>\n    </tr>\n    <tr>\n      <th>3</th>\n      <td>1</td>\n      <td>2</td>\n      <td>2</td>\n      <td>2</td>\n    </tr>\n  </tbody>\n</table>\n</div>"
     },
     "metadata": {},
     "execution_count": 7
    }
   ],
   "source": [
    "# 4. Create dataframe from set of Series\n",
    "data = {\n",
    "    'peppers': [3, 2, 0, 1], \n",
    "    'carrots': [0, 3, 7, 2],\n",
    "    'brinjal': [0, 3, 7, 2],\n",
    "    'tomato': [0, 3, 7, 2]\n",
    "}\n",
    "\n",
    "quantity = pd.DataFrame(data)\n",
    "\n",
    "quantity"
   ]
  },
  {
   "cell_type": "code",
   "execution_count": 8,
   "metadata": {},
   "outputs": [
    {
     "output_type": "execute_result",
     "data": {
      "text/plain": [
       "     peppers  carrots  brinjal  tomato\n",
       "Jan        3        0        0       0\n",
       "Feb        2        3        3       3\n",
       "Mar        0        7        7       7\n",
       "Apr        1        2        2       2"
      ],
      "text/html": "<div>\n<style scoped>\n    .dataframe tbody tr th:only-of-type {\n        vertical-align: middle;\n    }\n\n    .dataframe tbody tr th {\n        vertical-align: top;\n    }\n\n    .dataframe thead th {\n        text-align: right;\n    }\n</style>\n<table border=\"1\" class=\"dataframe\">\n  <thead>\n    <tr style=\"text-align: right;\">\n      <th></th>\n      <th>peppers</th>\n      <th>carrots</th>\n      <th>brinjal</th>\n      <th>tomato</th>\n    </tr>\n  </thead>\n  <tbody>\n    <tr>\n      <th>Jan</th>\n      <td>3</td>\n      <td>0</td>\n      <td>0</td>\n      <td>0</td>\n    </tr>\n    <tr>\n      <th>Feb</th>\n      <td>2</td>\n      <td>3</td>\n      <td>3</td>\n      <td>3</td>\n    </tr>\n    <tr>\n      <th>Mar</th>\n      <td>0</td>\n      <td>7</td>\n      <td>7</td>\n      <td>7</td>\n    </tr>\n    <tr>\n      <th>Apr</th>\n      <td>1</td>\n      <td>2</td>\n      <td>2</td>\n      <td>2</td>\n    </tr>\n  </tbody>\n</table>\n</div>"
     },
     "metadata": {},
     "execution_count": 8
    }
   ],
   "source": [
    "quantity = pd.DataFrame(data, index=['Jan', 'Feb', 'Mar', 'Apr'])\n",
    "quantity"
   ]
  },
  {
   "cell_type": "code",
   "execution_count": 9,
   "metadata": {},
   "outputs": [
    {
     "output_type": "execute_result",
     "data": {
      "text/plain": [
       "     carrots  brinjal  tomato\n",
       "Jan        0        0       0\n",
       "Feb        3        3       3\n",
       "Mar        7        7       7\n",
       "Apr        2        2       2"
      ],
      "text/html": "<div>\n<style scoped>\n    .dataframe tbody tr th:only-of-type {\n        vertical-align: middle;\n    }\n\n    .dataframe tbody tr th {\n        vertical-align: top;\n    }\n\n    .dataframe thead th {\n        text-align: right;\n    }\n</style>\n<table border=\"1\" class=\"dataframe\">\n  <thead>\n    <tr style=\"text-align: right;\">\n      <th></th>\n      <th>carrots</th>\n      <th>brinjal</th>\n      <th>tomato</th>\n    </tr>\n  </thead>\n  <tbody>\n    <tr>\n      <th>Jan</th>\n      <td>0</td>\n      <td>0</td>\n      <td>0</td>\n    </tr>\n    <tr>\n      <th>Feb</th>\n      <td>3</td>\n      <td>3</td>\n      <td>3</td>\n    </tr>\n    <tr>\n      <th>Mar</th>\n      <td>7</td>\n      <td>7</td>\n      <td>7</td>\n    </tr>\n    <tr>\n      <th>Apr</th>\n      <td>2</td>\n      <td>2</td>\n      <td>2</td>\n    </tr>\n  </tbody>\n</table>\n</div>"
     },
     "metadata": {},
     "execution_count": 9
    }
   ],
   "source": [
    "veg = pd.DataFrame(quantity, columns=['carrots', 'brinjal', 'tomato'])\n",
    "veg"
   ]
  },
  {
   "cell_type": "code",
   "execution_count": null,
   "metadata": {},
   "outputs": [],
   "source": []
  }
 ]
}