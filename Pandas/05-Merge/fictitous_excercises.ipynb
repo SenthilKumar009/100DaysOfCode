{
 "metadata": {
  "language_info": {
   "codemirror_mode": {
    "name": "ipython",
    "version": 3
   },
   "file_extension": ".py",
   "mimetype": "text/x-python",
   "name": "python",
   "nbconvert_exporter": "python",
   "pygments_lexer": "ipython3",
   "version": "3.8.3-final"
  },
  "orig_nbformat": 2,
  "kernelspec": {
   "name": "python38364bitcondae64fd4e37bd64244844cf698dee9177b",
   "display_name": "Python 3.8.3 64-bit (conda)"
  }
 },
 "nbformat": 4,
 "nbformat_minor": 2,
 "cells": [
  {
   "source": [
    "# Fictitious Names\n"
   ],
   "cell_type": "markdown",
   "metadata": {}
  },
  {
   "source": [
    "**This time you will create a data again**\n",
    "\n",
    "Special thanks to Chris Albon for sharing the dataset and materials. All the credits to this exercise belongs to him.\n",
    "\n",
    "In order to understand about it 'https://blog.codinghorror.com/a-visual-explanation-of-sql-joins/'"
   ],
   "cell_type": "markdown",
   "metadata": {}
  },
  {
   "cell_type": "code",
   "execution_count": 2,
   "metadata": {},
   "outputs": [],
   "source": [
    "# Step 1: Import libraies\n",
    "import pandas as pd\n",
    "import numpy as np"
   ]
  },
  {
   "cell_type": "code",
   "execution_count": 6,
   "metadata": {
    "tags": []
   },
   "outputs": [
    {
     "output_type": "execute_result",
     "data": {
      "text/plain": "(  subject_id first_name last_name\n 0          1       Alex  Anderson\n 1          2        Amy  Ackerman\n 2          3      Allen       Ali\n 3          4      Alice      Aoni\n 4          5     Ayoung   Atiches,\n   subject_id first_name last_name\n 0          4      Billy    Bonder\n 1          5      Brian     Black\n 2          6       Bran   Balwner\n 3          7      Bryce     Brice\n 4          8      Betty    Btisan,\n   subject_id  test_id\n 0          1       51\n 1          2       15\n 2          3       15\n 3          4       61\n 4          5       16\n 5          7       14\n 6          8       15\n 7          9        1\n 8         10       61\n 9         11       16)"
     },
     "metadata": {},
     "execution_count": 6
    }
   ],
   "source": [
    "# Step 2. Create the 3 DataFrames based on the following raw data\n",
    "\n",
    "raw_data_1 = {\n",
    "        'subject_id': ['1', '2', '3', '4', '5'],\n",
    "        'first_name': ['Alex', 'Amy', 'Allen', 'Alice', 'Ayoung'], \n",
    "        'last_name': ['Anderson', 'Ackerman', 'Ali', 'Aoni', 'Atiches']}\n",
    "\n",
    "raw_data_2 = {\n",
    "        'subject_id': ['4', '5', '6', '7', '8'],\n",
    "        'first_name': ['Billy', 'Brian', 'Bran', 'Bryce', 'Betty'], \n",
    "        'last_name': ['Bonder', 'Black', 'Balwner', 'Brice', 'Btisan']}\n",
    "\n",
    "raw_data_3 = {\n",
    "        'subject_id': ['1', '2', '3', '4', '5', '7', '8', '9', '10', '11'],\n",
    "        'test_id': [51, 15, 15, 61, 16, 14, 15, 1, 61, 16]}\n",
    "\n",
    "df1 = pd.DataFrame(raw_data_1, columns=['subject_id', 'first_name', 'last_name'])\n",
    "\n",
    "df2 = pd.DataFrame(raw_data_2, columns=['subject_id', 'first_name', 'last_name'])\n",
    "\n",
    "df3 = pd.DataFrame(raw_data_3, columns=['subject_id', 'test_id'])\n",
    "df1, df2, df3"
   ]
  },
  {
   "cell_type": "code",
   "execution_count": null,
   "metadata": {},
   "outputs": [],
   "source": []
  }
 ]
}