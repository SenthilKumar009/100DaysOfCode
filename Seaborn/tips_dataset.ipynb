{
 "metadata": {
  "language_info": {
   "codemirror_mode": {
    "name": "ipython",
    "version": 3
   },
   "file_extension": ".py",
   "mimetype": "text/x-python",
   "name": "python",
   "nbconvert_exporter": "python",
   "pygments_lexer": "ipython3",
   "version": "3.8.5-final"
  },
  "orig_nbformat": 2,
  "kernelspec": {
   "name": "python3",
   "display_name": "Python 3",
   "language": "python"
  }
 },
 "nbformat": 4,
 "nbformat_minor": 2,
 "cells": [
  {
   "cell_type": "code",
   "execution_count": 1,
   "metadata": {},
   "outputs": [],
   "source": [
    "import pandas as pd\n",
    "import numpy as nb\n",
    "import seaborn as sns"
   ]
  },
  {
   "cell_type": "code",
   "execution_count": 2,
   "metadata": {},
   "outputs": [
    {
     "output_type": "execute_result",
     "data": {
      "text/plain": [
       "   total_bill   tip     sex smoker  day    time  size\n",
       "0       16.99  1.01  Female     No  Sun  Dinner     2\n",
       "1       10.34  1.66    Male     No  Sun  Dinner     3\n",
       "2       21.01  3.50    Male     No  Sun  Dinner     3\n",
       "3       23.68  3.31    Male     No  Sun  Dinner     2\n",
       "4       24.59  3.61  Female     No  Sun  Dinner     4"
      ],
      "text/html": "<div>\n<style scoped>\n    .dataframe tbody tr th:only-of-type {\n        vertical-align: middle;\n    }\n\n    .dataframe tbody tr th {\n        vertical-align: top;\n    }\n\n    .dataframe thead th {\n        text-align: right;\n    }\n</style>\n<table border=\"1\" class=\"dataframe\">\n  <thead>\n    <tr style=\"text-align: right;\">\n      <th></th>\n      <th>total_bill</th>\n      <th>tip</th>\n      <th>sex</th>\n      <th>smoker</th>\n      <th>day</th>\n      <th>time</th>\n      <th>size</th>\n    </tr>\n  </thead>\n  <tbody>\n    <tr>\n      <th>0</th>\n      <td>16.99</td>\n      <td>1.01</td>\n      <td>Female</td>\n      <td>No</td>\n      <td>Sun</td>\n      <td>Dinner</td>\n      <td>2</td>\n    </tr>\n    <tr>\n      <th>1</th>\n      <td>10.34</td>\n      <td>1.66</td>\n      <td>Male</td>\n      <td>No</td>\n      <td>Sun</td>\n      <td>Dinner</td>\n      <td>3</td>\n    </tr>\n    <tr>\n      <th>2</th>\n      <td>21.01</td>\n      <td>3.50</td>\n      <td>Male</td>\n      <td>No</td>\n      <td>Sun</td>\n      <td>Dinner</td>\n      <td>3</td>\n    </tr>\n    <tr>\n      <th>3</th>\n      <td>23.68</td>\n      <td>3.31</td>\n      <td>Male</td>\n      <td>No</td>\n      <td>Sun</td>\n      <td>Dinner</td>\n      <td>2</td>\n    </tr>\n    <tr>\n      <th>4</th>\n      <td>24.59</td>\n      <td>3.61</td>\n      <td>Female</td>\n      <td>No</td>\n      <td>Sun</td>\n      <td>Dinner</td>\n      <td>4</td>\n    </tr>\n  </tbody>\n</table>\n</div>"
     },
     "metadata": {},
     "execution_count": 2
    }
   ],
   "source": [
    "df = sns.load_dataset('tips')\n",
    "df.head()"
   ]
  },
  {
   "cell_type": "code",
   "execution_count": 3,
   "metadata": {},
   "outputs": [
    {
     "output_type": "execute_result",
     "data": {
      "text/plain": [
       "(244, 7)"
      ]
     },
     "metadata": {},
     "execution_count": 3
    }
   ],
   "source": [
    "# get the shape of the data\n",
    "df.shape"
   ]
  },
  {
   "cell_type": "code",
   "execution_count": 4,
   "metadata": {},
   "outputs": [
    {
     "output_type": "execute_result",
     "data": {
      "text/plain": [
       "   total_bill   tip     sex smoker  day    time  size\n",
       "0       16.99  1.01  Female     No  Sun  Dinner     2\n",
       "1       10.34  1.66    Male     No  Sun  Dinner     3\n",
       "2       21.01  3.50    Male     No  Sun  Dinner     3\n",
       "3       23.68  3.31    Male     No  Sun  Dinner     2\n",
       "4       24.59  3.61  Female     No  Sun  Dinner     4\n",
       "5       25.29  4.71    Male     No  Sun  Dinner     4\n",
       "6        8.77  2.00    Male     No  Sun  Dinner     2\n",
       "7       26.88  3.12    Male     No  Sun  Dinner     4\n",
       "8       15.04  1.96    Male     No  Sun  Dinner     2\n",
       "9       14.78  3.23    Male     No  Sun  Dinner     2"
      ],
      "text/html": "<div>\n<style scoped>\n    .dataframe tbody tr th:only-of-type {\n        vertical-align: middle;\n    }\n\n    .dataframe tbody tr th {\n        vertical-align: top;\n    }\n\n    .dataframe thead th {\n        text-align: right;\n    }\n</style>\n<table border=\"1\" class=\"dataframe\">\n  <thead>\n    <tr style=\"text-align: right;\">\n      <th></th>\n      <th>total_bill</th>\n      <th>tip</th>\n      <th>sex</th>\n      <th>smoker</th>\n      <th>day</th>\n      <th>time</th>\n      <th>size</th>\n    </tr>\n  </thead>\n  <tbody>\n    <tr>\n      <th>0</th>\n      <td>16.99</td>\n      <td>1.01</td>\n      <td>Female</td>\n      <td>No</td>\n      <td>Sun</td>\n      <td>Dinner</td>\n      <td>2</td>\n    </tr>\n    <tr>\n      <th>1</th>\n      <td>10.34</td>\n      <td>1.66</td>\n      <td>Male</td>\n      <td>No</td>\n      <td>Sun</td>\n      <td>Dinner</td>\n      <td>3</td>\n    </tr>\n    <tr>\n      <th>2</th>\n      <td>21.01</td>\n      <td>3.50</td>\n      <td>Male</td>\n      <td>No</td>\n      <td>Sun</td>\n      <td>Dinner</td>\n      <td>3</td>\n    </tr>\n    <tr>\n      <th>3</th>\n      <td>23.68</td>\n      <td>3.31</td>\n      <td>Male</td>\n      <td>No</td>\n      <td>Sun</td>\n      <td>Dinner</td>\n      <td>2</td>\n    </tr>\n    <tr>\n      <th>4</th>\n      <td>24.59</td>\n      <td>3.61</td>\n      <td>Female</td>\n      <td>No</td>\n      <td>Sun</td>\n      <td>Dinner</td>\n      <td>4</td>\n    </tr>\n    <tr>\n      <th>5</th>\n      <td>25.29</td>\n      <td>4.71</td>\n      <td>Male</td>\n      <td>No</td>\n      <td>Sun</td>\n      <td>Dinner</td>\n      <td>4</td>\n    </tr>\n    <tr>\n      <th>6</th>\n      <td>8.77</td>\n      <td>2.00</td>\n      <td>Male</td>\n      <td>No</td>\n      <td>Sun</td>\n      <td>Dinner</td>\n      <td>2</td>\n    </tr>\n    <tr>\n      <th>7</th>\n      <td>26.88</td>\n      <td>3.12</td>\n      <td>Male</td>\n      <td>No</td>\n      <td>Sun</td>\n      <td>Dinner</td>\n      <td>4</td>\n    </tr>\n    <tr>\n      <th>8</th>\n      <td>15.04</td>\n      <td>1.96</td>\n      <td>Male</td>\n      <td>No</td>\n      <td>Sun</td>\n      <td>Dinner</td>\n      <td>2</td>\n    </tr>\n    <tr>\n      <th>9</th>\n      <td>14.78</td>\n      <td>3.23</td>\n      <td>Male</td>\n      <td>No</td>\n      <td>Sun</td>\n      <td>Dinner</td>\n      <td>2</td>\n    </tr>\n  </tbody>\n</table>\n</div>"
     },
     "metadata": {},
     "execution_count": 4
    }
   ],
   "source": [
    "# view the top 10 row\n",
    "df.head(10)"
   ]
  },
  {
   "cell_type": "code",
   "execution_count": 5,
   "metadata": {},
   "outputs": [
    {
     "output_type": "execute_result",
     "data": {
      "text/plain": [
       "     total_bill   tip     sex smoker   day    time  size\n",
       "224       13.42  1.58    Male    Yes   Fri   Lunch     2\n",
       "225       16.27  2.50  Female    Yes   Fri   Lunch     2\n",
       "226       10.09  2.00  Female    Yes   Fri   Lunch     2\n",
       "227       20.45  3.00    Male     No   Sat  Dinner     4\n",
       "228       13.28  2.72    Male     No   Sat  Dinner     2\n",
       "229       22.12  2.88  Female    Yes   Sat  Dinner     2\n",
       "230       24.01  2.00    Male    Yes   Sat  Dinner     4\n",
       "231       15.69  3.00    Male    Yes   Sat  Dinner     3\n",
       "232       11.61  3.39    Male     No   Sat  Dinner     2\n",
       "233       10.77  1.47    Male     No   Sat  Dinner     2\n",
       "234       15.53  3.00    Male    Yes   Sat  Dinner     2\n",
       "235       10.07  1.25    Male     No   Sat  Dinner     2\n",
       "236       12.60  1.00    Male    Yes   Sat  Dinner     2\n",
       "237       32.83  1.17    Male    Yes   Sat  Dinner     2\n",
       "238       35.83  4.67  Female     No   Sat  Dinner     3\n",
       "239       29.03  5.92    Male     No   Sat  Dinner     3\n",
       "240       27.18  2.00  Female    Yes   Sat  Dinner     2\n",
       "241       22.67  2.00    Male    Yes   Sat  Dinner     2\n",
       "242       17.82  1.75    Male     No   Sat  Dinner     2\n",
       "243       18.78  3.00  Female     No  Thur  Dinner     2"
      ],
      "text/html": "<div>\n<style scoped>\n    .dataframe tbody tr th:only-of-type {\n        vertical-align: middle;\n    }\n\n    .dataframe tbody tr th {\n        vertical-align: top;\n    }\n\n    .dataframe thead th {\n        text-align: right;\n    }\n</style>\n<table border=\"1\" class=\"dataframe\">\n  <thead>\n    <tr style=\"text-align: right;\">\n      <th></th>\n      <th>total_bill</th>\n      <th>tip</th>\n      <th>sex</th>\n      <th>smoker</th>\n      <th>day</th>\n      <th>time</th>\n      <th>size</th>\n    </tr>\n  </thead>\n  <tbody>\n    <tr>\n      <th>224</th>\n      <td>13.42</td>\n      <td>1.58</td>\n      <td>Male</td>\n      <td>Yes</td>\n      <td>Fri</td>\n      <td>Lunch</td>\n      <td>2</td>\n    </tr>\n    <tr>\n      <th>225</th>\n      <td>16.27</td>\n      <td>2.50</td>\n      <td>Female</td>\n      <td>Yes</td>\n      <td>Fri</td>\n      <td>Lunch</td>\n      <td>2</td>\n    </tr>\n    <tr>\n      <th>226</th>\n      <td>10.09</td>\n      <td>2.00</td>\n      <td>Female</td>\n      <td>Yes</td>\n      <td>Fri</td>\n      <td>Lunch</td>\n      <td>2</td>\n    </tr>\n    <tr>\n      <th>227</th>\n      <td>20.45</td>\n      <td>3.00</td>\n      <td>Male</td>\n      <td>No</td>\n      <td>Sat</td>\n      <td>Dinner</td>\n      <td>4</td>\n    </tr>\n    <tr>\n      <th>228</th>\n      <td>13.28</td>\n      <td>2.72</td>\n      <td>Male</td>\n      <td>No</td>\n      <td>Sat</td>\n      <td>Dinner</td>\n      <td>2</td>\n    </tr>\n    <tr>\n      <th>229</th>\n      <td>22.12</td>\n      <td>2.88</td>\n      <td>Female</td>\n      <td>Yes</td>\n      <td>Sat</td>\n      <td>Dinner</td>\n      <td>2</td>\n    </tr>\n    <tr>\n      <th>230</th>\n      <td>24.01</td>\n      <td>2.00</td>\n      <td>Male</td>\n      <td>Yes</td>\n      <td>Sat</td>\n      <td>Dinner</td>\n      <td>4</td>\n    </tr>\n    <tr>\n      <th>231</th>\n      <td>15.69</td>\n      <td>3.00</td>\n      <td>Male</td>\n      <td>Yes</td>\n      <td>Sat</td>\n      <td>Dinner</td>\n      <td>3</td>\n    </tr>\n    <tr>\n      <th>232</th>\n      <td>11.61</td>\n      <td>3.39</td>\n      <td>Male</td>\n      <td>No</td>\n      <td>Sat</td>\n      <td>Dinner</td>\n      <td>2</td>\n    </tr>\n    <tr>\n      <th>233</th>\n      <td>10.77</td>\n      <td>1.47</td>\n      <td>Male</td>\n      <td>No</td>\n      <td>Sat</td>\n      <td>Dinner</td>\n      <td>2</td>\n    </tr>\n    <tr>\n      <th>234</th>\n      <td>15.53</td>\n      <td>3.00</td>\n      <td>Male</td>\n      <td>Yes</td>\n      <td>Sat</td>\n      <td>Dinner</td>\n      <td>2</td>\n    </tr>\n    <tr>\n      <th>235</th>\n      <td>10.07</td>\n      <td>1.25</td>\n      <td>Male</td>\n      <td>No</td>\n      <td>Sat</td>\n      <td>Dinner</td>\n      <td>2</td>\n    </tr>\n    <tr>\n      <th>236</th>\n      <td>12.60</td>\n      <td>1.00</td>\n      <td>Male</td>\n      <td>Yes</td>\n      <td>Sat</td>\n      <td>Dinner</td>\n      <td>2</td>\n    </tr>\n    <tr>\n      <th>237</th>\n      <td>32.83</td>\n      <td>1.17</td>\n      <td>Male</td>\n      <td>Yes</td>\n      <td>Sat</td>\n      <td>Dinner</td>\n      <td>2</td>\n    </tr>\n    <tr>\n      <th>238</th>\n      <td>35.83</td>\n      <td>4.67</td>\n      <td>Female</td>\n      <td>No</td>\n      <td>Sat</td>\n      <td>Dinner</td>\n      <td>3</td>\n    </tr>\n    <tr>\n      <th>239</th>\n      <td>29.03</td>\n      <td>5.92</td>\n      <td>Male</td>\n      <td>No</td>\n      <td>Sat</td>\n      <td>Dinner</td>\n      <td>3</td>\n    </tr>\n    <tr>\n      <th>240</th>\n      <td>27.18</td>\n      <td>2.00</td>\n      <td>Female</td>\n      <td>Yes</td>\n      <td>Sat</td>\n      <td>Dinner</td>\n      <td>2</td>\n    </tr>\n    <tr>\n      <th>241</th>\n      <td>22.67</td>\n      <td>2.00</td>\n      <td>Male</td>\n      <td>Yes</td>\n      <td>Sat</td>\n      <td>Dinner</td>\n      <td>2</td>\n    </tr>\n    <tr>\n      <th>242</th>\n      <td>17.82</td>\n      <td>1.75</td>\n      <td>Male</td>\n      <td>No</td>\n      <td>Sat</td>\n      <td>Dinner</td>\n      <td>2</td>\n    </tr>\n    <tr>\n      <th>243</th>\n      <td>18.78</td>\n      <td>3.00</td>\n      <td>Female</td>\n      <td>No</td>\n      <td>Thur</td>\n      <td>Dinner</td>\n      <td>2</td>\n    </tr>\n  </tbody>\n</table>\n</div>"
     },
     "metadata": {},
     "execution_count": 5
    }
   ],
   "source": [
    "# view the bottom 20 rows\n",
    "df.tail(20)"
   ]
  },
  {
   "cell_type": "code",
   "execution_count": 18,
   "metadata": {},
   "outputs": [
    {
     "output_type": "execute_result",
     "data": {
      "text/plain": [
       "total_bill    20.744076\n",
       "tip            3.089618\n",
       "size           2.630573\n",
       "dtype: float64"
      ]
     },
     "metadata": {},
     "execution_count": 18
    }
   ],
   "source": [
    "# get the average total bill by only male\n",
    "df[df['sex']=='Male'].mean()"
   ]
  },
  {
   "cell_type": "code",
   "execution_count": 9,
   "metadata": {},
   "outputs": [
    {
     "output_type": "execute_result",
     "data": {
      "text/plain": [
       "        total_bill       tip\n",
       "smoker                      \n",
       "Yes      20.756344  3.008710\n",
       "No       19.188278  2.991854"
      ],
      "text/html": "<div>\n<style scoped>\n    .dataframe tbody tr th:only-of-type {\n        vertical-align: middle;\n    }\n\n    .dataframe tbody tr th {\n        vertical-align: top;\n    }\n\n    .dataframe thead th {\n        text-align: right;\n    }\n</style>\n<table border=\"1\" class=\"dataframe\">\n  <thead>\n    <tr style=\"text-align: right;\">\n      <th></th>\n      <th>total_bill</th>\n      <th>tip</th>\n    </tr>\n    <tr>\n      <th>smoker</th>\n      <th></th>\n      <th></th>\n    </tr>\n  </thead>\n  <tbody>\n    <tr>\n      <th>Yes</th>\n      <td>20.756344</td>\n      <td>3.008710</td>\n    </tr>\n    <tr>\n      <th>No</th>\n      <td>19.188278</td>\n      <td>2.991854</td>\n    </tr>\n  </tbody>\n</table>\n</div>"
     },
     "metadata": {},
     "execution_count": 9
    }
   ],
   "source": [
    "# get the average (mean, median) total bill and tip given by smoker and non smoker\n",
    "df.groupby('smoker')['total_bill', 'tip'].agg('mean', 'median')"
   ]
  },
  {
   "cell_type": "code",
   "execution_count": 19,
   "metadata": {},
   "outputs": [
    {
     "output_type": "execute_result",
     "data": {
      "text/plain": [
       "            mean            median           \n",
       "             tip total_bill    tip total_bill\n",
       "smoker                                       \n",
       "Yes     3.008710  20.756344   3.00      17.92\n",
       "No      2.991854  19.188278   2.74      17.59"
      ],
      "text/html": "<div>\n<style scoped>\n    .dataframe tbody tr th:only-of-type {\n        vertical-align: middle;\n    }\n\n    .dataframe tbody tr th {\n        vertical-align: top;\n    }\n\n    .dataframe thead tr th {\n        text-align: left;\n    }\n\n    .dataframe thead tr:last-of-type th {\n        text-align: right;\n    }\n</style>\n<table border=\"1\" class=\"dataframe\">\n  <thead>\n    <tr>\n      <th></th>\n      <th colspan=\"2\" halign=\"left\">mean</th>\n      <th colspan=\"2\" halign=\"left\">median</th>\n    </tr>\n    <tr>\n      <th></th>\n      <th>tip</th>\n      <th>total_bill</th>\n      <th>tip</th>\n      <th>total_bill</th>\n    </tr>\n    <tr>\n      <th>smoker</th>\n      <th></th>\n      <th></th>\n      <th></th>\n      <th></th>\n    </tr>\n  </thead>\n  <tbody>\n    <tr>\n      <th>Yes</th>\n      <td>3.008710</td>\n      <td>20.756344</td>\n      <td>3.00</td>\n      <td>17.92</td>\n    </tr>\n    <tr>\n      <th>No</th>\n      <td>2.991854</td>\n      <td>19.188278</td>\n      <td>2.74</td>\n      <td>17.59</td>\n    </tr>\n  </tbody>\n</table>\n</div>"
     },
     "metadata": {},
     "execution_count": 19
    }
   ],
   "source": [
    "#Get the avg(mean,median) total_bill and tip given by smoker and non smoker\n",
    "pd.pivot_table(data= df, values=['total_bill', 'tip'], index= ['smoker'], aggfunc= ['mean', 'median'])"
   ]
  },
  {
   "cell_type": "code",
   "execution_count": 15,
   "metadata": {},
   "outputs": [
    {
     "output_type": "execute_result",
     "data": {
      "text/plain": [
       "time\n",
       "Lunch      68\n",
       "Dinner    176\n",
       "Name: time, dtype: int64"
      ]
     },
     "metadata": {},
     "execution_count": 15
    }
   ],
   "source": [
    "# what is most frequent time of visit\n",
    "df.groupby('time')['time'].agg('count')"
   ]
  },
  {
   "cell_type": "code",
   "execution_count": 20,
   "metadata": {},
   "outputs": [
    {
     "output_type": "execute_result",
     "data": {
      "text/plain": [
       "day\n",
       "Thur    2.771452\n",
       "Fri     2.734737\n",
       "Sat     2.993103\n",
       "Sun     3.255132\n",
       "Name: tip, dtype: float64"
      ]
     },
     "metadata": {},
     "execution_count": 20
    }
   ],
   "source": [
    "# Which day customers are giving more tips\n",
    "df.groupby('day')['tip'].agg('mean')"
   ]
  },
  {
   "cell_type": "code",
   "execution_count": 23,
   "metadata": {},
   "outputs": [
    {
     "output_type": "execute_result",
     "data": {
      "text/plain": [
       "            median                 mean           \n",
       "               tip total_bill       tip total_bill\n",
       "smoker day                                        \n",
       "Yes    Thur  2.560     16.470  3.030000  19.190588\n",
       "       Fri   2.500     13.420  2.714000  16.813333\n",
       "       Sat   2.690     20.390  2.875476  21.276667\n",
       "       Sun   3.500     23.100  3.516842  24.120000\n",
       "No     Thur  2.180     15.950  2.673778  17.113111\n",
       "       Fri   3.125     19.235  2.812500  18.420000\n",
       "       Sat   2.750     17.820  3.102889  19.661778\n",
       "       Sun   3.020     18.430  3.167895  20.506667"
      ],
      "text/html": "<div>\n<style scoped>\n    .dataframe tbody tr th:only-of-type {\n        vertical-align: middle;\n    }\n\n    .dataframe tbody tr th {\n        vertical-align: top;\n    }\n\n    .dataframe thead tr th {\n        text-align: left;\n    }\n\n    .dataframe thead tr:last-of-type th {\n        text-align: right;\n    }\n</style>\n<table border=\"1\" class=\"dataframe\">\n  <thead>\n    <tr>\n      <th></th>\n      <th></th>\n      <th colspan=\"2\" halign=\"left\">median</th>\n      <th colspan=\"2\" halign=\"left\">mean</th>\n    </tr>\n    <tr>\n      <th></th>\n      <th></th>\n      <th>tip</th>\n      <th>total_bill</th>\n      <th>tip</th>\n      <th>total_bill</th>\n    </tr>\n    <tr>\n      <th>smoker</th>\n      <th>day</th>\n      <th></th>\n      <th></th>\n      <th></th>\n      <th></th>\n    </tr>\n  </thead>\n  <tbody>\n    <tr>\n      <th rowspan=\"4\" valign=\"top\">Yes</th>\n      <th>Thur</th>\n      <td>2.560</td>\n      <td>16.470</td>\n      <td>3.030000</td>\n      <td>19.190588</td>\n    </tr>\n    <tr>\n      <th>Fri</th>\n      <td>2.500</td>\n      <td>13.420</td>\n      <td>2.714000</td>\n      <td>16.813333</td>\n    </tr>\n    <tr>\n      <th>Sat</th>\n      <td>2.690</td>\n      <td>20.390</td>\n      <td>2.875476</td>\n      <td>21.276667</td>\n    </tr>\n    <tr>\n      <th>Sun</th>\n      <td>3.500</td>\n      <td>23.100</td>\n      <td>3.516842</td>\n      <td>24.120000</td>\n    </tr>\n    <tr>\n      <th rowspan=\"4\" valign=\"top\">No</th>\n      <th>Thur</th>\n      <td>2.180</td>\n      <td>15.950</td>\n      <td>2.673778</td>\n      <td>17.113111</td>\n    </tr>\n    <tr>\n      <th>Fri</th>\n      <td>3.125</td>\n      <td>19.235</td>\n      <td>2.812500</td>\n      <td>18.420000</td>\n    </tr>\n    <tr>\n      <th>Sat</th>\n      <td>2.750</td>\n      <td>17.820</td>\n      <td>3.102889</td>\n      <td>19.661778</td>\n    </tr>\n    <tr>\n      <th>Sun</th>\n      <td>3.020</td>\n      <td>18.430</td>\n      <td>3.167895</td>\n      <td>20.506667</td>\n    </tr>\n  </tbody>\n</table>\n</div>"
     },
     "metadata": {},
     "execution_count": 23
    }
   ],
   "source": [
    "#get the avg(median) tip and total_bill amount by smoker(yes) on sunday\n",
    "pd.pivot_table(data=df, values=['tip', 'total_bill'], index=['smoker', 'day'], aggfunc=['median', 'mean'])"
   ]
  },
  {
   "cell_type": "code",
   "execution_count": 24,
   "metadata": {},
   "outputs": [
    {
     "output_type": "execute_result",
     "data": {
      "text/plain": [
       "                   median                 mean              min             \\\n",
       "                      tip total_bill       tip total_bill   tip total_bill   \n",
       "smoker day  time                                                             \n",
       "Yes    Thur Lunch   2.560     16.470  3.030000  19.190588  2.00      10.34   \n",
       "       Fri  Lunch   2.100     12.790  2.280000  12.323333  1.58       8.58   \n",
       "            Dinner  3.000     16.320  3.003333  19.806667  1.00       5.75   \n",
       "       Sat  Dinner  2.690     20.390  2.875476  21.276667  1.00       3.07   \n",
       "       Sun  Dinner  3.500     23.100  3.516842  24.120000  1.50       7.25   \n",
       "No     Thur Lunch   2.105     15.235  2.666364  17.075227  1.25       7.51   \n",
       "            Dinner  3.000     18.780  3.000000  18.780000  3.00      18.78   \n",
       "       Fri  Lunch   3.000     15.980  3.000000  15.980000  3.00      15.98   \n",
       "            Dinner  3.250     22.490  2.750000  19.233333  1.50      12.46   \n",
       "       Sat  Dinner  2.750     17.820  3.102889  19.661778  1.00       7.25   \n",
       "       Sun  Dinner  3.020     18.430  3.167895  20.506667  1.01       8.77   \n",
       "\n",
       "                      max             \n",
       "                      tip total_bill  \n",
       "smoker day  time                      \n",
       "Yes    Thur Lunch    5.00      43.11  \n",
       "       Fri  Lunch    3.48      16.27  \n",
       "            Dinner   4.73      40.17  \n",
       "       Sat  Dinner  10.00      50.81  \n",
       "       Sun  Dinner   6.50      45.35  \n",
       "No     Thur Lunch    6.70      41.19  \n",
       "            Dinner   3.00      18.78  \n",
       "       Fri  Lunch    3.00      15.98  \n",
       "            Dinner   3.50      22.75  \n",
       "       Sat  Dinner   9.00      48.33  \n",
       "       Sun  Dinner   6.00      48.17  "
      ],
      "text/html": "<div>\n<style scoped>\n    .dataframe tbody tr th:only-of-type {\n        vertical-align: middle;\n    }\n\n    .dataframe tbody tr th {\n        vertical-align: top;\n    }\n\n    .dataframe thead tr th {\n        text-align: left;\n    }\n\n    .dataframe thead tr:last-of-type th {\n        text-align: right;\n    }\n</style>\n<table border=\"1\" class=\"dataframe\">\n  <thead>\n    <tr>\n      <th></th>\n      <th></th>\n      <th></th>\n      <th colspan=\"2\" halign=\"left\">median</th>\n      <th colspan=\"2\" halign=\"left\">mean</th>\n      <th colspan=\"2\" halign=\"left\">min</th>\n      <th colspan=\"2\" halign=\"left\">max</th>\n    </tr>\n    <tr>\n      <th></th>\n      <th></th>\n      <th></th>\n      <th>tip</th>\n      <th>total_bill</th>\n      <th>tip</th>\n      <th>total_bill</th>\n      <th>tip</th>\n      <th>total_bill</th>\n      <th>tip</th>\n      <th>total_bill</th>\n    </tr>\n    <tr>\n      <th>smoker</th>\n      <th>day</th>\n      <th>time</th>\n      <th></th>\n      <th></th>\n      <th></th>\n      <th></th>\n      <th></th>\n      <th></th>\n      <th></th>\n      <th></th>\n    </tr>\n  </thead>\n  <tbody>\n    <tr>\n      <th rowspan=\"5\" valign=\"top\">Yes</th>\n      <th>Thur</th>\n      <th>Lunch</th>\n      <td>2.560</td>\n      <td>16.470</td>\n      <td>3.030000</td>\n      <td>19.190588</td>\n      <td>2.00</td>\n      <td>10.34</td>\n      <td>5.00</td>\n      <td>43.11</td>\n    </tr>\n    <tr>\n      <th rowspan=\"2\" valign=\"top\">Fri</th>\n      <th>Lunch</th>\n      <td>2.100</td>\n      <td>12.790</td>\n      <td>2.280000</td>\n      <td>12.323333</td>\n      <td>1.58</td>\n      <td>8.58</td>\n      <td>3.48</td>\n      <td>16.27</td>\n    </tr>\n    <tr>\n      <th>Dinner</th>\n      <td>3.000</td>\n      <td>16.320</td>\n      <td>3.003333</td>\n      <td>19.806667</td>\n      <td>1.00</td>\n      <td>5.75</td>\n      <td>4.73</td>\n      <td>40.17</td>\n    </tr>\n    <tr>\n      <th>Sat</th>\n      <th>Dinner</th>\n      <td>2.690</td>\n      <td>20.390</td>\n      <td>2.875476</td>\n      <td>21.276667</td>\n      <td>1.00</td>\n      <td>3.07</td>\n      <td>10.00</td>\n      <td>50.81</td>\n    </tr>\n    <tr>\n      <th>Sun</th>\n      <th>Dinner</th>\n      <td>3.500</td>\n      <td>23.100</td>\n      <td>3.516842</td>\n      <td>24.120000</td>\n      <td>1.50</td>\n      <td>7.25</td>\n      <td>6.50</td>\n      <td>45.35</td>\n    </tr>\n    <tr>\n      <th rowspan=\"6\" valign=\"top\">No</th>\n      <th rowspan=\"2\" valign=\"top\">Thur</th>\n      <th>Lunch</th>\n      <td>2.105</td>\n      <td>15.235</td>\n      <td>2.666364</td>\n      <td>17.075227</td>\n      <td>1.25</td>\n      <td>7.51</td>\n      <td>6.70</td>\n      <td>41.19</td>\n    </tr>\n    <tr>\n      <th>Dinner</th>\n      <td>3.000</td>\n      <td>18.780</td>\n      <td>3.000000</td>\n      <td>18.780000</td>\n      <td>3.00</td>\n      <td>18.78</td>\n      <td>3.00</td>\n      <td>18.78</td>\n    </tr>\n    <tr>\n      <th rowspan=\"2\" valign=\"top\">Fri</th>\n      <th>Lunch</th>\n      <td>3.000</td>\n      <td>15.980</td>\n      <td>3.000000</td>\n      <td>15.980000</td>\n      <td>3.00</td>\n      <td>15.98</td>\n      <td>3.00</td>\n      <td>15.98</td>\n    </tr>\n    <tr>\n      <th>Dinner</th>\n      <td>3.250</td>\n      <td>22.490</td>\n      <td>2.750000</td>\n      <td>19.233333</td>\n      <td>1.50</td>\n      <td>12.46</td>\n      <td>3.50</td>\n      <td>22.75</td>\n    </tr>\n    <tr>\n      <th>Sat</th>\n      <th>Dinner</th>\n      <td>2.750</td>\n      <td>17.820</td>\n      <td>3.102889</td>\n      <td>19.661778</td>\n      <td>1.00</td>\n      <td>7.25</td>\n      <td>9.00</td>\n      <td>48.33</td>\n    </tr>\n    <tr>\n      <th>Sun</th>\n      <th>Dinner</th>\n      <td>3.020</td>\n      <td>18.430</td>\n      <td>3.167895</td>\n      <td>20.506667</td>\n      <td>1.01</td>\n      <td>8.77</td>\n      <td>6.00</td>\n      <td>48.17</td>\n    </tr>\n  </tbody>\n</table>\n</div>"
     },
     "metadata": {},
     "execution_count": 24
    }
   ],
   "source": [
    "#get the (mean,median,min,max) tip and total_bill amount by smoker(yes) on friday with time(Lunch)\n",
    "#1 What is min bill by a smoker on sunday\n",
    "#2 what is max tip by a non smoker on thursday\n",
    "#3 what is total_bill made on sat by non smokers\n",
    "\n",
    "pd.pivot_table(data=df, values=['tip', 'total_bill'], index=['smoker', 'day', 'time'], aggfunc=['median', 'mean', 'min', 'max'])"
   ]
  },
  {
   "cell_type": "code",
   "execution_count": 27,
   "metadata": {},
   "outputs": [
    {
     "output_type": "execute_result",
     "data": {
      "text/plain": [
       "sex\n",
       "Male      20.744076\n",
       "Female    18.056897\n",
       "Name: total_bill, dtype: float64"
      ]
     },
     "metadata": {},
     "execution_count": 27
    }
   ],
   "source": [
    "#which gender is having highest bill amount\n",
    "df.groupby('sex')['total_bill'].agg('mean')"
   ]
  },
  {
   "cell_type": "code",
   "execution_count": 29,
   "metadata": {},
   "outputs": [],
   "source": [
    "#create a new column total_bill amount category(low, moderate, high)\n",
    "df['total_bill_class'] = df['total_bill'].apply(lambda x: 'low' if x< 15\n",
    "                                       else('moderate' if 15<=x<35\n",
    "                                       else'high'))"
   ]
  },
  {
   "cell_type": "code",
   "execution_count": 30,
   "metadata": {},
   "outputs": [
    {
     "output_type": "execute_result",
     "data": {
      "text/plain": [
       "   total_bill   tip     sex smoker  day    time  size total_bill_class\n",
       "0       16.99  1.01  Female     No  Sun  Dinner     2         moderate\n",
       "1       10.34  1.66    Male     No  Sun  Dinner     3              low\n",
       "2       21.01  3.50    Male     No  Sun  Dinner     3         moderate\n",
       "3       23.68  3.31    Male     No  Sun  Dinner     2         moderate\n",
       "4       24.59  3.61  Female     No  Sun  Dinner     4         moderate"
      ],
      "text/html": "<div>\n<style scoped>\n    .dataframe tbody tr th:only-of-type {\n        vertical-align: middle;\n    }\n\n    .dataframe tbody tr th {\n        vertical-align: top;\n    }\n\n    .dataframe thead th {\n        text-align: right;\n    }\n</style>\n<table border=\"1\" class=\"dataframe\">\n  <thead>\n    <tr style=\"text-align: right;\">\n      <th></th>\n      <th>total_bill</th>\n      <th>tip</th>\n      <th>sex</th>\n      <th>smoker</th>\n      <th>day</th>\n      <th>time</th>\n      <th>size</th>\n      <th>total_bill_class</th>\n    </tr>\n  </thead>\n  <tbody>\n    <tr>\n      <th>0</th>\n      <td>16.99</td>\n      <td>1.01</td>\n      <td>Female</td>\n      <td>No</td>\n      <td>Sun</td>\n      <td>Dinner</td>\n      <td>2</td>\n      <td>moderate</td>\n    </tr>\n    <tr>\n      <th>1</th>\n      <td>10.34</td>\n      <td>1.66</td>\n      <td>Male</td>\n      <td>No</td>\n      <td>Sun</td>\n      <td>Dinner</td>\n      <td>3</td>\n      <td>low</td>\n    </tr>\n    <tr>\n      <th>2</th>\n      <td>21.01</td>\n      <td>3.50</td>\n      <td>Male</td>\n      <td>No</td>\n      <td>Sun</td>\n      <td>Dinner</td>\n      <td>3</td>\n      <td>moderate</td>\n    </tr>\n    <tr>\n      <th>3</th>\n      <td>23.68</td>\n      <td>3.31</td>\n      <td>Male</td>\n      <td>No</td>\n      <td>Sun</td>\n      <td>Dinner</td>\n      <td>2</td>\n      <td>moderate</td>\n    </tr>\n    <tr>\n      <th>4</th>\n      <td>24.59</td>\n      <td>3.61</td>\n      <td>Female</td>\n      <td>No</td>\n      <td>Sun</td>\n      <td>Dinner</td>\n      <td>4</td>\n      <td>moderate</td>\n    </tr>\n  </tbody>\n</table>\n</div>"
     },
     "metadata": {},
     "execution_count": 30
    }
   ],
   "source": [
    "df.head()"
   ]
  },
  {
   "cell_type": "code",
   "execution_count": null,
   "metadata": {},
   "outputs": [],
   "source": []
  }
 ]
}