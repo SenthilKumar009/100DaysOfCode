{
 "metadata": {
  "language_info": {
   "codemirror_mode": {
    "name": "ipython",
    "version": 3
   },
   "file_extension": ".py",
   "mimetype": "text/x-python",
   "name": "python",
   "nbconvert_exporter": "python",
   "pygments_lexer": "ipython3",
   "version": "3.8.3-final"
  },
  "orig_nbformat": 2,
  "kernelspec": {
   "name": "python38364bitcondae64fd4e37bd64244844cf698dee9177b",
   "display_name": "Python 3.8.3 64-bit (conda)"
  }
 },
 "nbformat": 4,
 "nbformat_minor": 2,
 "cells": [
  {
   "cell_type": "code",
   "execution_count": 1,
   "metadata": {},
   "outputs": [],
   "source": [
    "# 1. Import numpy library\n",
    "import numpy as np"
   ]
  },
  {
   "cell_type": "code",
   "execution_count": 2,
   "metadata": {
    "tags": []
   },
   "outputs": [
    {
     "output_type": "stream",
     "name": "stdout",
     "text": "1.18.1\n"
    }
   ],
   "source": [
    "# 2. print numpy version\n",
    "print(np.__version__)"
   ]
  },
  {
   "cell_type": "code",
   "execution_count": 3,
   "metadata": {
    "tags": []
   },
   "outputs": [
    {
     "output_type": "stream",
     "name": "stdout",
     "text": "[0. 0. 0. 0. 0. 0. 0. 0. 0. 0.]\n"
    }
   ],
   "source": [
    "# 3. Create a null vector of size 10\n",
    "arry = np.zeros(10)\n",
    "print(arry)"
   ]
  },
  {
   "cell_type": "code",
   "execution_count": 4,
   "metadata": {
    "tags": []
   },
   "outputs": [
    {
     "output_type": "stream",
     "name": "stdout",
     "text": "[0. 0. 0. 0. 1. 0. 0. 0. 0. 0.]\n"
    }
   ],
   "source": [
    "# 4. Create a null vector of size 10 but the fifth value which is 1\n",
    "arry = np.zeros(10)\n",
    "arry[4] = 1\n",
    "print(arry)"
   ]
  },
  {
   "cell_type": "code",
   "execution_count": 6,
   "metadata": {
    "tags": []
   },
   "outputs": [
    {
     "output_type": "stream",
     "name": "stdout",
     "text": "[10 11 12 13 14 15 16 17 18 19 20 21 22 23 24 25 26 27 28 29 30 31 32 33\n 34 35 36 37 38 39 40 41 42 43 44 45 46 47 48 49]\n"
    }
   ],
   "source": [
    "# 5. Create a vector with values ranging from 10 to 49\n",
    "arry = np.arange(10,50)\n",
    "print(arry)"
   ]
  },
  {
   "cell_type": "code",
   "execution_count": 7,
   "metadata": {
    "tags": []
   },
   "outputs": [
    {
     "output_type": "stream",
     "name": "stdout",
     "text": "[49 48 47 46 45 44 43 42 41 40 39 38 37 36 35 34 33 32 31 30 29 28 27 26\n 25 24 23 22 21 20 19 18 17 16 15 14 13 12 11 10]\n"
    }
   ],
   "source": [
    "# 6. Reverse a vector (first element becomes last)\n",
    "arry = arry[::-1]\n",
    "print(arry)"
   ]
  },
  {
   "cell_type": "code",
   "execution_count": 8,
   "metadata": {
    "tags": []
   },
   "outputs": [
    {
     "output_type": "stream",
     "name": "stdout",
     "text": "[[0 1 2]\n [3 4 5]\n [6 7 8]]\n"
    }
   ],
   "source": [
    "# 7. Create a 3x3 matrix with values ranging from 0 to 8\n",
    "matrix = np.arange(0,9).reshape(3,3)\n",
    "print(matrix)"
   ]
  },
  {
   "cell_type": "code",
   "execution_count": 9,
   "metadata": {
    "tags": []
   },
   "outputs": [
    {
     "output_type": "stream",
     "name": "stdout",
     "text": "(array([0, 1, 4]),)\n"
    }
   ],
   "source": [
    "# 8. Find indices of non­zero elements from [1,2,0,0,4,0]\n",
    "print(np.nonzero([1,2,0,0,4,0]))"
   ]
  },
  {
   "cell_type": "code",
   "execution_count": 10,
   "metadata": {
    "tags": []
   },
   "outputs": [
    {
     "output_type": "stream",
     "name": "stdout",
     "text": "[[1. 0. 0.]\n [0. 1. 0.]\n [0. 0. 1.]]\n"
    }
   ],
   "source": [
    "# 9. Create a 3x3 identity matrix\n",
    "print(np.eye(3,3))"
   ]
  },
  {
   "cell_type": "code",
   "execution_count": 12,
   "metadata": {
    "tags": []
   },
   "outputs": [
    {
     "output_type": "stream",
     "name": "stdout",
     "text": "[[[0.25753129 0.98275599 0.2521914 ]\n  [0.54052917 0.3415014  0.46529496]\n  [0.76234464 0.42288417 0.28897642]]\n\n [[0.03147016 0.36993218 0.25871069]\n  [0.17866461 0.06685515 0.22657354]\n  [0.39174793 0.1895266  0.68766351]]\n\n [[0.35576418 0.09659706 0.42921473]\n  [0.23535937 0.82947971 0.26988247]\n  [0.23086365 0.07712412 0.39204162]]]\n"
    }
   ],
   "source": [
    "# 11. Create a 3x3x3 array with random values\n",
    "print(np.random.random((3,3,3)))"
   ]
  },
  {
   "cell_type": "code",
   "execution_count": 20,
   "metadata": {
    "tags": []
   },
   "outputs": [
    {
     "output_type": "stream",
     "name": "stdout",
     "text": "0.02991843316245757 0.9635150719298464\n"
    }
   ],
   "source": [
    "# 12. Create a 10x10 array with random values and find the minimum and maximum values\n",
    "Z = np.random.random((10,10))\n",
    "print(Z.min(), Z.max())"
   ]
  },
  {
   "cell_type": "code",
   "execution_count": 22,
   "metadata": {
    "tags": []
   },
   "outputs": [
    {
     "output_type": "stream",
     "name": "stdout",
     "text": "0.5010298345595514\n"
    }
   ],
   "source": [
    "# 13. Create a random vector of size 30 and find the mean value\n",
    "Z = np.random.random((30))\n",
    "print(Z.mean())"
   ]
  },
  {
   "cell_type": "code",
   "execution_count": 23,
   "metadata": {
    "tags": []
   },
   "outputs": [
    {
     "output_type": "stream",
     "name": "stdout",
     "text": "[[1. 1. 1. 1. 1. 1. 1. 1. 1. 1.]\n [1. 0. 0. 0. 0. 0. 0. 0. 0. 1.]\n [1. 0. 0. 0. 0. 0. 0. 0. 0. 1.]\n [1. 0. 0. 0. 0. 0. 0. 0. 0. 1.]\n [1. 0. 0. 0. 0. 0. 0. 0. 0. 1.]\n [1. 0. 0. 0. 0. 0. 0. 0. 0. 1.]\n [1. 0. 0. 0. 0. 0. 0. 0. 0. 1.]\n [1. 0. 0. 0. 0. 0. 0. 0. 0. 1.]\n [1. 0. 0. 0. 0. 0. 0. 0. 0. 1.]\n [1. 1. 1. 1. 1. 1. 1. 1. 1. 1.]]\n"
    }
   ],
   "source": [
    "# 14. Create a 2d array with 1 on the border and 0 inside\n",
    "Z = np.ones((10,10))\n",
    "Z[1:-1,1:-1] = 0\n",
    "print(Z)"
   ]
  },
  {
   "cell_type": "code",
   "execution_count": 27,
   "metadata": {
    "tags": []
   },
   "outputs": [
    {
     "output_type": "stream",
     "name": "stdout",
     "text": "nan\nnan\nFalse\nFalse\nnan\nFalse\n"
    }
   ],
   "source": [
    "# 15. nan functionality\n",
    "print(np.nan)\n",
    "print( 0 * np.nan)\n",
    "print( np.nan == np.nan)\n",
    "print(np.inf > np.nan)\n",
    "print(np.nan - np.nan)\n",
    "print(0.3 == 3 * 0.1)"
   ]
  },
  {
   "cell_type": "code",
   "execution_count": 28,
   "metadata": {
    "tags": []
   },
   "outputs": [
    {
     "output_type": "stream",
     "name": "stdout",
     "text": "[[0 0 0 0 0]\n [1 0 0 0 0]\n [0 2 0 0 0]\n [0 0 3 0 0]\n [0 0 0 4 0]]\n"
    }
   ],
   "source": [
    "# 16. Create a 5x5 matrix with values 1,2,3,4 just below the diagonal (★☆☆)\n",
    "Z = np.diag(1+np.arange(4),k=-1)\n",
    "print(Z)"
   ]
  },
  {
   "cell_type": "code",
   "execution_count": 44,
   "metadata": {
    "tags": []
   },
   "outputs": [
    {
     "output_type": "stream",
     "name": "stdout",
     "text": "[[0 0 0 0 0]\n [1 0 0 0 0]\n [0 2 0 0 0]\n [0 0 3 0 0]\n [0 0 0 4 0]]\n"
    }
   ],
   "source": [
    "print(np.diag(1+np.arange(4), k=-1))"
   ]
  },
  {
   "cell_type": "code",
   "execution_count": 45,
   "metadata": {
    "tags": []
   },
   "outputs": [
    {
     "output_type": "stream",
     "name": "stdout",
     "text": "[[0 1 0 1 0 1 0 1]\n [1 0 1 0 1 0 1 0]\n [0 1 0 1 0 1 0 1]\n [1 0 1 0 1 0 1 0]\n [0 1 0 1 0 1 0 1]\n [1 0 1 0 1 0 1 0]\n [0 1 0 1 0 1 0 1]\n [1 0 1 0 1 0 1 0]]\n"
    }
   ],
   "source": [
    "# 17. Create a 8x8 matrix and fill it with a checkerboard pattern (★☆☆)\n",
    "Z = np.zeros((8,8),dtype=int)\n",
    "Z[1::2,::2] = 1\n",
    "Z[::2,1::2] = 1\n",
    "print(Z)"
   ]
  },
  {
   "cell_type": "code",
   "execution_count": null,
   "metadata": {},
   "outputs": [],
   "source": []
  }
 ]
}