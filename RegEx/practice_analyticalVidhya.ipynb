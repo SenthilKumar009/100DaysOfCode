{
 "metadata": {
  "language_info": {
   "codemirror_mode": {
    "name": "ipython",
    "version": 3
   },
   "file_extension": ".py",
   "mimetype": "text/x-python",
   "name": "python",
   "nbconvert_exporter": "python",
   "pygments_lexer": "ipython3",
   "version": "3.8.5-final"
  },
  "orig_nbformat": 2,
  "kernelspec": {
   "name": "python3",
   "display_name": "Python 3",
   "language": "python"
  }
 },
 "nbformat": 4,
 "nbformat_minor": 2,
 "cells": [
  {
   "cell_type": "code",
   "execution_count": 2,
   "metadata": {},
   "outputs": [],
   "source": [
    "import re"
   ]
  },
  {
   "source": [
    "### The most common uses of regular expressions are:\n",
    "* Search a String(Search and match)\n",
    "* Finding a string (findall)\n",
    "* Break string into a sub strings (split)\n",
    "* Replace part of a string(sub)"
   ],
   "cell_type": "markdown",
   "metadata": {}
  },
  {
   "source": [
    "### Various method of Regular Expressions:\n",
    "\n",
    "1. re.match()\n",
    "2. re.search()\n",
    "3. re.findall()\n",
    "4. re.split()\n",
    "5. re.sub()\n",
    "6. re.compile()\n"
   ],
   "cell_type": "markdown",
   "metadata": {}
  },
  {
   "cell_type": "code",
   "execution_count": 3,
   "metadata": {},
   "outputs": [
    {
     "output_type": "stream",
     "name": "stdout",
     "text": [
      "AV\n0\n2\nAV\n"
     ]
    }
   ],
   "source": [
    "### re.match(pattern, string) - This will help to match if it occurs at start of the string\n",
    "\n",
    "result = re.match(r'AV', 'AV Analytica Vidhya - AV')\n",
    "\n",
    "print(result.group(0))\n",
    "print(result.start())\n",
    "print(result.end())\n",
    "print(result.group(0))"
   ]
  },
  {
   "cell_type": "code",
   "execution_count": 4,
   "metadata": {},
   "outputs": [
    {
     "output_type": "stream",
     "name": "stdout",
     "text": [
      "Vidhya\n"
     ]
    }
   ],
   "source": [
    "# re.search(pattern, string) -> unlike match function, it helps to find the pattern from the complete string\n",
    "result = re.search(r'Vidhya', 'Analytics Vidhya - AV')\n",
    "print(result.group(0))"
   ]
  },
  {
   "cell_type": "code",
   "execution_count": 5,
   "metadata": {},
   "outputs": [
    {
     "output_type": "stream",
     "name": "stdout",
     "text": [
      "['AV']\n['AV', 'AV']\n"
     ]
    }
   ],
   "source": [
    "### re.finall(pattern, string) -> it will find all the matching string and return as a list\n",
    "result = re.findall(r'AV', 'Analytics Vidhya - AV')\n",
    "print(result)\n",
    "\n",
    "result = re.findall(r'AV', 'AV Analytics Vidhya - AV')\n",
    "print(result)"
   ]
  },
  {
   "cell_type": "code",
   "execution_count": 6,
   "metadata": {},
   "outputs": [
    {
     "output_type": "stream",
     "name": "stdout",
     "text": [
      "['Anal', 'tics']\n['Analyt', 'cs V', 'dhya']\n['Analyt', 'cs Vidhya']\n"
     ]
    }
   ],
   "source": [
    "### re.split(pattern, string, [maxsplit=0]) -> split the string by occurance of the given pattern\n",
    "\n",
    "result = re.split(r'y', 'Analytics')\n",
    "print(result)\n",
    "\n",
    "result = re.split(r'i', 'Analytics Vidhya')\n",
    "print(result)\n",
    "\n",
    "result = re.split(r'i', 'Analytics Vidhya', maxsplit=1) # --> split the string by max 2 string\n",
    "print(result)"
   ]
  },
  {
   "cell_type": "code",
   "execution_count": 7,
   "metadata": {},
   "outputs": [
    {
     "output_type": "execute_result",
     "data": {
      "text/plain": [
       "'AV is largest Analytics community of the world'"
      ]
     },
     "metadata": {},
     "execution_count": 7
    }
   ],
   "source": [
    "### re.sub(pattern, repl, string) -> search and replace the string based on the pattern\n",
    "\n",
    "result = re.sub(r'India', 'the world', 'AV is largest Analytics community of India')\n",
    "result"
   ]
  },
  {
   "cell_type": "code",
   "execution_count": 9,
   "metadata": {},
   "outputs": [
    {
     "output_type": "stream",
     "name": "stdout",
     "text": [
      "['AV', 'AV']\n"
     ]
    },
    {
     "output_type": "execute_result",
     "data": {
      "text/plain": [
       "['AV']"
      ]
     },
     "metadata": {},
     "execution_count": 9
    }
   ],
   "source": [
    "### re.compile(pattern, repl, string) -> We can combine a regular expression pattern into pattern objects. Which can be used to work with other function as well.\n",
    "\n",
    "pattern = re.compile('AV')\n",
    "result = pattern.findall('AV Analytics Vidhya AV')\n",
    "print(result)\n",
    "result = pattern.findall('AV is largest Analytics community of India')\n",
    "result"
   ]
  },
  {
   "source": [
    "# Regular Expression with the Operators"
   ],
   "cell_type": "markdown",
   "metadata": {}
  },
  {
   "cell_type": "code",
   "execution_count": 12,
   "metadata": {},
   "outputs": [
    {
     "output_type": "stream",
     "name": "stdout",
     "text": [
      "['A', 'V', ' ', 'i', 's', ' ', 'l', 'a', 'r', 'g', 'e', 's', 't', ' ', 'A', 'n', 'a', 'l', 'y', 't', 'i', 'c', 's', ' ', 'c', 'o', 'm', 'm', 'u', 'n', 'i', 't', 'y', ' ', 'o', 'f', ' ', 'I', 'n', 'd', 'i', 'a']\nWith \\w\n['A', 'V', 'i', 's', 'l', 'a', 'r', 'g', 'e', 's', 't', 'A', 'n', 'a', 'l', 'y', 't', 'i', 'c', 's', 'c', 'o', 'm', 'm', 'u', 'n', 'i', 't', 'y', 'o', 'f', 'I', 'n', 'd', 'i', 'a']\n"
     ]
    }
   ],
   "source": [
    "### Problem 1: Return the first word of the given String\n",
    "### Solution 1 -> Extract each char using '\\w'\n",
    "\n",
    "result = re.findall(r'.', 'AV is largest Analytics community of India')\n",
    "print(result)\n",
    "\n",
    "# Above solution will return the (space) as we;ll with the results.\n",
    "# '/w' -> will return the alphanumeric character from the given string\n",
    "print('With \\w')\n",
    "result = re.findall(r'\\w', 'AV is largest Analytics community of India')\n",
    "print(result)"
   ]
  },
  {
   "cell_type": "code",
   "execution_count": 14,
   "metadata": {},
   "outputs": [
    {
     "output_type": "stream",
     "name": "stdout",
     "text": [
      "['AV', '', 'is', '', 'largest', '', 'Analytics', '', 'community', '', 'of', '', 'India', '']\nWith +\n['AV', 'is', 'largest', 'Analytics', 'community', 'of', 'India']\n"
     ]
    }
   ],
   "source": [
    "### Solution 2 -> Extract each word using '+' or '*'\n",
    "\n",
    "result = re.findall(r'\\w*', 'AV is largest Analytics community of India')\n",
    "print(result)\n",
    "\n",
    "# Above solution will return the (space) as well with the results, since it will return 0 or more words\n",
    "\n",
    "# '+' -> will return the 1 or more words from the given string\n",
    "print('With +')\n",
    "result = re.findall(r'\\w+', 'AV is largest Analytics community of India')\n",
    "print(result)"
   ]
  },
  {
   "cell_type": "code",
   "execution_count": 19,
   "metadata": {},
   "outputs": [
    {
     "output_type": "stream",
     "name": "stdout",
     "text": [
      "['AV']\n['India']\n"
     ]
    }
   ],
   "source": [
    "### Solution 3 -> Extract the first string from the given sentance\n",
    "result = re.findall(r'^\\w+', 'AV is largest Analytics community of India')\n",
    "print(result)\n",
    "\n",
    "result = re.findall(r'\\w+$', 'AV is largest Analytics community of India')\n",
    "print(result)"
   ]
  },
  {
   "cell_type": "code",
   "execution_count": 20,
   "metadata": {},
   "outputs": [
    {
     "output_type": "stream",
     "name": "stdout",
     "text": [
      "['AV', 'is', 'la', 'rg', 'es', 'An', 'al', 'yt', 'ic', 'co', 'mm', 'un', 'it', 'of', 'In', 'di']\n"
     ]
    }
   ],
   "source": [
    "### Problem 2: Retuen the first two character of each word\n",
    "### Solution 1 - Extract consecutive two characters of each word, execluding spaces (using '\\w')\n",
    "result = re.findall(r'\\w\\w', 'AV is largest Analytics community of India')\n",
    "print(result)"
   ]
  },
  {
   "cell_type": "code",
   "execution_count": 24,
   "metadata": {},
   "outputs": [
    {
     "output_type": "stream",
     "name": "stdout",
     "text": [
      "['AV', 'is', 'la', 'An', 'co', 'of', 'In']\n"
     ]
    }
   ],
   "source": [
    "### Solution 2 -> Extract 2 words from the sentance using boundary function\n",
    "result = re.findall(r'\\b\\w.', 'AV is largest Analytics community of India')\n",
    "print(result)"
   ]
  },
  {
   "cell_type": "code",
   "execution_count": 30,
   "metadata": {},
   "outputs": [
    {
     "output_type": "stream",
     "name": "stdout",
     "text": [
      "['@gmail', '@yahoo', '@acc']\n['@gmail.com', '@yahoo.in', '@acc.in']\n['com', 'in', 'in']\n"
     ]
    }
   ],
   "source": [
    "### Problem 3: Return the domain type of given email_ids\n",
    "# Step 1: Extract the characters after @\n",
    "\n",
    "result = re.findall(r'@\\w+', 'abc.test@gmail.com, xyz@yahoo.in, test.first@acc.in')\n",
    "print(result)\n",
    "\n",
    "result = re.findall(r'@\\w+.\\w+', 'abc.test@gmail.com, xyz@yahoo.in, test.first@acc.in')\n",
    "print(result)\n",
    "\n",
    "# Step 2: Extract only the domain name\n",
    "result = re.findall(r'@\\w+.(\\w+)', 'abc.test@gmail.com, xyz@yahoo.in, test.first@acc.in')\n",
    "print(result)\n"
   ]
  },
  {
   "cell_type": "code",
   "execution_count": 31,
   "metadata": {},
   "outputs": [
    {
     "output_type": "stream",
     "name": "stdout",
     "text": [
      "['12-05-2021', '12-12-2020']\n"
     ]
    }
   ],
   "source": [
    "### Problem 4: Return the date from the given String\n",
    "# Solution 1: using '\\d' we can extract the numeric values\n",
    "result = re.findall(r'\\d{2}-\\d{2}-\\d{4}', 'Amit 34-2332 12-05-2021, XYX 23-2342 12-12-2020')\n",
    "print(result) "
   ]
  },
  {
   "cell_type": "code",
   "execution_count": 32,
   "metadata": {},
   "outputs": [
    {
     "output_type": "stream",
     "name": "stdout",
     "text": [
      "['2021', '2020']\n"
     ]
    }
   ],
   "source": [
    "# To print only the year\n",
    "result = re.findall(r'\\d{2}-\\d{2}-(\\d{4})', 'Amit 34-2332 12-05-2021, XYX 23-2342 12-12-2020')\n",
    "print(result) "
   ]
  },
  {
   "cell_type": "code",
   "execution_count": 35,
   "metadata": {},
   "outputs": [
    {
     "output_type": "stream",
     "name": "stdout",
     "text": [
      "['AV', 'is', 'Analytics', 'of', 'India']\n"
     ]
    }
   ],
   "source": [
    "### Problem 5: Return all words of a string those starts with Vowel\n",
    "# Solution 1:\n",
    "result = re.findall(r'\\b[aeiouAEIOU]\\w+', 'AV is largest Analytics community of India')\n",
    "print(result) "
   ]
  },
  {
   "cell_type": "code",
   "execution_count": 37,
   "metadata": {},
   "outputs": [
    {
     "output_type": "stream",
     "name": "stdout",
     "text": [
      "['largest', 'community']\n"
     ]
    }
   ],
   "source": [
    "### Problem 6: Return all words of a string those not starts with Vowel\n",
    "# Solution 1:\n",
    "result = re.findall(r'\\b[^aeiouAEIOU ]\\w+', 'AV is largest Analytics community of India')\n",
    "print(result) "
   ]
  },
  {
   "cell_type": "code",
   "execution_count": null,
   "metadata": {},
   "outputs": [],
   "source": []
  }
 ]
}